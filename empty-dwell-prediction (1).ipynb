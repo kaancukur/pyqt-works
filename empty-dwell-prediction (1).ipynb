{
 "cells": [
  {
   "cell_type": "code",
   "execution_count": 1,
   "id": "5dbfff83",
   "metadata": {
    "_cell_guid": "b1076dfc-b9ad-4769-8c92-a6c4dae69d19",
    "_uuid": "8f2839f25d086af736a60e9eeb907d3b93b6e0e5",
    "execution": {
     "iopub.execute_input": "2023-04-28T06:39:54.675449Z",
     "iopub.status.busy": "2023-04-28T06:39:54.674884Z",
     "iopub.status.idle": "2023-04-28T06:40:07.416849Z",
     "shell.execute_reply": "2023-04-28T06:40:07.415420Z"
    },
    "papermill": {
     "duration": 12.781342,
     "end_time": "2023-04-28T06:40:07.419811",
     "exception": false,
     "start_time": "2023-04-28T06:39:54.638469",
     "status": "completed"
    },
    "tags": []
   },
   "outputs": [
    {
     "name": "stdout",
     "output_type": "stream",
     "text": [
      "Collecting lazypredict\r\n",
      "  Downloading lazypredict-0.2.12-py2.py3-none-any.whl (12 kB)\r\n",
      "Requirement already satisfied: xgboost in /opt/conda/lib/python3.7/site-packages (from lazypredict) (1.6.2)\r\n",
      "Requirement already satisfied: joblib in /opt/conda/lib/python3.7/site-packages (from lazypredict) (1.2.0)\r\n",
      "Requirement already satisfied: tqdm in /opt/conda/lib/python3.7/site-packages (from lazypredict) (4.64.1)\r\n",
      "Requirement already satisfied: lightgbm in /opt/conda/lib/python3.7/site-packages (from lazypredict) (3.3.2)\r\n",
      "Requirement already satisfied: click in /opt/conda/lib/python3.7/site-packages (from lazypredict) (8.1.3)\r\n",
      "Requirement already satisfied: pandas in /opt/conda/lib/python3.7/site-packages (from lazypredict) (1.3.5)\r\n",
      "Requirement already satisfied: scikit-learn in /opt/conda/lib/python3.7/site-packages (from lazypredict) (1.0.2)\r\n",
      "Requirement already satisfied: importlib-metadata in /opt/conda/lib/python3.7/site-packages (from click->lazypredict) (4.11.4)\r\n",
      "Requirement already satisfied: numpy in /opt/conda/lib/python3.7/site-packages (from lightgbm->lazypredict) (1.21.6)\r\n",
      "Requirement already satisfied: scipy in /opt/conda/lib/python3.7/site-packages (from lightgbm->lazypredict) (1.7.3)\r\n",
      "Requirement already satisfied: wheel in /opt/conda/lib/python3.7/site-packages (from lightgbm->lazypredict) (0.38.4)\r\n",
      "Requirement already satisfied: threadpoolctl>=2.0.0 in /opt/conda/lib/python3.7/site-packages (from scikit-learn->lazypredict) (3.1.0)\r\n",
      "Requirement already satisfied: python-dateutil>=2.7.3 in /opt/conda/lib/python3.7/site-packages (from pandas->lazypredict) (2.8.2)\r\n",
      "Requirement already satisfied: pytz>=2017.3 in /opt/conda/lib/python3.7/site-packages (from pandas->lazypredict) (2022.7.1)\r\n",
      "Requirement already satisfied: six>=1.5 in /opt/conda/lib/python3.7/site-packages (from python-dateutil>=2.7.3->pandas->lazypredict) (1.16.0)\r\n",
      "Requirement already satisfied: typing-extensions>=3.6.4 in /opt/conda/lib/python3.7/site-packages (from importlib-metadata->click->lazypredict) (4.4.0)\r\n",
      "Requirement already satisfied: zipp>=0.5 in /opt/conda/lib/python3.7/site-packages (from importlib-metadata->click->lazypredict) (3.11.0)\r\n",
      "Installing collected packages: lazypredict\r\n",
      "Successfully installed lazypredict-0.2.12\r\n",
      "\u001b[33mWARNING: Running pip as the 'root' user can result in broken permissions and conflicting behaviour with the system package manager. It is recommended to use a virtual environment instead: https://pip.pypa.io/warnings/venv\u001b[0m\u001b[33m\r\n",
      "\u001b[0m"
     ]
    }
   ],
   "source": [
    "!pip install lazypredict\n"
   ]
  },
  {
   "cell_type": "code",
   "execution_count": 2,
   "id": "128019e2",
   "metadata": {
    "execution": {
     "iopub.execute_input": "2023-04-28T06:40:07.484565Z",
     "iopub.status.busy": "2023-04-28T06:40:07.483311Z",
     "iopub.status.idle": "2023-04-28T06:40:11.790363Z",
     "shell.execute_reply": "2023-04-28T06:40:11.789168Z"
    },
    "papermill": {
     "duration": 4.343312,
     "end_time": "2023-04-28T06:40:11.793604",
     "exception": false,
     "start_time": "2023-04-28T06:40:07.450292",
     "status": "completed"
    },
    "tags": []
   },
   "outputs": [
    {
     "data": {
      "text/html": [
       "<style type='text/css'>\n",
       ".datatable table.frame { margin-bottom: 0; }\n",
       ".datatable table.frame thead { border-bottom: none; }\n",
       ".datatable table.frame tr.coltypes td {  color: #FFFFFF;  line-height: 6px;  padding: 0 0.5em;}\n",
       ".datatable .bool    { background: #DDDD99; }\n",
       ".datatable .object  { background: #565656; }\n",
       ".datatable .int     { background: #5D9E5D; }\n",
       ".datatable .float   { background: #4040CC; }\n",
       ".datatable .str     { background: #CC4040; }\n",
       ".datatable .time    { background: #40CC40; }\n",
       ".datatable .row_index {  background: var(--jp-border-color3);  border-right: 1px solid var(--jp-border-color0);  color: var(--jp-ui-font-color3);  font-size: 9px;}\n",
       ".datatable .frame tbody td { text-align: left; }\n",
       ".datatable .frame tr.coltypes .row_index {  background: var(--jp-border-color0);}\n",
       ".datatable th:nth-child(2) { padding-left: 12px; }\n",
       ".datatable .hellipsis {  color: var(--jp-cell-editor-border-color);}\n",
       ".datatable .vellipsis {  background: var(--jp-layout-color0);  color: var(--jp-cell-editor-border-color);}\n",
       ".datatable .na {  color: var(--jp-cell-editor-border-color);  font-size: 80%;}\n",
       ".datatable .sp {  opacity: 0.25;}\n",
       ".datatable .footer { font-size: 9px; }\n",
       ".datatable .frame_dimensions {  background: var(--jp-border-color3);  border-top: 1px solid var(--jp-border-color0);  color: var(--jp-ui-font-color3);  display: inline-block;  opacity: 0.6;  padding: 1px 10px 1px 5px;}\n",
       "</style>\n"
      ],
      "text/plain": [
       "<IPython.core.display.HTML object>"
      ]
     },
     "metadata": {},
     "output_type": "display_data"
    }
   ],
   "source": [
    "import pandas as pd\n",
    "import numpy as np\n",
    "import matplotlib.pyplot as plt\n",
    "import seaborn as sns\n",
    "import lazypredict\n",
    "from lazypredict.Supervised import LazyRegressor\n",
    "from sklearn.metrics import mean_squared_error, r2_score\n",
    "from sklearn.model_selection import train_test_split, GridSearchCV\n",
    "from xgboost import XGBRegressor\n",
    "from sklearn.metrics import mean_absolute_error"
   ]
  },
  {
   "cell_type": "code",
   "execution_count": 3,
   "id": "70be31c6",
   "metadata": {
    "execution": {
     "iopub.execute_input": "2023-04-28T06:40:11.857297Z",
     "iopub.status.busy": "2023-04-28T06:40:11.856779Z",
     "iopub.status.idle": "2023-04-28T06:40:35.072189Z",
     "shell.execute_reply": "2023-04-28T06:40:35.070887Z"
    },
    "papermill": {
     "duration": 23.251333,
     "end_time": "2023-04-28T06:40:35.075103",
     "exception": false,
     "start_time": "2023-04-28T06:40:11.823770",
     "status": "completed"
    },
    "tags": []
   },
   "outputs": [
    {
     "data": {
      "text/html": [
       "<div>\n",
       "<style scoped>\n",
       "    .dataframe tbody tr th:only-of-type {\n",
       "        vertical-align: middle;\n",
       "    }\n",
       "\n",
       "    .dataframe tbody tr th {\n",
       "        vertical-align: top;\n",
       "    }\n",
       "\n",
       "    .dataframe thead th {\n",
       "        text-align: right;\n",
       "    }\n",
       "</style>\n",
       "<table border=\"1\" class=\"dataframe\">\n",
       "  <thead>\n",
       "    <tr style=\"text-align: right;\">\n",
       "      <th></th>\n",
       "      <th>CNTR_ID</th>\n",
       "      <th>FIRST_OP</th>\n",
       "      <th>OPERATION_DT</th>\n",
       "      <th>WeekofYear</th>\n",
       "      <th>WeekDay</th>\n",
       "      <th>Hour</th>\n",
       "      <th>ORG_C</th>\n",
       "      <th>DG_IMO_CLASS_C</th>\n",
       "      <th>ımoORnot</th>\n",
       "      <th>SIZE_Q</th>\n",
       "      <th>OPERATOR_C</th>\n",
       "      <th>DayOfMonth</th>\n",
       "      <th>FIRST_OP_MONTH</th>\n",
       "      <th>FIRST_OP_YEAR</th>\n",
       "      <th>DELIVERY_BOOKING_I</th>\n",
       "      <th>TYPE_C</th>\n",
       "      <th>Reefer</th>\n",
       "      <th>TOTAL_DWELL_DAYS</th>\n",
       "    </tr>\n",
       "  </thead>\n",
       "  <tbody>\n",
       "    <tr>\n",
       "      <th>0</th>\n",
       "      <td>47451171</td>\n",
       "      <td>UTFF</td>\n",
       "      <td>2023-01-12 14:37:33</td>\n",
       "      <td>2</td>\n",
       "      <td>4</td>\n",
       "      <td>14</td>\n",
       "      <td>CMA CGM</td>\n",
       "      <td>0.00</td>\n",
       "      <td>0</td>\n",
       "      <td>40</td>\n",
       "      <td>CMA</td>\n",
       "      <td>12</td>\n",
       "      <td>1</td>\n",
       "      <td>2023</td>\n",
       "      <td>1</td>\n",
       "      <td>Reefer</td>\n",
       "      <td>1</td>\n",
       "      <td>40</td>\n",
       "    </tr>\n",
       "    <tr>\n",
       "      <th>1</th>\n",
       "      <td>47451172</td>\n",
       "      <td>UTFF</td>\n",
       "      <td>2023-01-12 14:37:59</td>\n",
       "      <td>2</td>\n",
       "      <td>4</td>\n",
       "      <td>14</td>\n",
       "      <td>CMA CGM</td>\n",
       "      <td>0.00</td>\n",
       "      <td>0</td>\n",
       "      <td>40</td>\n",
       "      <td>CMA</td>\n",
       "      <td>12</td>\n",
       "      <td>1</td>\n",
       "      <td>2023</td>\n",
       "      <td>1</td>\n",
       "      <td>Reefer</td>\n",
       "      <td>1</td>\n",
       "      <td>40</td>\n",
       "    </tr>\n",
       "    <tr>\n",
       "      <th>2</th>\n",
       "      <td>47451173</td>\n",
       "      <td>UTFF</td>\n",
       "      <td>2023-01-12 14:38:36</td>\n",
       "      <td>2</td>\n",
       "      <td>4</td>\n",
       "      <td>14</td>\n",
       "      <td>CMA CGM</td>\n",
       "      <td>0.00</td>\n",
       "      <td>0</td>\n",
       "      <td>40</td>\n",
       "      <td>CMA</td>\n",
       "      <td>12</td>\n",
       "      <td>1</td>\n",
       "      <td>2023</td>\n",
       "      <td>1</td>\n",
       "      <td>Reefer</td>\n",
       "      <td>1</td>\n",
       "      <td>40</td>\n",
       "    </tr>\n",
       "    <tr>\n",
       "      <th>3</th>\n",
       "      <td>47451174</td>\n",
       "      <td>ARIV</td>\n",
       "      <td>2023-01-12 19:37:44</td>\n",
       "      <td>2</td>\n",
       "      <td>4</td>\n",
       "      <td>19</td>\n",
       "      <td>MAERSK</td>\n",
       "      <td>8.00</td>\n",
       "      <td>1</td>\n",
       "      <td>20</td>\n",
       "      <td>MSK</td>\n",
       "      <td>12</td>\n",
       "      <td>1</td>\n",
       "      <td>2023</td>\n",
       "      <td>0</td>\n",
       "      <td>OTHERS</td>\n",
       "      <td>0</td>\n",
       "      <td>17</td>\n",
       "    </tr>\n",
       "    <tr>\n",
       "      <th>4</th>\n",
       "      <td>47451175</td>\n",
       "      <td>ARIV</td>\n",
       "      <td>2023-01-13 00:40:07</td>\n",
       "      <td>2</td>\n",
       "      <td>5</td>\n",
       "      <td>0</td>\n",
       "      <td>MAERSK</td>\n",
       "      <td>8.00</td>\n",
       "      <td>1</td>\n",
       "      <td>20</td>\n",
       "      <td>MSK</td>\n",
       "      <td>13</td>\n",
       "      <td>1</td>\n",
       "      <td>2023</td>\n",
       "      <td>0</td>\n",
       "      <td>OTHERS</td>\n",
       "      <td>0</td>\n",
       "      <td>16</td>\n",
       "    </tr>\n",
       "  </tbody>\n",
       "</table>\n",
       "</div>"
      ],
      "text/plain": [
       "    CNTR_ID FIRST_OP        OPERATION_DT  WeekofYear  WeekDay  Hour    ORG_C  \\\n",
       "0  47451171     UTFF 2023-01-12 14:37:33           2        4    14  CMA CGM   \n",
       "1  47451172     UTFF 2023-01-12 14:37:59           2        4    14  CMA CGM   \n",
       "2  47451173     UTFF 2023-01-12 14:38:36           2        4    14  CMA CGM   \n",
       "3  47451174     ARIV 2023-01-12 19:37:44           2        4    19   MAERSK   \n",
       "4  47451175     ARIV 2023-01-13 00:40:07           2        5     0   MAERSK   \n",
       "\n",
       "   DG_IMO_CLASS_C  ımoORnot  SIZE_Q OPERATOR_C  DayOfMonth  FIRST_OP_MONTH  \\\n",
       "0            0.00         0      40        CMA          12               1   \n",
       "1            0.00         0      40        CMA          12               1   \n",
       "2            0.00         0      40        CMA          12               1   \n",
       "3            8.00         1      20        MSK          12               1   \n",
       "4            8.00         1      20        MSK          13               1   \n",
       "\n",
       "   FIRST_OP_YEAR  DELIVERY_BOOKING_I  TYPE_C  Reefer  TOTAL_DWELL_DAYS  \n",
       "0           2023                   1  Reefer       1                40  \n",
       "1           2023                   1  Reefer       1                40  \n",
       "2           2023                   1  Reefer       1                40  \n",
       "3           2023                   0  OTHERS       0                17  \n",
       "4           2023                   0  OTHERS       0                16  "
      ]
     },
     "execution_count": 3,
     "metadata": {},
     "output_type": "execute_result"
    }
   ],
   "source": [
    "df_=pd.read_excel(\"/kaggle/input/empty-raw-2023/2023 EMPTY DWELL(RAW DATA) (V2).xlsx\")\n",
    "df=df_.copy()\n",
    "df.head()"
   ]
  },
  {
   "cell_type": "code",
   "execution_count": 4,
   "id": "03f15e35",
   "metadata": {
    "execution": {
     "iopub.execute_input": "2023-04-28T06:40:35.138762Z",
     "iopub.status.busy": "2023-04-28T06:40:35.138124Z",
     "iopub.status.idle": "2023-04-28T06:40:35.145718Z",
     "shell.execute_reply": "2023-04-28T06:40:35.144263Z"
    },
    "papermill": {
     "duration": 0.042165,
     "end_time": "2023-04-28T06:40:35.148175",
     "exception": false,
     "start_time": "2023-04-28T06:40:35.106010",
     "status": "completed"
    },
    "tags": []
   },
   "outputs": [
    {
     "data": {
      "text/plain": [
       "(73986, 18)"
      ]
     },
     "execution_count": 4,
     "metadata": {},
     "output_type": "execute_result"
    }
   ],
   "source": [
    "df.shape"
   ]
  },
  {
   "cell_type": "code",
   "execution_count": 5,
   "id": "919c0f74",
   "metadata": {
    "execution": {
     "iopub.execute_input": "2023-04-28T06:40:35.211736Z",
     "iopub.status.busy": "2023-04-28T06:40:35.210953Z",
     "iopub.status.idle": "2023-04-28T06:40:35.257979Z",
     "shell.execute_reply": "2023-04-28T06:40:35.256615Z"
    },
    "papermill": {
     "duration": 0.082208,
     "end_time": "2023-04-28T06:40:35.260778",
     "exception": false,
     "start_time": "2023-04-28T06:40:35.178570",
     "status": "completed"
    },
    "tags": []
   },
   "outputs": [
    {
     "name": "stdout",
     "output_type": "stream",
     "text": [
      "<class 'pandas.core.frame.DataFrame'>\n",
      "RangeIndex: 73986 entries, 0 to 73985\n",
      "Data columns (total 18 columns):\n",
      " #   Column              Non-Null Count  Dtype         \n",
      "---  ------              --------------  -----         \n",
      " 0   CNTR_ID             73986 non-null  int64         \n",
      " 1   FIRST_OP            73986 non-null  object        \n",
      " 2   OPERATION_DT        73986 non-null  datetime64[ns]\n",
      " 3   WeekofYear          73986 non-null  int64         \n",
      " 4   WeekDay             73986 non-null  int64         \n",
      " 5   Hour                73986 non-null  int64         \n",
      " 6   ORG_C               73986 non-null  object        \n",
      " 7   DG_IMO_CLASS_C      73986 non-null  float64       \n",
      " 8   ımoORnot            73986 non-null  int64         \n",
      " 9   SIZE_Q              73986 non-null  int64         \n",
      " 10  OPERATOR_C          73986 non-null  object        \n",
      " 11  DayOfMonth          73986 non-null  int64         \n",
      " 12  FIRST_OP_MONTH      73986 non-null  int64         \n",
      " 13  FIRST_OP_YEAR       73986 non-null  int64         \n",
      " 14  DELIVERY_BOOKING_I  73986 non-null  int64         \n",
      " 15  TYPE_C              73986 non-null  object        \n",
      " 16  Reefer              73986 non-null  int64         \n",
      " 17  TOTAL_DWELL_DAYS    73986 non-null  int64         \n",
      "dtypes: datetime64[ns](1), float64(1), int64(12), object(4)\n",
      "memory usage: 10.2+ MB\n"
     ]
    }
   ],
   "source": [
    "df.info()"
   ]
  },
  {
   "cell_type": "code",
   "execution_count": 6,
   "id": "f81a73be",
   "metadata": {
    "execution": {
     "iopub.execute_input": "2023-04-28T06:40:35.325879Z",
     "iopub.status.busy": "2023-04-28T06:40:35.325153Z",
     "iopub.status.idle": "2023-04-28T06:40:35.351958Z",
     "shell.execute_reply": "2023-04-28T06:40:35.350615Z"
    },
    "papermill": {
     "duration": 0.062502,
     "end_time": "2023-04-28T06:40:35.354529",
     "exception": false,
     "start_time": "2023-04-28T06:40:35.292027",
     "status": "completed"
    },
    "tags": []
   },
   "outputs": [
    {
     "data": {
      "text/plain": [
       "CNTR_ID               0\n",
       "FIRST_OP              0\n",
       "OPERATION_DT          0\n",
       "WeekofYear            0\n",
       "WeekDay               0\n",
       "Hour                  0\n",
       "ORG_C                 0\n",
       "DG_IMO_CLASS_C        0\n",
       "ımoORnot              0\n",
       "SIZE_Q                0\n",
       "OPERATOR_C            0\n",
       "DayOfMonth            0\n",
       "FIRST_OP_MONTH        0\n",
       "FIRST_OP_YEAR         0\n",
       "DELIVERY_BOOKING_I    0\n",
       "TYPE_C                0\n",
       "Reefer                0\n",
       "TOTAL_DWELL_DAYS      0\n",
       "dtype: int64"
      ]
     },
     "execution_count": 6,
     "metadata": {},
     "output_type": "execute_result"
    }
   ],
   "source": [
    "df.isnull().sum()"
   ]
  },
  {
   "cell_type": "code",
   "execution_count": 7,
   "id": "01e5f44d",
   "metadata": {
    "execution": {
     "iopub.execute_input": "2023-04-28T06:40:35.419759Z",
     "iopub.status.busy": "2023-04-28T06:40:35.419038Z",
     "iopub.status.idle": "2023-04-28T06:40:35.495816Z",
     "shell.execute_reply": "2023-04-28T06:40:35.494185Z"
    },
    "papermill": {
     "duration": 0.112568,
     "end_time": "2023-04-28T06:40:35.498604",
     "exception": false,
     "start_time": "2023-04-28T06:40:35.386036",
     "status": "completed"
    },
    "tags": []
   },
   "outputs": [
    {
     "data": {
      "text/html": [
       "<div>\n",
       "<style scoped>\n",
       "    .dataframe tbody tr th:only-of-type {\n",
       "        vertical-align: middle;\n",
       "    }\n",
       "\n",
       "    .dataframe tbody tr th {\n",
       "        vertical-align: top;\n",
       "    }\n",
       "\n",
       "    .dataframe thead th {\n",
       "        text-align: right;\n",
       "    }\n",
       "</style>\n",
       "<table border=\"1\" class=\"dataframe\">\n",
       "  <thead>\n",
       "    <tr style=\"text-align: right;\">\n",
       "      <th></th>\n",
       "      <th>count</th>\n",
       "      <th>mean</th>\n",
       "      <th>std</th>\n",
       "      <th>min</th>\n",
       "      <th>25%</th>\n",
       "      <th>50%</th>\n",
       "      <th>75%</th>\n",
       "      <th>max</th>\n",
       "    </tr>\n",
       "  </thead>\n",
       "  <tbody>\n",
       "    <tr>\n",
       "      <th>CNTR_ID</th>\n",
       "      <td>73986.00</td>\n",
       "      <td>47843767.67</td>\n",
       "      <td>364073.72</td>\n",
       "      <td>46250595.00</td>\n",
       "      <td>47529343.25</td>\n",
       "      <td>47833137.00</td>\n",
       "      <td>48168206.50</td>\n",
       "      <td>48558335.00</td>\n",
       "    </tr>\n",
       "    <tr>\n",
       "      <th>WeekofYear</th>\n",
       "      <td>73986.00</td>\n",
       "      <td>6.59</td>\n",
       "      <td>3.78</td>\n",
       "      <td>1.00</td>\n",
       "      <td>3.00</td>\n",
       "      <td>6.00</td>\n",
       "      <td>10.00</td>\n",
       "      <td>13.00</td>\n",
       "    </tr>\n",
       "    <tr>\n",
       "      <th>WeekDay</th>\n",
       "      <td>73986.00</td>\n",
       "      <td>3.60</td>\n",
       "      <td>1.88</td>\n",
       "      <td>1.00</td>\n",
       "      <td>2.00</td>\n",
       "      <td>3.00</td>\n",
       "      <td>5.00</td>\n",
       "      <td>7.00</td>\n",
       "    </tr>\n",
       "    <tr>\n",
       "      <th>Hour</th>\n",
       "      <td>73986.00</td>\n",
       "      <td>12.72</td>\n",
       "      <td>5.61</td>\n",
       "      <td>0.00</td>\n",
       "      <td>9.00</td>\n",
       "      <td>13.00</td>\n",
       "      <td>17.00</td>\n",
       "      <td>23.00</td>\n",
       "    </tr>\n",
       "    <tr>\n",
       "      <th>DG_IMO_CLASS_C</th>\n",
       "      <td>73986.00</td>\n",
       "      <td>0.02</td>\n",
       "      <td>0.33</td>\n",
       "      <td>0.00</td>\n",
       "      <td>0.00</td>\n",
       "      <td>0.00</td>\n",
       "      <td>0.00</td>\n",
       "      <td>9.00</td>\n",
       "    </tr>\n",
       "    <tr>\n",
       "      <th>ımoORnot</th>\n",
       "      <td>73986.00</td>\n",
       "      <td>0.00</td>\n",
       "      <td>0.06</td>\n",
       "      <td>0.00</td>\n",
       "      <td>0.00</td>\n",
       "      <td>0.00</td>\n",
       "      <td>0.00</td>\n",
       "      <td>1.00</td>\n",
       "    </tr>\n",
       "    <tr>\n",
       "      <th>SIZE_Q</th>\n",
       "      <td>73986.00</td>\n",
       "      <td>33.19</td>\n",
       "      <td>9.48</td>\n",
       "      <td>20.00</td>\n",
       "      <td>20.00</td>\n",
       "      <td>40.00</td>\n",
       "      <td>40.00</td>\n",
       "      <td>40.00</td>\n",
       "    </tr>\n",
       "    <tr>\n",
       "      <th>DayOfMonth</th>\n",
       "      <td>73986.00</td>\n",
       "      <td>15.73</td>\n",
       "      <td>8.52</td>\n",
       "      <td>1.00</td>\n",
       "      <td>9.00</td>\n",
       "      <td>16.00</td>\n",
       "      <td>23.00</td>\n",
       "      <td>31.00</td>\n",
       "    </tr>\n",
       "    <tr>\n",
       "      <th>FIRST_OP_MONTH</th>\n",
       "      <td>73986.00</td>\n",
       "      <td>1.92</td>\n",
       "      <td>0.86</td>\n",
       "      <td>1.00</td>\n",
       "      <td>1.00</td>\n",
       "      <td>2.00</td>\n",
       "      <td>3.00</td>\n",
       "      <td>3.00</td>\n",
       "    </tr>\n",
       "    <tr>\n",
       "      <th>FIRST_OP_YEAR</th>\n",
       "      <td>73986.00</td>\n",
       "      <td>2023.00</td>\n",
       "      <td>0.00</td>\n",
       "      <td>2023.00</td>\n",
       "      <td>2023.00</td>\n",
       "      <td>2023.00</td>\n",
       "      <td>2023.00</td>\n",
       "      <td>2023.00</td>\n",
       "    </tr>\n",
       "    <tr>\n",
       "      <th>DELIVERY_BOOKING_I</th>\n",
       "      <td>73986.00</td>\n",
       "      <td>0.72</td>\n",
       "      <td>0.45</td>\n",
       "      <td>0.00</td>\n",
       "      <td>0.00</td>\n",
       "      <td>1.00</td>\n",
       "      <td>1.00</td>\n",
       "      <td>1.00</td>\n",
       "    </tr>\n",
       "    <tr>\n",
       "      <th>Reefer</th>\n",
       "      <td>73986.00</td>\n",
       "      <td>0.11</td>\n",
       "      <td>0.32</td>\n",
       "      <td>0.00</td>\n",
       "      <td>0.00</td>\n",
       "      <td>0.00</td>\n",
       "      <td>0.00</td>\n",
       "      <td>1.00</td>\n",
       "    </tr>\n",
       "    <tr>\n",
       "      <th>TOTAL_DWELL_DAYS</th>\n",
       "      <td>73986.00</td>\n",
       "      <td>13.55</td>\n",
       "      <td>13.28</td>\n",
       "      <td>0.00</td>\n",
       "      <td>5.00</td>\n",
       "      <td>9.00</td>\n",
       "      <td>17.00</td>\n",
       "      <td>98.00</td>\n",
       "    </tr>\n",
       "  </tbody>\n",
       "</table>\n",
       "</div>"
      ],
      "text/plain": [
       "                      count        mean       std         min         25%  \\\n",
       "CNTR_ID            73986.00 47843767.67 364073.72 46250595.00 47529343.25   \n",
       "WeekofYear         73986.00        6.59      3.78        1.00        3.00   \n",
       "WeekDay            73986.00        3.60      1.88        1.00        2.00   \n",
       "Hour               73986.00       12.72      5.61        0.00        9.00   \n",
       "DG_IMO_CLASS_C     73986.00        0.02      0.33        0.00        0.00   \n",
       "ımoORnot           73986.00        0.00      0.06        0.00        0.00   \n",
       "SIZE_Q             73986.00       33.19      9.48       20.00       20.00   \n",
       "DayOfMonth         73986.00       15.73      8.52        1.00        9.00   \n",
       "FIRST_OP_MONTH     73986.00        1.92      0.86        1.00        1.00   \n",
       "FIRST_OP_YEAR      73986.00     2023.00      0.00     2023.00     2023.00   \n",
       "DELIVERY_BOOKING_I 73986.00        0.72      0.45        0.00        0.00   \n",
       "Reefer             73986.00        0.11      0.32        0.00        0.00   \n",
       "TOTAL_DWELL_DAYS   73986.00       13.55     13.28        0.00        5.00   \n",
       "\n",
       "                           50%         75%         max  \n",
       "CNTR_ID            47833137.00 48168206.50 48558335.00  \n",
       "WeekofYear                6.00       10.00       13.00  \n",
       "WeekDay                   3.00        5.00        7.00  \n",
       "Hour                     13.00       17.00       23.00  \n",
       "DG_IMO_CLASS_C            0.00        0.00        9.00  \n",
       "ımoORnot                  0.00        0.00        1.00  \n",
       "SIZE_Q                   40.00       40.00       40.00  \n",
       "DayOfMonth               16.00       23.00       31.00  \n",
       "FIRST_OP_MONTH            2.00        3.00        3.00  \n",
       "FIRST_OP_YEAR          2023.00     2023.00     2023.00  \n",
       "DELIVERY_BOOKING_I        1.00        1.00        1.00  \n",
       "Reefer                    0.00        0.00        1.00  \n",
       "TOTAL_DWELL_DAYS          9.00       17.00       98.00  "
      ]
     },
     "execution_count": 7,
     "metadata": {},
     "output_type": "execute_result"
    }
   ],
   "source": [
    "df.describe().T"
   ]
  },
  {
   "cell_type": "code",
   "execution_count": 8,
   "id": "1b302e9c",
   "metadata": {
    "execution": {
     "iopub.execute_input": "2023-04-28T06:40:35.564269Z",
     "iopub.status.busy": "2023-04-28T06:40:35.563848Z",
     "iopub.status.idle": "2023-04-28T06:40:35.588010Z",
     "shell.execute_reply": "2023-04-28T06:40:35.586603Z"
    },
    "papermill": {
     "duration": 0.06055,
     "end_time": "2023-04-28T06:40:35.590922",
     "exception": false,
     "start_time": "2023-04-28T06:40:35.530372",
     "status": "completed"
    },
    "tags": []
   },
   "outputs": [
    {
     "data": {
      "text/html": [
       "<div>\n",
       "<style scoped>\n",
       "    .dataframe tbody tr th:only-of-type {\n",
       "        vertical-align: middle;\n",
       "    }\n",
       "\n",
       "    .dataframe tbody tr th {\n",
       "        vertical-align: top;\n",
       "    }\n",
       "\n",
       "    .dataframe thead th {\n",
       "        text-align: right;\n",
       "    }\n",
       "</style>\n",
       "<table border=\"1\" class=\"dataframe\">\n",
       "  <thead>\n",
       "    <tr style=\"text-align: right;\">\n",
       "      <th></th>\n",
       "      <th>FIRST_OP</th>\n",
       "      <th>OPERATION_DT</th>\n",
       "      <th>WeekofYear</th>\n",
       "      <th>WeekDay</th>\n",
       "      <th>Hour</th>\n",
       "      <th>ORG_C</th>\n",
       "      <th>DG_IMO_CLASS_C</th>\n",
       "      <th>ımoORnot</th>\n",
       "      <th>SIZE_Q</th>\n",
       "      <th>OPERATOR_C</th>\n",
       "      <th>DayOfMonth</th>\n",
       "      <th>FIRST_OP_MONTH</th>\n",
       "      <th>DELIVERY_BOOKING_I</th>\n",
       "      <th>TYPE_C</th>\n",
       "      <th>Reefer</th>\n",
       "      <th>TOTAL_DWELL_DAYS</th>\n",
       "    </tr>\n",
       "  </thead>\n",
       "  <tbody>\n",
       "    <tr>\n",
       "      <th>0</th>\n",
       "      <td>UTFF</td>\n",
       "      <td>2023-01-12 14:37:33</td>\n",
       "      <td>2</td>\n",
       "      <td>4</td>\n",
       "      <td>14</td>\n",
       "      <td>CMA CGM</td>\n",
       "      <td>0.00</td>\n",
       "      <td>0</td>\n",
       "      <td>40</td>\n",
       "      <td>CMA</td>\n",
       "      <td>12</td>\n",
       "      <td>1</td>\n",
       "      <td>1</td>\n",
       "      <td>Reefer</td>\n",
       "      <td>1</td>\n",
       "      <td>40</td>\n",
       "    </tr>\n",
       "    <tr>\n",
       "      <th>1</th>\n",
       "      <td>UTFF</td>\n",
       "      <td>2023-01-12 14:37:59</td>\n",
       "      <td>2</td>\n",
       "      <td>4</td>\n",
       "      <td>14</td>\n",
       "      <td>CMA CGM</td>\n",
       "      <td>0.00</td>\n",
       "      <td>0</td>\n",
       "      <td>40</td>\n",
       "      <td>CMA</td>\n",
       "      <td>12</td>\n",
       "      <td>1</td>\n",
       "      <td>1</td>\n",
       "      <td>Reefer</td>\n",
       "      <td>1</td>\n",
       "      <td>40</td>\n",
       "    </tr>\n",
       "    <tr>\n",
       "      <th>2</th>\n",
       "      <td>UTFF</td>\n",
       "      <td>2023-01-12 14:38:36</td>\n",
       "      <td>2</td>\n",
       "      <td>4</td>\n",
       "      <td>14</td>\n",
       "      <td>CMA CGM</td>\n",
       "      <td>0.00</td>\n",
       "      <td>0</td>\n",
       "      <td>40</td>\n",
       "      <td>CMA</td>\n",
       "      <td>12</td>\n",
       "      <td>1</td>\n",
       "      <td>1</td>\n",
       "      <td>Reefer</td>\n",
       "      <td>1</td>\n",
       "      <td>40</td>\n",
       "    </tr>\n",
       "    <tr>\n",
       "      <th>3</th>\n",
       "      <td>ARIV</td>\n",
       "      <td>2023-01-12 19:37:44</td>\n",
       "      <td>2</td>\n",
       "      <td>4</td>\n",
       "      <td>19</td>\n",
       "      <td>MAERSK</td>\n",
       "      <td>8.00</td>\n",
       "      <td>1</td>\n",
       "      <td>20</td>\n",
       "      <td>MSK</td>\n",
       "      <td>12</td>\n",
       "      <td>1</td>\n",
       "      <td>0</td>\n",
       "      <td>OTHERS</td>\n",
       "      <td>0</td>\n",
       "      <td>17</td>\n",
       "    </tr>\n",
       "    <tr>\n",
       "      <th>4</th>\n",
       "      <td>ARIV</td>\n",
       "      <td>2023-01-13 00:40:07</td>\n",
       "      <td>2</td>\n",
       "      <td>5</td>\n",
       "      <td>0</td>\n",
       "      <td>MAERSK</td>\n",
       "      <td>8.00</td>\n",
       "      <td>1</td>\n",
       "      <td>20</td>\n",
       "      <td>MSK</td>\n",
       "      <td>13</td>\n",
       "      <td>1</td>\n",
       "      <td>0</td>\n",
       "      <td>OTHERS</td>\n",
       "      <td>0</td>\n",
       "      <td>16</td>\n",
       "    </tr>\n",
       "  </tbody>\n",
       "</table>\n",
       "</div>"
      ],
      "text/plain": [
       "  FIRST_OP        OPERATION_DT  WeekofYear  WeekDay  Hour    ORG_C  \\\n",
       "0     UTFF 2023-01-12 14:37:33           2        4    14  CMA CGM   \n",
       "1     UTFF 2023-01-12 14:37:59           2        4    14  CMA CGM   \n",
       "2     UTFF 2023-01-12 14:38:36           2        4    14  CMA CGM   \n",
       "3     ARIV 2023-01-12 19:37:44           2        4    19   MAERSK   \n",
       "4     ARIV 2023-01-13 00:40:07           2        5     0   MAERSK   \n",
       "\n",
       "   DG_IMO_CLASS_C  ımoORnot  SIZE_Q OPERATOR_C  DayOfMonth  FIRST_OP_MONTH  \\\n",
       "0            0.00         0      40        CMA          12               1   \n",
       "1            0.00         0      40        CMA          12               1   \n",
       "2            0.00         0      40        CMA          12               1   \n",
       "3            8.00         1      20        MSK          12               1   \n",
       "4            8.00         1      20        MSK          13               1   \n",
       "\n",
       "   DELIVERY_BOOKING_I  TYPE_C  Reefer  TOTAL_DWELL_DAYS  \n",
       "0                   1  Reefer       1                40  \n",
       "1                   1  Reefer       1                40  \n",
       "2                   1  Reefer       1                40  \n",
       "3                   0  OTHERS       0                17  \n",
       "4                   0  OTHERS       0                16  "
      ]
     },
     "execution_count": 8,
     "metadata": {},
     "output_type": "execute_result"
    }
   ],
   "source": [
    "df.drop(columns=[\"CNTR_ID\",\"FIRST_OP_YEAR\"],axis=1,inplace=True)\n",
    "df.head()"
   ]
  },
  {
   "cell_type": "code",
   "execution_count": 9,
   "id": "4ded2999",
   "metadata": {
    "execution": {
     "iopub.execute_input": "2023-04-28T06:40:35.658063Z",
     "iopub.status.busy": "2023-04-28T06:40:35.657606Z",
     "iopub.status.idle": "2023-04-28T06:40:35.721784Z",
     "shell.execute_reply": "2023-04-28T06:40:35.720472Z"
    },
    "papermill": {
     "duration": 0.101782,
     "end_time": "2023-04-28T06:40:35.724864",
     "exception": false,
     "start_time": "2023-04-28T06:40:35.623082",
     "status": "completed"
    },
    "tags": []
   },
   "outputs": [
    {
     "data": {
      "text/html": [
       "<div>\n",
       "<style scoped>\n",
       "    .dataframe tbody tr th:only-of-type {\n",
       "        vertical-align: middle;\n",
       "    }\n",
       "\n",
       "    .dataframe tbody tr th {\n",
       "        vertical-align: top;\n",
       "    }\n",
       "\n",
       "    .dataframe thead th {\n",
       "        text-align: right;\n",
       "    }\n",
       "</style>\n",
       "<table border=\"1\" class=\"dataframe\">\n",
       "  <thead>\n",
       "    <tr style=\"text-align: right;\">\n",
       "      <th></th>\n",
       "      <th>count</th>\n",
       "      <th>mean</th>\n",
       "      <th>std</th>\n",
       "      <th>min</th>\n",
       "      <th>25%</th>\n",
       "      <th>50%</th>\n",
       "      <th>75%</th>\n",
       "      <th>max</th>\n",
       "    </tr>\n",
       "  </thead>\n",
       "  <tbody>\n",
       "    <tr>\n",
       "      <th>WeekofYear</th>\n",
       "      <td>73986.00</td>\n",
       "      <td>6.59</td>\n",
       "      <td>3.78</td>\n",
       "      <td>1.00</td>\n",
       "      <td>3.00</td>\n",
       "      <td>6.00</td>\n",
       "      <td>10.00</td>\n",
       "      <td>13.00</td>\n",
       "    </tr>\n",
       "    <tr>\n",
       "      <th>WeekDay</th>\n",
       "      <td>73986.00</td>\n",
       "      <td>3.60</td>\n",
       "      <td>1.88</td>\n",
       "      <td>1.00</td>\n",
       "      <td>2.00</td>\n",
       "      <td>3.00</td>\n",
       "      <td>5.00</td>\n",
       "      <td>7.00</td>\n",
       "    </tr>\n",
       "    <tr>\n",
       "      <th>Hour</th>\n",
       "      <td>73986.00</td>\n",
       "      <td>12.72</td>\n",
       "      <td>5.61</td>\n",
       "      <td>0.00</td>\n",
       "      <td>9.00</td>\n",
       "      <td>13.00</td>\n",
       "      <td>17.00</td>\n",
       "      <td>23.00</td>\n",
       "    </tr>\n",
       "    <tr>\n",
       "      <th>DG_IMO_CLASS_C</th>\n",
       "      <td>73986.00</td>\n",
       "      <td>0.02</td>\n",
       "      <td>0.33</td>\n",
       "      <td>0.00</td>\n",
       "      <td>0.00</td>\n",
       "      <td>0.00</td>\n",
       "      <td>0.00</td>\n",
       "      <td>9.00</td>\n",
       "    </tr>\n",
       "    <tr>\n",
       "      <th>ımoORnot</th>\n",
       "      <td>73986.00</td>\n",
       "      <td>0.00</td>\n",
       "      <td>0.06</td>\n",
       "      <td>0.00</td>\n",
       "      <td>0.00</td>\n",
       "      <td>0.00</td>\n",
       "      <td>0.00</td>\n",
       "      <td>1.00</td>\n",
       "    </tr>\n",
       "    <tr>\n",
       "      <th>SIZE_Q</th>\n",
       "      <td>73986.00</td>\n",
       "      <td>33.19</td>\n",
       "      <td>9.48</td>\n",
       "      <td>20.00</td>\n",
       "      <td>20.00</td>\n",
       "      <td>40.00</td>\n",
       "      <td>40.00</td>\n",
       "      <td>40.00</td>\n",
       "    </tr>\n",
       "    <tr>\n",
       "      <th>DayOfMonth</th>\n",
       "      <td>73986.00</td>\n",
       "      <td>15.73</td>\n",
       "      <td>8.52</td>\n",
       "      <td>1.00</td>\n",
       "      <td>9.00</td>\n",
       "      <td>16.00</td>\n",
       "      <td>23.00</td>\n",
       "      <td>31.00</td>\n",
       "    </tr>\n",
       "    <tr>\n",
       "      <th>FIRST_OP_MONTH</th>\n",
       "      <td>73986.00</td>\n",
       "      <td>1.92</td>\n",
       "      <td>0.86</td>\n",
       "      <td>1.00</td>\n",
       "      <td>1.00</td>\n",
       "      <td>2.00</td>\n",
       "      <td>3.00</td>\n",
       "      <td>3.00</td>\n",
       "    </tr>\n",
       "    <tr>\n",
       "      <th>DELIVERY_BOOKING_I</th>\n",
       "      <td>73986.00</td>\n",
       "      <td>0.72</td>\n",
       "      <td>0.45</td>\n",
       "      <td>0.00</td>\n",
       "      <td>0.00</td>\n",
       "      <td>1.00</td>\n",
       "      <td>1.00</td>\n",
       "      <td>1.00</td>\n",
       "    </tr>\n",
       "    <tr>\n",
       "      <th>Reefer</th>\n",
       "      <td>73986.00</td>\n",
       "      <td>0.11</td>\n",
       "      <td>0.32</td>\n",
       "      <td>0.00</td>\n",
       "      <td>0.00</td>\n",
       "      <td>0.00</td>\n",
       "      <td>0.00</td>\n",
       "      <td>1.00</td>\n",
       "    </tr>\n",
       "    <tr>\n",
       "      <th>TOTAL_DWELL_DAYS</th>\n",
       "      <td>73986.00</td>\n",
       "      <td>13.55</td>\n",
       "      <td>13.28</td>\n",
       "      <td>0.00</td>\n",
       "      <td>5.00</td>\n",
       "      <td>9.00</td>\n",
       "      <td>17.00</td>\n",
       "      <td>98.00</td>\n",
       "    </tr>\n",
       "  </tbody>\n",
       "</table>\n",
       "</div>"
      ],
      "text/plain": [
       "                      count  mean   std   min   25%   50%   75%   max\n",
       "WeekofYear         73986.00  6.59  3.78  1.00  3.00  6.00 10.00 13.00\n",
       "WeekDay            73986.00  3.60  1.88  1.00  2.00  3.00  5.00  7.00\n",
       "Hour               73986.00 12.72  5.61  0.00  9.00 13.00 17.00 23.00\n",
       "DG_IMO_CLASS_C     73986.00  0.02  0.33  0.00  0.00  0.00  0.00  9.00\n",
       "ımoORnot           73986.00  0.00  0.06  0.00  0.00  0.00  0.00  1.00\n",
       "SIZE_Q             73986.00 33.19  9.48 20.00 20.00 40.00 40.00 40.00\n",
       "DayOfMonth         73986.00 15.73  8.52  1.00  9.00 16.00 23.00 31.00\n",
       "FIRST_OP_MONTH     73986.00  1.92  0.86  1.00  1.00  2.00  3.00  3.00\n",
       "DELIVERY_BOOKING_I 73986.00  0.72  0.45  0.00  0.00  1.00  1.00  1.00\n",
       "Reefer             73986.00  0.11  0.32  0.00  0.00  0.00  0.00  1.00\n",
       "TOTAL_DWELL_DAYS   73986.00 13.55 13.28  0.00  5.00  9.00 17.00 98.00"
      ]
     },
     "execution_count": 9,
     "metadata": {},
     "output_type": "execute_result"
    }
   ],
   "source": [
    "df.describe().T"
   ]
  },
  {
   "cell_type": "code",
   "execution_count": 10,
   "id": "c8449ab6",
   "metadata": {
    "execution": {
     "iopub.execute_input": "2023-04-28T06:40:35.790848Z",
     "iopub.status.busy": "2023-04-28T06:40:35.790442Z",
     "iopub.status.idle": "2023-04-28T06:40:35.993412Z",
     "shell.execute_reply": "2023-04-28T06:40:35.991996Z"
    },
    "papermill": {
     "duration": 0.239417,
     "end_time": "2023-04-28T06:40:35.996445",
     "exception": false,
     "start_time": "2023-04-28T06:40:35.757028",
     "status": "completed"
    },
    "tags": []
   },
   "outputs": [
    {
     "data": {
      "image/png": "[encoded data removed]",
      "text/plain": [
       "<Figure size 640x480 with 1 Axes>"
      ]
     },
     "metadata": {},
     "output_type": "display_data"
    }
   ],
   "source": [
    "sns.boxplot(x=df[\"TOTAL_DWELL_DAYS\"])\n",
    "plt.show()"
   ]
  },
  {
   "cell_type": "code",
   "execution_count": 11,
   "id": "e260d7c5",
   "metadata": {
    "execution": {
     "iopub.execute_input": "2023-04-28T06:40:36.063685Z",
     "iopub.status.busy": "2023-04-28T06:40:36.063242Z",
     "iopub.status.idle": "2023-04-28T06:40:36.076743Z",
     "shell.execute_reply": "2023-04-28T06:40:36.075085Z"
    },
    "papermill": {
     "duration": 0.05031,
     "end_time": "2023-04-28T06:40:36.079420",
     "exception": false,
     "start_time": "2023-04-28T06:40:36.029110",
     "status": "completed"
    },
    "tags": []
   },
   "outputs": [
    {
     "name": "stdout",
     "output_type": "stream",
     "text": [
      " Low :  -13.0   Up  : 35.0\n"
     ]
    }
   ],
   "source": [
    "q1=df[\"TOTAL_DWELL_DAYS\"].quantile(0.25)\n",
    "q3=df[\"TOTAL_DWELL_DAYS\"].quantile(0.75)\n",
    "iqr=q3-q1\n",
    "up=q3+1.5*iqr\n",
    "low=q1-1.5 * iqr\n",
    "print(\" Low :  \" + str(low) + \"   \" +\"Up  : \" + str(up))"
   ]
  },
  {
   "cell_type": "code",
   "execution_count": 12,
   "id": "dd32d4e3",
   "metadata": {
    "execution": {
     "iopub.execute_input": "2023-04-28T06:40:36.147246Z",
     "iopub.status.busy": "2023-04-28T06:40:36.145882Z",
     "iopub.status.idle": "2023-04-28T06:40:36.160358Z",
     "shell.execute_reply": "2023-04-28T06:40:36.159034Z"
    },
    "papermill": {
     "duration": 0.0516,
     "end_time": "2023-04-28T06:40:36.163131",
     "exception": false,
     "start_time": "2023-04-28T06:40:36.111531",
     "status": "completed"
    },
    "tags": []
   },
   "outputs": [
    {
     "data": {
      "text/plain": [
       "MSC      12370\n",
       "CMA      10949\n",
       "HL        7205\n",
       "MSK       6874\n",
       "ZIM       5748\n",
       "ARK       5484\n",
       "YML       3407\n",
       "COS       2835\n",
       "MED       2610\n",
       "ONE       2358\n",
       "AKN       2080\n",
       "TRK       1944\n",
       "EMC       1473\n",
       "BRC       1441\n",
       "COE       1081\n",
       "SOWN      1068\n",
       "SGL        777\n",
       "ACOL       535\n",
       "OOCL       520\n",
       "TAR        509\n",
       "MSS.       406\n",
       "KCN        354\n",
       "VRTX       290\n",
       "ARCO       237\n",
       "TRCN       229\n",
       "HAS        203\n",
       "HMM        173\n",
       "UNR        146\n",
       "ASAS       110\n",
       "FES        100\n",
       "LGND        93\n",
       "PO          74\n",
       "VOL         48\n",
       "MEDL        38\n",
       "BMC         37\n",
       "ITT         36\n",
       "RSCN        29\n",
       "EMS         20\n",
       "ROD         17\n",
       "EMA         15\n",
       "RDR         12\n",
       "BSCL        10\n",
       "MGL          8\n",
       "CHL          6\n",
       "CTM          5\n",
       "LYNN         5\n",
       "LNCR         4\n",
       "LOT          4\n",
       "LT           3\n",
       "APL          2\n",
       "QNL          2\n",
       "MARMD        2\n",
       "Name: OPERATOR_C, dtype: int64"
      ]
     },
     "execution_count": 12,
     "metadata": {},
     "output_type": "execute_result"
    }
   ],
   "source": [
    "df[\"OPERATOR_C\"].value_counts()"
   ]
  },
  {
   "cell_type": "code",
   "execution_count": 13,
   "id": "10bbe024",
   "metadata": {
    "execution": {
     "iopub.execute_input": "2023-04-28T06:40:36.235305Z",
     "iopub.status.busy": "2023-04-28T06:40:36.233840Z",
     "iopub.status.idle": "2023-04-28T06:40:36.251944Z",
     "shell.execute_reply": "2023-04-28T06:40:36.250939Z"
    },
    "papermill": {
     "duration": 0.05719,
     "end_time": "2023-04-28T06:40:36.254414",
     "exception": false,
     "start_time": "2023-04-28T06:40:36.197224",
     "status": "completed"
    },
    "tags": []
   },
   "outputs": [
    {
     "data": {
      "text/html": [
       "<div>\n",
       "<style scoped>\n",
       "    .dataframe tbody tr th:only-of-type {\n",
       "        vertical-align: middle;\n",
       "    }\n",
       "\n",
       "    .dataframe tbody tr th {\n",
       "        vertical-align: top;\n",
       "    }\n",
       "\n",
       "    .dataframe thead th {\n",
       "        text-align: right;\n",
       "    }\n",
       "</style>\n",
       "<table border=\"1\" class=\"dataframe\">\n",
       "  <thead>\n",
       "    <tr style=\"text-align: right;\">\n",
       "      <th></th>\n",
       "      <th>OPERATOR_C</th>\n",
       "    </tr>\n",
       "  </thead>\n",
       "  <tbody>\n",
       "    <tr>\n",
       "      <th>MSC</th>\n",
       "      <td>12370</td>\n",
       "    </tr>\n",
       "    <tr>\n",
       "      <th>CMA</th>\n",
       "      <td>10949</td>\n",
       "    </tr>\n",
       "    <tr>\n",
       "      <th>HL</th>\n",
       "      <td>7205</td>\n",
       "    </tr>\n",
       "    <tr>\n",
       "      <th>MSK</th>\n",
       "      <td>6874</td>\n",
       "    </tr>\n",
       "    <tr>\n",
       "      <th>ZIM</th>\n",
       "      <td>5748</td>\n",
       "    </tr>\n",
       "    <tr>\n",
       "      <th>ARK</th>\n",
       "      <td>5484</td>\n",
       "    </tr>\n",
       "    <tr>\n",
       "      <th>YML</th>\n",
       "      <td>3407</td>\n",
       "    </tr>\n",
       "    <tr>\n",
       "      <th>COS</th>\n",
       "      <td>2835</td>\n",
       "    </tr>\n",
       "    <tr>\n",
       "      <th>MED</th>\n",
       "      <td>2610</td>\n",
       "    </tr>\n",
       "    <tr>\n",
       "      <th>ONE</th>\n",
       "      <td>2358</td>\n",
       "    </tr>\n",
       "    <tr>\n",
       "      <th>AKN</th>\n",
       "      <td>2080</td>\n",
       "    </tr>\n",
       "    <tr>\n",
       "      <th>TRK</th>\n",
       "      <td>1944</td>\n",
       "    </tr>\n",
       "    <tr>\n",
       "      <th>EMC</th>\n",
       "      <td>1473</td>\n",
       "    </tr>\n",
       "    <tr>\n",
       "      <th>BRC</th>\n",
       "      <td>1441</td>\n",
       "    </tr>\n",
       "    <tr>\n",
       "      <th>COE</th>\n",
       "      <td>1081</td>\n",
       "    </tr>\n",
       "    <tr>\n",
       "      <th>SOWN</th>\n",
       "      <td>1068</td>\n",
       "    </tr>\n",
       "    <tr>\n",
       "      <th>SGL</th>\n",
       "      <td>777</td>\n",
       "    </tr>\n",
       "    <tr>\n",
       "      <th>ACOL</th>\n",
       "      <td>535</td>\n",
       "    </tr>\n",
       "    <tr>\n",
       "      <th>OOCL</th>\n",
       "      <td>520</td>\n",
       "    </tr>\n",
       "    <tr>\n",
       "      <th>TAR</th>\n",
       "      <td>509</td>\n",
       "    </tr>\n",
       "    <tr>\n",
       "      <th>MSS.</th>\n",
       "      <td>406</td>\n",
       "    </tr>\n",
       "    <tr>\n",
       "      <th>KCN</th>\n",
       "      <td>354</td>\n",
       "    </tr>\n",
       "    <tr>\n",
       "      <th>VRTX</th>\n",
       "      <td>290</td>\n",
       "    </tr>\n",
       "    <tr>\n",
       "      <th>ARCO</th>\n",
       "      <td>237</td>\n",
       "    </tr>\n",
       "    <tr>\n",
       "      <th>TRCN</th>\n",
       "      <td>229</td>\n",
       "    </tr>\n",
       "    <tr>\n",
       "      <th>HAS</th>\n",
       "      <td>203</td>\n",
       "    </tr>\n",
       "    <tr>\n",
       "      <th>HMM</th>\n",
       "      <td>173</td>\n",
       "    </tr>\n",
       "    <tr>\n",
       "      <th>UNR</th>\n",
       "      <td>146</td>\n",
       "    </tr>\n",
       "    <tr>\n",
       "      <th>ASAS</th>\n",
       "      <td>110</td>\n",
       "    </tr>\n",
       "    <tr>\n",
       "      <th>FES</th>\n",
       "      <td>100</td>\n",
       "    </tr>\n",
       "  </tbody>\n",
       "</table>\n",
       "</div>"
      ],
      "text/plain": [
       "      OPERATOR_C\n",
       "MSC        12370\n",
       "CMA        10949\n",
       "HL          7205\n",
       "MSK         6874\n",
       "ZIM         5748\n",
       "ARK         5484\n",
       "YML         3407\n",
       "COS         2835\n",
       "MED         2610\n",
       "ONE         2358\n",
       "AKN         2080\n",
       "TRK         1944\n",
       "EMC         1473\n",
       "BRC         1441\n",
       "COE         1081\n",
       "SOWN        1068\n",
       "SGL          777\n",
       "ACOL         535\n",
       "OOCL         520\n",
       "TAR          509\n",
       "MSS.         406\n",
       "KCN          354\n",
       "VRTX         290\n",
       "ARCO         237\n",
       "TRCN         229\n",
       "HAS          203\n",
       "HMM          173\n",
       "UNR          146\n",
       "ASAS         110\n",
       "FES          100"
      ]
     },
     "execution_count": 13,
     "metadata": {},
     "output_type": "execute_result"
    }
   ],
   "source": [
    "df_org=df[\"OPERATOR_C\"].value_counts()\n",
    "df_org=df_org.to_frame()\n",
    "df_org.head(30)"
   ]
  },
  {
   "cell_type": "code",
   "execution_count": 14,
   "id": "7214be5d",
   "metadata": {
    "execution": {
     "iopub.execute_input": "2023-04-28T06:40:36.324055Z",
     "iopub.status.busy": "2023-04-28T06:40:36.323226Z",
     "iopub.status.idle": "2023-04-28T06:40:36.336675Z",
     "shell.execute_reply": "2023-04-28T06:40:36.335281Z"
    },
    "papermill": {
     "duration": 0.052193,
     "end_time": "2023-04-28T06:40:36.339491",
     "exception": false,
     "start_time": "2023-04-28T06:40:36.287298",
     "status": "completed"
    },
    "tags": []
   },
   "outputs": [
    {
     "data": {
      "text/plain": [
       "['MSS.',\n",
       " 'KCN',\n",
       " 'VRTX',\n",
       " 'ARCO',\n",
       " 'TRCN',\n",
       " 'HAS',\n",
       " 'HMM',\n",
       " 'UNR',\n",
       " 'ASAS',\n",
       " 'FES',\n",
       " 'LGND',\n",
       " 'PO',\n",
       " 'VOL',\n",
       " 'MEDL',\n",
       " 'BMC',\n",
       " 'ITT',\n",
       " 'RSCN',\n",
       " 'EMS',\n",
       " 'ROD',\n",
       " 'EMA',\n",
       " 'RDR',\n",
       " 'BSCL',\n",
       " 'MGL',\n",
       " 'CHL',\n",
       " 'CTM',\n",
       " 'LYNN',\n",
       " 'LNCR',\n",
       " 'LOT',\n",
       " 'LT',\n",
       " 'APL',\n",
       " 'QNL',\n",
       " 'MARMD']"
      ]
     },
     "execution_count": 14,
     "metadata": {},
     "output_type": "execute_result"
    }
   ],
   "source": [
    "del_opr=[]\n",
    "stay_opr=[]\n",
    "for index,row in df_org.iterrows():\n",
    "    count=df_org[\"OPERATOR_C\"][index]\n",
    "    if count>499:\n",
    "        stay_opr.append(index)\n",
    "    else:\n",
    "        del_opr.append(index)\n",
    "del_opr"
   ]
  },
  {
   "cell_type": "code",
   "execution_count": 15,
   "id": "0b64d2f2",
   "metadata": {
    "execution": {
     "iopub.execute_input": "2023-04-28T06:40:36.409801Z",
     "iopub.status.busy": "2023-04-28T06:40:36.408457Z",
     "iopub.status.idle": "2023-04-28T06:40:36.415708Z",
     "shell.execute_reply": "2023-04-28T06:40:36.414706Z"
    },
    "papermill": {
     "duration": 0.045895,
     "end_time": "2023-04-28T06:40:36.418666",
     "exception": false,
     "start_time": "2023-04-28T06:40:36.372771",
     "status": "completed"
    },
    "tags": []
   },
   "outputs": [
    {
     "data": {
      "text/plain": [
       "73986"
      ]
     },
     "execution_count": 15,
     "metadata": {},
     "output_type": "execute_result"
    }
   ],
   "source": [
    "len(df)"
   ]
  },
  {
   "cell_type": "code",
   "execution_count": 16,
   "id": "7ccd5701",
   "metadata": {
    "execution": {
     "iopub.execute_input": "2023-04-28T06:40:36.489405Z",
     "iopub.status.busy": "2023-04-28T06:40:36.488540Z",
     "iopub.status.idle": "2023-04-28T06:40:36.496221Z",
     "shell.execute_reply": "2023-04-28T06:40:36.494943Z"
    },
    "papermill": {
     "duration": 0.046737,
     "end_time": "2023-04-28T06:40:36.498787",
     "exception": false,
     "start_time": "2023-04-28T06:40:36.452050",
     "status": "completed"
    },
    "tags": []
   },
   "outputs": [
    {
     "data": {
      "text/plain": [
       "32"
      ]
     },
     "execution_count": 16,
     "metadata": {},
     "output_type": "execute_result"
    }
   ],
   "source": [
    "len(del_opr)"
   ]
  },
  {
   "cell_type": "code",
   "execution_count": 17,
   "id": "d46c0382",
   "metadata": {
    "execution": {
     "iopub.execute_input": "2023-04-28T06:40:36.567745Z",
     "iopub.status.busy": "2023-04-28T06:40:36.567303Z",
     "iopub.status.idle": "2023-04-28T06:40:37.112811Z",
     "shell.execute_reply": "2023-04-28T06:40:37.111555Z"
    },
    "papermill": {
     "duration": 0.583452,
     "end_time": "2023-04-28T06:40:37.115786",
     "exception": false,
     "start_time": "2023-04-28T06:40:36.532334",
     "status": "completed"
    },
    "tags": []
   },
   "outputs": [],
   "source": [
    "del_list=[]\n",
    "\n",
    "for i in range(0,len(df)):\n",
    "    if  df[\"OPERATOR_C\"][i] in del_opr : \n",
    "        del_list.append(i)\n",
    "df.drop(del_list , inplace=True)        "
   ]
  },
  {
   "cell_type": "code",
   "execution_count": 18,
   "id": "e0cba802",
   "metadata": {
    "execution": {
     "iopub.execute_input": "2023-04-28T06:40:37.183720Z",
     "iopub.status.busy": "2023-04-28T06:40:37.183275Z",
     "iopub.status.idle": "2023-04-28T06:40:37.191267Z",
     "shell.execute_reply": "2023-04-28T06:40:37.189949Z"
    },
    "papermill": {
     "duration": 0.045198,
     "end_time": "2023-04-28T06:40:37.193876",
     "exception": false,
     "start_time": "2023-04-28T06:40:37.148678",
     "status": "completed"
    },
    "tags": []
   },
   "outputs": [
    {
     "data": {
      "text/plain": [
       "71268"
      ]
     },
     "execution_count": 18,
     "metadata": {},
     "output_type": "execute_result"
    }
   ],
   "source": [
    "len(df)"
   ]
  },
  {
   "cell_type": "code",
   "execution_count": 19,
   "id": "f0acdc4c",
   "metadata": {
    "execution": {
     "iopub.execute_input": "2023-04-28T06:40:37.263370Z",
     "iopub.status.busy": "2023-04-28T06:40:37.262382Z",
     "iopub.status.idle": "2023-04-28T06:40:37.276297Z",
     "shell.execute_reply": "2023-04-28T06:40:37.274993Z"
    },
    "papermill": {
     "duration": 0.051798,
     "end_time": "2023-04-28T06:40:37.279034",
     "exception": false,
     "start_time": "2023-04-28T06:40:37.227236",
     "status": "completed"
    },
    "tags": []
   },
   "outputs": [
    {
     "data": {
      "text/plain": [
       "MSC     12370\n",
       "CMA     10949\n",
       "HL       7205\n",
       "MSK      6874\n",
       "ZIM      5748\n",
       "ARK      5484\n",
       "YML      3407\n",
       "COS      2835\n",
       "MED      2610\n",
       "ONE      2358\n",
       "AKN      2080\n",
       "TRK      1944\n",
       "EMC      1473\n",
       "BRC      1441\n",
       "COE      1081\n",
       "SOWN     1068\n",
       "SGL       777\n",
       "ACOL      535\n",
       "OOCL      520\n",
       "TAR       509\n",
       "Name: OPERATOR_C, dtype: int64"
      ]
     },
     "execution_count": 19,
     "metadata": {},
     "output_type": "execute_result"
    }
   ],
   "source": [
    "df[\"OPERATOR_C\"].value_counts()"
   ]
  },
  {
   "cell_type": "code",
   "execution_count": 20,
   "id": "dbfe39b8",
   "metadata": {
    "execution": {
     "iopub.execute_input": "2023-04-28T06:40:37.347995Z",
     "iopub.status.busy": "2023-04-28T06:40:37.347555Z",
     "iopub.status.idle": "2023-04-28T06:40:37.367772Z",
     "shell.execute_reply": "2023-04-28T06:40:37.366461Z"
    },
    "papermill": {
     "duration": 0.057305,
     "end_time": "2023-04-28T06:40:37.370355",
     "exception": false,
     "start_time": "2023-04-28T06:40:37.313050",
     "status": "completed"
    },
    "tags": []
   },
   "outputs": [
    {
     "data": {
      "text/html": [
       "<div>\n",
       "<style scoped>\n",
       "    .dataframe tbody tr th:only-of-type {\n",
       "        vertical-align: middle;\n",
       "    }\n",
       "\n",
       "    .dataframe tbody tr th {\n",
       "        vertical-align: top;\n",
       "    }\n",
       "\n",
       "    .dataframe thead th {\n",
       "        text-align: right;\n",
       "    }\n",
       "</style>\n",
       "<table border=\"1\" class=\"dataframe\">\n",
       "  <thead>\n",
       "    <tr style=\"text-align: right;\">\n",
       "      <th></th>\n",
       "      <th>FIRST_OP</th>\n",
       "      <th>OPERATION_DT</th>\n",
       "      <th>WeekofYear</th>\n",
       "      <th>WeekDay</th>\n",
       "      <th>Hour</th>\n",
       "      <th>ORG_C</th>\n",
       "      <th>DG_IMO_CLASS_C</th>\n",
       "      <th>ımoORnot</th>\n",
       "      <th>SIZE_Q</th>\n",
       "      <th>OPERATOR_C</th>\n",
       "      <th>DayOfMonth</th>\n",
       "      <th>FIRST_OP_MONTH</th>\n",
       "      <th>DELIVERY_BOOKING_I</th>\n",
       "      <th>TYPE_C</th>\n",
       "      <th>Reefer</th>\n",
       "      <th>TOTAL_DWELL_DAYS</th>\n",
       "    </tr>\n",
       "  </thead>\n",
       "  <tbody>\n",
       "    <tr>\n",
       "      <th>0</th>\n",
       "      <td>UTFF</td>\n",
       "      <td>2023-01-12 14:37:33</td>\n",
       "      <td>2</td>\n",
       "      <td>4</td>\n",
       "      <td>14</td>\n",
       "      <td>CMA CGM</td>\n",
       "      <td>0.00</td>\n",
       "      <td>0</td>\n",
       "      <td>40</td>\n",
       "      <td>CMA</td>\n",
       "      <td>12</td>\n",
       "      <td>1</td>\n",
       "      <td>1</td>\n",
       "      <td>Reefer</td>\n",
       "      <td>1</td>\n",
       "      <td>40</td>\n",
       "    </tr>\n",
       "    <tr>\n",
       "      <th>1</th>\n",
       "      <td>UTFF</td>\n",
       "      <td>2023-01-12 14:37:59</td>\n",
       "      <td>2</td>\n",
       "      <td>4</td>\n",
       "      <td>14</td>\n",
       "      <td>CMA CGM</td>\n",
       "      <td>0.00</td>\n",
       "      <td>0</td>\n",
       "      <td>40</td>\n",
       "      <td>CMA</td>\n",
       "      <td>12</td>\n",
       "      <td>1</td>\n",
       "      <td>1</td>\n",
       "      <td>Reefer</td>\n",
       "      <td>1</td>\n",
       "      <td>40</td>\n",
       "    </tr>\n",
       "    <tr>\n",
       "      <th>2</th>\n",
       "      <td>UTFF</td>\n",
       "      <td>2023-01-12 14:38:36</td>\n",
       "      <td>2</td>\n",
       "      <td>4</td>\n",
       "      <td>14</td>\n",
       "      <td>CMA CGM</td>\n",
       "      <td>0.00</td>\n",
       "      <td>0</td>\n",
       "      <td>40</td>\n",
       "      <td>CMA</td>\n",
       "      <td>12</td>\n",
       "      <td>1</td>\n",
       "      <td>1</td>\n",
       "      <td>Reefer</td>\n",
       "      <td>1</td>\n",
       "      <td>40</td>\n",
       "    </tr>\n",
       "    <tr>\n",
       "      <th>3</th>\n",
       "      <td>ARIV</td>\n",
       "      <td>2023-01-12 19:37:44</td>\n",
       "      <td>2</td>\n",
       "      <td>4</td>\n",
       "      <td>19</td>\n",
       "      <td>MAERSK</td>\n",
       "      <td>8.00</td>\n",
       "      <td>1</td>\n",
       "      <td>20</td>\n",
       "      <td>MSK</td>\n",
       "      <td>12</td>\n",
       "      <td>1</td>\n",
       "      <td>0</td>\n",
       "      <td>OTHERS</td>\n",
       "      <td>0</td>\n",
       "      <td>17</td>\n",
       "    </tr>\n",
       "    <tr>\n",
       "      <th>4</th>\n",
       "      <td>ARIV</td>\n",
       "      <td>2023-01-13 00:40:07</td>\n",
       "      <td>2</td>\n",
       "      <td>5</td>\n",
       "      <td>0</td>\n",
       "      <td>MAERSK</td>\n",
       "      <td>8.00</td>\n",
       "      <td>1</td>\n",
       "      <td>20</td>\n",
       "      <td>MSK</td>\n",
       "      <td>13</td>\n",
       "      <td>1</td>\n",
       "      <td>0</td>\n",
       "      <td>OTHERS</td>\n",
       "      <td>0</td>\n",
       "      <td>16</td>\n",
       "    </tr>\n",
       "  </tbody>\n",
       "</table>\n",
       "</div>"
      ],
      "text/plain": [
       "  FIRST_OP        OPERATION_DT  WeekofYear  WeekDay  Hour    ORG_C  \\\n",
       "0     UTFF 2023-01-12 14:37:33           2        4    14  CMA CGM   \n",
       "1     UTFF 2023-01-12 14:37:59           2        4    14  CMA CGM   \n",
       "2     UTFF 2023-01-12 14:38:36           2        4    14  CMA CGM   \n",
       "3     ARIV 2023-01-12 19:37:44           2        4    19   MAERSK   \n",
       "4     ARIV 2023-01-13 00:40:07           2        5     0   MAERSK   \n",
       "\n",
       "   DG_IMO_CLASS_C  ımoORnot  SIZE_Q OPERATOR_C  DayOfMonth  FIRST_OP_MONTH  \\\n",
       "0            0.00         0      40        CMA          12               1   \n",
       "1            0.00         0      40        CMA          12               1   \n",
       "2            0.00         0      40        CMA          12               1   \n",
       "3            8.00         1      20        MSK          12               1   \n",
       "4            8.00         1      20        MSK          13               1   \n",
       "\n",
       "   DELIVERY_BOOKING_I  TYPE_C  Reefer  TOTAL_DWELL_DAYS  \n",
       "0                   1  Reefer       1                40  \n",
       "1                   1  Reefer       1                40  \n",
       "2                   1  Reefer       1                40  \n",
       "3                   0  OTHERS       0                17  \n",
       "4                   0  OTHERS       0                16  "
      ]
     },
     "execution_count": 20,
     "metadata": {},
     "output_type": "execute_result"
    }
   ],
   "source": [
    "df.head()"
   ]
  },
  {
   "cell_type": "code",
   "execution_count": 21,
   "id": "4d4eb70a",
   "metadata": {
    "execution": {
     "iopub.execute_input": "2023-04-28T06:40:37.440072Z",
     "iopub.status.busy": "2023-04-28T06:40:37.439588Z",
     "iopub.status.idle": "2023-04-28T06:40:37.446947Z",
     "shell.execute_reply": "2023-04-28T06:40:37.445738Z"
    },
    "papermill": {
     "duration": 0.045872,
     "end_time": "2023-04-28T06:40:37.449586",
     "exception": false,
     "start_time": "2023-04-28T06:40:37.403714",
     "status": "completed"
    },
    "tags": []
   },
   "outputs": [
    {
     "data": {
      "text/plain": [
       "35.0"
      ]
     },
     "execution_count": 21,
     "metadata": {},
     "output_type": "execute_result"
    }
   ],
   "source": [
    "up"
   ]
  },
  {
   "cell_type": "code",
   "execution_count": 22,
   "id": "795d3030",
   "metadata": {
    "execution": {
     "iopub.execute_input": "2023-04-28T06:40:37.519965Z",
     "iopub.status.busy": "2023-04-28T06:40:37.519474Z",
     "iopub.status.idle": "2023-04-28T06:41:33.040634Z",
     "shell.execute_reply": "2023-04-28T06:41:33.039286Z"
    },
    "papermill": {
     "duration": 55.594049,
     "end_time": "2023-04-28T06:41:33.077742",
     "exception": false,
     "start_time": "2023-04-28T06:40:37.483693",
     "status": "completed"
    },
    "tags": []
   },
   "outputs": [
    {
     "data": {
      "text/html": [
       "<div>\n",
       "<style scoped>\n",
       "    .dataframe tbody tr th:only-of-type {\n",
       "        vertical-align: middle;\n",
       "    }\n",
       "\n",
       "    .dataframe tbody tr th {\n",
       "        vertical-align: top;\n",
       "    }\n",
       "\n",
       "    .dataframe thead th {\n",
       "        text-align: right;\n",
       "    }\n",
       "</style>\n",
       "<table border=\"1\" class=\"dataframe\">\n",
       "  <thead>\n",
       "    <tr style=\"text-align: right;\">\n",
       "      <th></th>\n",
       "      <th>count</th>\n",
       "      <th>mean</th>\n",
       "      <th>std</th>\n",
       "      <th>min</th>\n",
       "      <th>25%</th>\n",
       "      <th>50%</th>\n",
       "      <th>75%</th>\n",
       "      <th>max</th>\n",
       "    </tr>\n",
       "  </thead>\n",
       "  <tbody>\n",
       "    <tr>\n",
       "      <th>WeekofYear</th>\n",
       "      <td>66366.00</td>\n",
       "      <td>6.75</td>\n",
       "      <td>3.82</td>\n",
       "      <td>1.00</td>\n",
       "      <td>3.00</td>\n",
       "      <td>7.00</td>\n",
       "      <td>10.00</td>\n",
       "      <td>13.00</td>\n",
       "    </tr>\n",
       "    <tr>\n",
       "      <th>WeekDay</th>\n",
       "      <td>66366.00</td>\n",
       "      <td>3.60</td>\n",
       "      <td>1.87</td>\n",
       "      <td>1.00</td>\n",
       "      <td>2.00</td>\n",
       "      <td>3.00</td>\n",
       "      <td>5.00</td>\n",
       "      <td>7.00</td>\n",
       "    </tr>\n",
       "    <tr>\n",
       "      <th>Hour</th>\n",
       "      <td>66366.00</td>\n",
       "      <td>12.67</td>\n",
       "      <td>5.65</td>\n",
       "      <td>0.00</td>\n",
       "      <td>9.00</td>\n",
       "      <td>13.00</td>\n",
       "      <td>17.00</td>\n",
       "      <td>23.00</td>\n",
       "    </tr>\n",
       "    <tr>\n",
       "      <th>DG_IMO_CLASS_C</th>\n",
       "      <td>66366.00</td>\n",
       "      <td>0.01</td>\n",
       "      <td>0.24</td>\n",
       "      <td>0.00</td>\n",
       "      <td>0.00</td>\n",
       "      <td>0.00</td>\n",
       "      <td>0.00</td>\n",
       "      <td>9.00</td>\n",
       "    </tr>\n",
       "    <tr>\n",
       "      <th>ımoORnot</th>\n",
       "      <td>66366.00</td>\n",
       "      <td>0.00</td>\n",
       "      <td>0.06</td>\n",
       "      <td>0.00</td>\n",
       "      <td>0.00</td>\n",
       "      <td>0.00</td>\n",
       "      <td>0.00</td>\n",
       "      <td>1.00</td>\n",
       "    </tr>\n",
       "    <tr>\n",
       "      <th>SIZE_Q</th>\n",
       "      <td>66366.00</td>\n",
       "      <td>33.18</td>\n",
       "      <td>9.48</td>\n",
       "      <td>20.00</td>\n",
       "      <td>20.00</td>\n",
       "      <td>40.00</td>\n",
       "      <td>40.00</td>\n",
       "      <td>40.00</td>\n",
       "    </tr>\n",
       "    <tr>\n",
       "      <th>DayOfMonth</th>\n",
       "      <td>66366.00</td>\n",
       "      <td>15.80</td>\n",
       "      <td>8.47</td>\n",
       "      <td>1.00</td>\n",
       "      <td>9.00</td>\n",
       "      <td>16.00</td>\n",
       "      <td>23.00</td>\n",
       "      <td>31.00</td>\n",
       "    </tr>\n",
       "    <tr>\n",
       "      <th>FIRST_OP_MONTH</th>\n",
       "      <td>66366.00</td>\n",
       "      <td>1.95</td>\n",
       "      <td>0.86</td>\n",
       "      <td>1.00</td>\n",
       "      <td>1.00</td>\n",
       "      <td>2.00</td>\n",
       "      <td>3.00</td>\n",
       "      <td>3.00</td>\n",
       "    </tr>\n",
       "    <tr>\n",
       "      <th>DELIVERY_BOOKING_I</th>\n",
       "      <td>66366.00</td>\n",
       "      <td>0.73</td>\n",
       "      <td>0.44</td>\n",
       "      <td>0.00</td>\n",
       "      <td>0.00</td>\n",
       "      <td>1.00</td>\n",
       "      <td>1.00</td>\n",
       "      <td>1.00</td>\n",
       "    </tr>\n",
       "    <tr>\n",
       "      <th>Reefer</th>\n",
       "      <td>66366.00</td>\n",
       "      <td>0.11</td>\n",
       "      <td>0.31</td>\n",
       "      <td>0.00</td>\n",
       "      <td>0.00</td>\n",
       "      <td>0.00</td>\n",
       "      <td>0.00</td>\n",
       "      <td>1.00</td>\n",
       "    </tr>\n",
       "    <tr>\n",
       "      <th>TOTAL_DWELL_DAYS</th>\n",
       "      <td>66366.00</td>\n",
       "      <td>10.91</td>\n",
       "      <td>7.93</td>\n",
       "      <td>0.00</td>\n",
       "      <td>5.00</td>\n",
       "      <td>9.00</td>\n",
       "      <td>15.00</td>\n",
       "      <td>35.00</td>\n",
       "    </tr>\n",
       "  </tbody>\n",
       "</table>\n",
       "</div>"
      ],
      "text/plain": [
       "                      count  mean  std   min   25%   50%   75%   max\n",
       "WeekofYear         66366.00  6.75 3.82  1.00  3.00  7.00 10.00 13.00\n",
       "WeekDay            66366.00  3.60 1.87  1.00  2.00  3.00  5.00  7.00\n",
       "Hour               66366.00 12.67 5.65  0.00  9.00 13.00 17.00 23.00\n",
       "DG_IMO_CLASS_C     66366.00  0.01 0.24  0.00  0.00  0.00  0.00  9.00\n",
       "ımoORnot           66366.00  0.00 0.06  0.00  0.00  0.00  0.00  1.00\n",
       "SIZE_Q             66366.00 33.18 9.48 20.00 20.00 40.00 40.00 40.00\n",
       "DayOfMonth         66366.00 15.80 8.47  1.00  9.00 16.00 23.00 31.00\n",
       "FIRST_OP_MONTH     66366.00  1.95 0.86  1.00  1.00  2.00  3.00  3.00\n",
       "DELIVERY_BOOKING_I 66366.00  0.73 0.44  0.00  0.00  1.00  1.00  1.00\n",
       "Reefer             66366.00  0.11 0.31  0.00  0.00  0.00  0.00  1.00\n",
       "TOTAL_DWELL_DAYS   66366.00 10.91 7.93  0.00  5.00  9.00 15.00 35.00"
      ]
     },
     "execution_count": 22,
     "metadata": {},
     "output_type": "execute_result"
    }
   ],
   "source": [
    "for index,row in df.iterrows():\n",
    "    dwell=df[\"TOTAL_DWELL_DAYS\"][index]\n",
    "    if dwell>up:\n",
    "        df.drop(index,axis=0,inplace=True)\n",
    "    \n",
    "df.describe().T    "
   ]
  },
  {
   "cell_type": "code",
   "execution_count": 23,
   "id": "7e230bac",
   "metadata": {
    "execution": {
     "iopub.execute_input": "2023-04-28T06:41:33.148534Z",
     "iopub.status.busy": "2023-04-28T06:41:33.147467Z",
     "iopub.status.idle": "2023-04-28T06:41:33.160711Z",
     "shell.execute_reply": "2023-04-28T06:41:33.159428Z"
    },
    "papermill": {
     "duration": 0.051552,
     "end_time": "2023-04-28T06:41:33.163394",
     "exception": false,
     "start_time": "2023-04-28T06:41:33.111842",
     "status": "completed"
    },
    "tags": []
   },
   "outputs": [
    {
     "data": {
      "text/plain": [
       "array(['ARIV', 'UTFF', 'DISC', 'ARIW'], dtype=object)"
      ]
     },
     "execution_count": 23,
     "metadata": {},
     "output_type": "execute_result"
    }
   ],
   "source": [
    "df[\"FIRST_OP\"].unique()"
   ]
  },
  {
   "cell_type": "code",
   "execution_count": 24,
   "id": "f77fc775",
   "metadata": {
    "execution": {
     "iopub.execute_input": "2023-04-28T06:41:33.234705Z",
     "iopub.status.busy": "2023-04-28T06:41:33.234238Z",
     "iopub.status.idle": "2023-04-28T06:42:13.647137Z",
     "shell.execute_reply": "2023-04-28T06:42:13.645831Z"
    },
    "papermill": {
     "duration": 40.452612,
     "end_time": "2023-04-28T06:42:13.650341",
     "exception": false,
     "start_time": "2023-04-28T06:41:33.197729",
     "status": "completed"
    },
    "tags": []
   },
   "outputs": [],
   "source": [
    "for index,row in df.iterrows():\n",
    "    first_op=df[\"FIRST_OP\"][index]\n",
    "    if first_op=='DISC':\n",
    "        df[\"FIRST_OP\"][index]=0\n",
    "    elif  first_op=='ARIV':\n",
    "        df[\"FIRST_OP\"][index]=1   \n",
    "    elif  first_op=='UTFF':\n",
    "        df[\"FIRST_OP\"][index]=2\n",
    "    else :\n",
    "        df[\"FIRST_OP\"][index]=3\n",
    "        \n",
    "    \n"
   ]
  },
  {
   "cell_type": "code",
   "execution_count": 25,
   "id": "27ab005c",
   "metadata": {
    "execution": {
     "iopub.execute_input": "2023-04-28T06:42:13.724692Z",
     "iopub.status.busy": "2023-04-28T06:42:13.723975Z",
     "iopub.status.idle": "2023-04-28T06:42:13.734716Z",
     "shell.execute_reply": "2023-04-28T06:42:13.733480Z"
    },
    "papermill": {
     "duration": 0.050963,
     "end_time": "2023-04-28T06:42:13.737383",
     "exception": false,
     "start_time": "2023-04-28T06:42:13.686420",
     "status": "completed"
    },
    "tags": []
   },
   "outputs": [
    {
     "data": {
      "text/plain": [
       "array([1, 2, 0, 3], dtype=object)"
      ]
     },
     "execution_count": 25,
     "metadata": {},
     "output_type": "execute_result"
    }
   ],
   "source": [
    "df[\"FIRST_OP\"].unique()"
   ]
  },
  {
   "cell_type": "code",
   "execution_count": 26,
   "id": "3a2b5a78",
   "metadata": {
    "execution": {
     "iopub.execute_input": "2023-04-28T06:42:13.808339Z",
     "iopub.status.busy": "2023-04-28T06:42:13.807622Z",
     "iopub.status.idle": "2023-04-28T06:42:13.820542Z",
     "shell.execute_reply": "2023-04-28T06:42:13.819367Z"
    },
    "papermill": {
     "duration": 0.051918,
     "end_time": "2023-04-28T06:42:13.823548",
     "exception": false,
     "start_time": "2023-04-28T06:42:13.771630",
     "status": "completed"
    },
    "tags": []
   },
   "outputs": [],
   "source": [
    "df[\"FIRST_OP\"]=df[\"FIRST_OP\"].astype(int)\n",
    "df[\"DG_IMO_CLASS_C\"]=df[\"DG_IMO_CLASS_C\"].astype(int)\n"
   ]
  },
  {
   "cell_type": "code",
   "execution_count": 27,
   "id": "e8052bbb",
   "metadata": {
    "execution": {
     "iopub.execute_input": "2023-04-28T06:42:13.895679Z",
     "iopub.status.busy": "2023-04-28T06:42:13.894833Z",
     "iopub.status.idle": "2023-04-28T06:42:13.907013Z",
     "shell.execute_reply": "2023-04-28T06:42:13.905746Z"
    },
    "papermill": {
     "duration": 0.050833,
     "end_time": "2023-04-28T06:42:13.909530",
     "exception": false,
     "start_time": "2023-04-28T06:42:13.858697",
     "status": "completed"
    },
    "tags": []
   },
   "outputs": [
    {
     "data": {
      "text/plain": [
       "array(['OTHERS', 'HC', 'DC', 'Reefer', 'Flat-OT'], dtype=object)"
      ]
     },
     "execution_count": 27,
     "metadata": {},
     "output_type": "execute_result"
    }
   ],
   "source": [
    "df[\"TYPE_C\"].unique()"
   ]
  },
  {
   "cell_type": "code",
   "execution_count": 28,
   "id": "251ac4f0",
   "metadata": {
    "execution": {
     "iopub.execute_input": "2023-04-28T06:42:13.983167Z",
     "iopub.status.busy": "2023-04-28T06:42:13.981773Z",
     "iopub.status.idle": "2023-04-28T06:42:53.184832Z",
     "shell.execute_reply": "2023-04-28T06:42:53.183323Z"
    },
    "papermill": {
     "duration": 39.243329,
     "end_time": "2023-04-28T06:42:53.187853",
     "exception": false,
     "start_time": "2023-04-28T06:42:13.944524",
     "status": "completed"
    },
    "tags": []
   },
   "outputs": [],
   "source": [
    "for index,row in df.iterrows():\n",
    "    type_c=df[\"TYPE_C\"][index]\n",
    "    if type_c=='DC':\n",
    "        df[\"TYPE_C\"][index]=0\n",
    "    elif  type_c=='HC':\n",
    "        df[\"TYPE_C\"][index]=1   \n",
    "    elif  type_c=='Reefer':\n",
    "        df[\"TYPE_C\"][index]=2\n",
    "    elif  type_c=='Flat-OT':\n",
    "        df[\"TYPE_C\"][index]=3\n",
    "    elif  type_c=='OTHERS':\n",
    "        df[\"TYPE_C\"][index]=4    \n",
    "df[\"TYPE_C\"]=df[\"TYPE_C\"].astype(int)\n",
    "  "
   ]
  },
  {
   "cell_type": "code",
   "execution_count": 29,
   "id": "218b28c6",
   "metadata": {
    "execution": {
     "iopub.execute_input": "2023-04-28T06:42:53.260291Z",
     "iopub.status.busy": "2023-04-28T06:42:53.259831Z",
     "iopub.status.idle": "2023-04-28T06:42:53.283316Z",
     "shell.execute_reply": "2023-04-28T06:42:53.282151Z"
    },
    "papermill": {
     "duration": 0.062561,
     "end_time": "2023-04-28T06:42:53.285837",
     "exception": false,
     "start_time": "2023-04-28T06:42:53.223276",
     "status": "completed"
    },
    "tags": []
   },
   "outputs": [
    {
     "name": "stdout",
     "output_type": "stream",
     "text": [
      "<class 'pandas.core.frame.DataFrame'>\n",
      "Int64Index: 66366 entries, 3 to 73983\n",
      "Data columns (total 16 columns):\n",
      " #   Column              Non-Null Count  Dtype         \n",
      "---  ------              --------------  -----         \n",
      " 0   FIRST_OP            66366 non-null  int64         \n",
      " 1   OPERATION_DT        66366 non-null  datetime64[ns]\n",
      " 2   WeekofYear          66366 non-null  int64         \n",
      " 3   WeekDay             66366 non-null  int64         \n",
      " 4   Hour                66366 non-null  int64         \n",
      " 5   ORG_C               66366 non-null  object        \n",
      " 6   DG_IMO_CLASS_C      66366 non-null  int64         \n",
      " 7   ımoORnot            66366 non-null  int64         \n",
      " 8   SIZE_Q              66366 non-null  int64         \n",
      " 9   OPERATOR_C          66366 non-null  object        \n",
      " 10  DayOfMonth          66366 non-null  int64         \n",
      " 11  FIRST_OP_MONTH      66366 non-null  int64         \n",
      " 12  DELIVERY_BOOKING_I  66366 non-null  int64         \n",
      " 13  TYPE_C              66366 non-null  int64         \n",
      " 14  Reefer              66366 non-null  int64         \n",
      " 15  TOTAL_DWELL_DAYS    66366 non-null  int64         \n",
      "dtypes: datetime64[ns](1), int64(13), object(2)\n",
      "memory usage: 10.6+ MB\n"
     ]
    }
   ],
   "source": [
    "df.info()"
   ]
  },
  {
   "cell_type": "code",
   "execution_count": 30,
   "id": "e851d228",
   "metadata": {
    "execution": {
     "iopub.execute_input": "2023-04-28T06:42:53.357064Z",
     "iopub.status.busy": "2023-04-28T06:42:53.356012Z",
     "iopub.status.idle": "2023-04-28T06:42:57.614425Z",
     "shell.execute_reply": "2023-04-28T06:42:57.613040Z"
    },
    "papermill": {
     "duration": 4.296959,
     "end_time": "2023-04-28T06:42:57.617286",
     "exception": false,
     "start_time": "2023-04-28T06:42:53.320327",
     "status": "completed"
    },
    "tags": []
   },
   "outputs": [
    {
     "name": "stdout",
     "output_type": "stream",
     "text": [
      "30357   deleted\n"
     ]
    }
   ],
   "source": [
    "for index,row in df.iterrows():\n",
    "    org=df[\"ORG_C\"][index]\n",
    "    if org=='TASFIYELIK':\n",
    "        df.drop(index , inplace=True)    \n",
    "        print(str(index) + \"   deleted\")\n",
    "    \n"
   ]
  },
  {
   "cell_type": "code",
   "execution_count": 31,
   "id": "20531376",
   "metadata": {
    "execution": {
     "iopub.execute_input": "2023-04-28T06:42:57.689207Z",
     "iopub.status.busy": "2023-04-28T06:42:57.688744Z",
     "iopub.status.idle": "2023-04-28T06:42:57.700195Z",
     "shell.execute_reply": "2023-04-28T06:42:57.698918Z"
    },
    "papermill": {
     "duration": 0.051216,
     "end_time": "2023-04-28T06:42:57.703014",
     "exception": false,
     "start_time": "2023-04-28T06:42:57.651798",
     "status": "completed"
    },
    "tags": []
   },
   "outputs": [],
   "source": [
    "df.drop(columns=\"ORG_C\",axis=1,inplace=True)"
   ]
  },
  {
   "cell_type": "code",
   "execution_count": 32,
   "id": "37474581",
   "metadata": {
    "execution": {
     "iopub.execute_input": "2023-04-28T06:42:57.775005Z",
     "iopub.status.busy": "2023-04-28T06:42:57.774545Z",
     "iopub.status.idle": "2023-04-28T06:42:57.786998Z",
     "shell.execute_reply": "2023-04-28T06:42:57.785789Z"
    },
    "papermill": {
     "duration": 0.051364,
     "end_time": "2023-04-28T06:42:57.789282",
     "exception": false,
     "start_time": "2023-04-28T06:42:57.737918",
     "status": "completed"
    },
    "tags": []
   },
   "outputs": [
    {
     "data": {
      "text/plain": [
       "20"
      ]
     },
     "execution_count": 32,
     "metadata": {},
     "output_type": "execute_result"
    }
   ],
   "source": [
    "df[\"OPERATOR_C\"].nunique()"
   ]
  },
  {
   "cell_type": "code",
   "execution_count": 33,
   "id": "bb7f1d78",
   "metadata": {
    "execution": {
     "iopub.execute_input": "2023-04-28T06:42:57.861096Z",
     "iopub.status.busy": "2023-04-28T06:42:57.860238Z",
     "iopub.status.idle": "2023-04-28T06:42:57.870322Z",
     "shell.execute_reply": "2023-04-28T06:42:57.869028Z"
    },
    "papermill": {
     "duration": 0.049139,
     "end_time": "2023-04-28T06:42:57.873003",
     "exception": false,
     "start_time": "2023-04-28T06:42:57.823864",
     "status": "completed"
    },
    "tags": []
   },
   "outputs": [],
   "source": [
    "final_opr=df[\"OPERATOR_C\"].unique().tolist()\n"
   ]
  },
  {
   "cell_type": "code",
   "execution_count": 34,
   "id": "ec26400a",
   "metadata": {
    "execution": {
     "iopub.execute_input": "2023-04-28T06:42:57.944310Z",
     "iopub.status.busy": "2023-04-28T06:42:57.943783Z",
     "iopub.status.idle": "2023-04-28T06:42:57.952629Z",
     "shell.execute_reply": "2023-04-28T06:42:57.951313Z"
    },
    "papermill": {
     "duration": 0.047639,
     "end_time": "2023-04-28T06:42:57.955388",
     "exception": false,
     "start_time": "2023-04-28T06:42:57.907749",
     "status": "completed"
    },
    "tags": []
   },
   "outputs": [
    {
     "data": {
      "text/plain": [
       "{'MSK': 0,\n",
       " 'HL': 1,\n",
       " 'CMA': 2,\n",
       " 'ZIM': 3,\n",
       " 'COS': 4,\n",
       " 'SGL': 5,\n",
       " 'AKN': 6,\n",
       " 'MSC': 7,\n",
       " 'TAR': 8,\n",
       " 'TRK': 9,\n",
       " 'ARK': 10,\n",
       " 'YML': 11,\n",
       " 'OOCL': 12,\n",
       " 'COE': 13,\n",
       " 'SOWN': 14,\n",
       " 'EMC': 15,\n",
       " 'ACOL': 16,\n",
       " 'ONE': 17,\n",
       " 'BRC': 18,\n",
       " 'MED': 19}"
      ]
     },
     "execution_count": 34,
     "metadata": {},
     "output_type": "execute_result"
    }
   ],
   "source": [
    "final_opr_d={}\n",
    "for i in range(0,len(final_opr)):\n",
    "    final_opr_d[final_opr[i]]=i\n",
    "final_opr_d    "
   ]
  },
  {
   "cell_type": "code",
   "execution_count": 35,
   "id": "40514c2c",
   "metadata": {
    "execution": {
     "iopub.execute_input": "2023-04-28T06:42:58.029777Z",
     "iopub.status.busy": "2023-04-28T06:42:58.028371Z",
     "iopub.status.idle": "2023-04-28T06:42:58.046355Z",
     "shell.execute_reply": "2023-04-28T06:42:58.045222Z"
    },
    "papermill": {
     "duration": 0.05658,
     "end_time": "2023-04-28T06:42:58.048842",
     "exception": false,
     "start_time": "2023-04-28T06:42:57.992262",
     "status": "completed"
    },
    "tags": []
   },
   "outputs": [
    {
     "data": {
      "text/html": [
       "<div>\n",
       "<style scoped>\n",
       "    .dataframe tbody tr th:only-of-type {\n",
       "        vertical-align: middle;\n",
       "    }\n",
       "\n",
       "    .dataframe tbody tr th {\n",
       "        vertical-align: top;\n",
       "    }\n",
       "\n",
       "    .dataframe thead th {\n",
       "        text-align: right;\n",
       "    }\n",
       "</style>\n",
       "<table border=\"1\" class=\"dataframe\">\n",
       "  <thead>\n",
       "    <tr style=\"text-align: right;\">\n",
       "      <th></th>\n",
       "      <th>FIRST_OP</th>\n",
       "      <th>OPERATION_DT</th>\n",
       "      <th>WeekofYear</th>\n",
       "      <th>WeekDay</th>\n",
       "      <th>Hour</th>\n",
       "      <th>DG_IMO_CLASS_C</th>\n",
       "      <th>ımoORnot</th>\n",
       "      <th>SIZE_Q</th>\n",
       "      <th>OPERATOR_C</th>\n",
       "      <th>DayOfMonth</th>\n",
       "      <th>FIRST_OP_MONTH</th>\n",
       "      <th>DELIVERY_BOOKING_I</th>\n",
       "      <th>TYPE_C</th>\n",
       "      <th>Reefer</th>\n",
       "      <th>TOTAL_DWELL_DAYS</th>\n",
       "    </tr>\n",
       "  </thead>\n",
       "  <tbody>\n",
       "    <tr>\n",
       "      <th>3</th>\n",
       "      <td>1</td>\n",
       "      <td>2023-01-12 19:37:44</td>\n",
       "      <td>2</td>\n",
       "      <td>4</td>\n",
       "      <td>19</td>\n",
       "      <td>8</td>\n",
       "      <td>1</td>\n",
       "      <td>20</td>\n",
       "      <td>MSK</td>\n",
       "      <td>12</td>\n",
       "      <td>1</td>\n",
       "      <td>0</td>\n",
       "      <td>4</td>\n",
       "      <td>0</td>\n",
       "      <td>17</td>\n",
       "    </tr>\n",
       "    <tr>\n",
       "      <th>4</th>\n",
       "      <td>1</td>\n",
       "      <td>2023-01-13 00:40:07</td>\n",
       "      <td>2</td>\n",
       "      <td>5</td>\n",
       "      <td>0</td>\n",
       "      <td>8</td>\n",
       "      <td>1</td>\n",
       "      <td>20</td>\n",
       "      <td>MSK</td>\n",
       "      <td>13</td>\n",
       "      <td>1</td>\n",
       "      <td>0</td>\n",
       "      <td>4</td>\n",
       "      <td>0</td>\n",
       "      <td>16</td>\n",
       "    </tr>\n",
       "    <tr>\n",
       "      <th>8</th>\n",
       "      <td>1</td>\n",
       "      <td>2023-01-12 14:48:22</td>\n",
       "      <td>2</td>\n",
       "      <td>4</td>\n",
       "      <td>14</td>\n",
       "      <td>0</td>\n",
       "      <td>0</td>\n",
       "      <td>40</td>\n",
       "      <td>MSK</td>\n",
       "      <td>12</td>\n",
       "      <td>1</td>\n",
       "      <td>0</td>\n",
       "      <td>1</td>\n",
       "      <td>0</td>\n",
       "      <td>31</td>\n",
       "    </tr>\n",
       "    <tr>\n",
       "      <th>9</th>\n",
       "      <td>2</td>\n",
       "      <td>2023-01-12 14:32:38</td>\n",
       "      <td>2</td>\n",
       "      <td>4</td>\n",
       "      <td>14</td>\n",
       "      <td>0</td>\n",
       "      <td>0</td>\n",
       "      <td>40</td>\n",
       "      <td>HL</td>\n",
       "      <td>12</td>\n",
       "      <td>1</td>\n",
       "      <td>1</td>\n",
       "      <td>1</td>\n",
       "      <td>0</td>\n",
       "      <td>4</td>\n",
       "    </tr>\n",
       "    <tr>\n",
       "      <th>10</th>\n",
       "      <td>2</td>\n",
       "      <td>2023-01-12 14:28:51</td>\n",
       "      <td>2</td>\n",
       "      <td>4</td>\n",
       "      <td>14</td>\n",
       "      <td>0</td>\n",
       "      <td>0</td>\n",
       "      <td>40</td>\n",
       "      <td>CMA</td>\n",
       "      <td>12</td>\n",
       "      <td>1</td>\n",
       "      <td>1</td>\n",
       "      <td>1</td>\n",
       "      <td>0</td>\n",
       "      <td>2</td>\n",
       "    </tr>\n",
       "  </tbody>\n",
       "</table>\n",
       "</div>"
      ],
      "text/plain": [
       "    FIRST_OP        OPERATION_DT  WeekofYear  WeekDay  Hour  DG_IMO_CLASS_C  \\\n",
       "3          1 2023-01-12 19:37:44           2        4    19               8   \n",
       "4          1 2023-01-13 00:40:07           2        5     0               8   \n",
       "8          1 2023-01-12 14:48:22           2        4    14               0   \n",
       "9          2 2023-01-12 14:32:38           2        4    14               0   \n",
       "10         2 2023-01-12 14:28:51           2        4    14               0   \n",
       "\n",
       "    ımoORnot  SIZE_Q OPERATOR_C  DayOfMonth  FIRST_OP_MONTH  \\\n",
       "3          1      20        MSK          12               1   \n",
       "4          1      20        MSK          13               1   \n",
       "8          0      40        MSK          12               1   \n",
       "9          0      40         HL          12               1   \n",
       "10         0      40        CMA          12               1   \n",
       "\n",
       "    DELIVERY_BOOKING_I  TYPE_C  Reefer  TOTAL_DWELL_DAYS  \n",
       "3                    0       4       0                17  \n",
       "4                    0       4       0                16  \n",
       "8                    0       1       0                31  \n",
       "9                    1       1       0                 4  \n",
       "10                   1       1       0                 2  "
      ]
     },
     "execution_count": 35,
     "metadata": {},
     "output_type": "execute_result"
    }
   ],
   "source": [
    "df.head()"
   ]
  },
  {
   "cell_type": "code",
   "execution_count": 36,
   "id": "e9ef7777",
   "metadata": {
    "execution": {
     "iopub.execute_input": "2023-04-28T06:42:58.121748Z",
     "iopub.status.busy": "2023-04-28T06:42:58.120972Z",
     "iopub.status.idle": "2023-04-28T06:43:37.266392Z",
     "shell.execute_reply": "2023-04-28T06:43:37.264722Z"
    },
    "papermill": {
     "duration": 39.21736,
     "end_time": "2023-04-28T06:43:37.301700",
     "exception": false,
     "start_time": "2023-04-28T06:42:58.084340",
     "status": "completed"
    },
    "tags": []
   },
   "outputs": [
    {
     "data": {
      "text/plain": [
       "array([0, 1, 2, 3, 4, 5, 6, 7, 8, 9, 10, 11, 12, 13, 14, 15, 16, 17, 18,\n",
       "       19], dtype=object)"
      ]
     },
     "execution_count": 36,
     "metadata": {},
     "output_type": "execute_result"
    }
   ],
   "source": [
    "for index,row in df.iterrows():\n",
    "    opr=df[\"OPERATOR_C\"][index]\n",
    "    df[\"OPERATOR_C\"][index]=final_opr_d[opr]\n",
    "df[\"OPERATOR_C\"].unique()    "
   ]
  },
  {
   "cell_type": "code",
   "execution_count": 37,
   "id": "f022b98c",
   "metadata": {
    "execution": {
     "iopub.execute_input": "2023-04-28T06:43:37.375274Z",
     "iopub.status.busy": "2023-04-28T06:43:37.374779Z",
     "iopub.status.idle": "2023-04-28T06:43:37.384911Z",
     "shell.execute_reply": "2023-04-28T06:43:37.383501Z"
    },
    "papermill": {
     "duration": 0.050085,
     "end_time": "2023-04-28T06:43:37.387874",
     "exception": false,
     "start_time": "2023-04-28T06:43:37.337789",
     "status": "completed"
    },
    "tags": []
   },
   "outputs": [],
   "source": [
    "df[\"OPERATOR_C\"]=df[\"OPERATOR_C\"].astype(int)\n"
   ]
  },
  {
   "cell_type": "code",
   "execution_count": 38,
   "id": "c6f56a1c",
   "metadata": {
    "execution": {
     "iopub.execute_input": "2023-04-28T06:43:37.461657Z",
     "iopub.status.busy": "2023-04-28T06:43:37.460875Z",
     "iopub.status.idle": "2023-04-28T06:43:37.471992Z",
     "shell.execute_reply": "2023-04-28T06:43:37.470987Z"
    },
    "papermill": {
     "duration": 0.050818,
     "end_time": "2023-04-28T06:43:37.474500",
     "exception": false,
     "start_time": "2023-04-28T06:43:37.423682",
     "status": "completed"
    },
    "tags": []
   },
   "outputs": [],
   "source": [
    "df.drop(columns=\"OPERATION_DT\",axis=1,inplace=True)"
   ]
  },
  {
   "cell_type": "code",
   "execution_count": 39,
   "id": "78bd764f",
   "metadata": {
    "execution": {
     "iopub.execute_input": "2023-04-28T06:43:37.545953Z",
     "iopub.status.busy": "2023-04-28T06:43:37.545517Z",
     "iopub.status.idle": "2023-04-28T06:43:37.558977Z",
     "shell.execute_reply": "2023-04-28T06:43:37.557959Z"
    },
    "papermill": {
     "duration": 0.052128,
     "end_time": "2023-04-28T06:43:37.561479",
     "exception": false,
     "start_time": "2023-04-28T06:43:37.509351",
     "status": "completed"
    },
    "tags": []
   },
   "outputs": [
    {
     "name": "stdout",
     "output_type": "stream",
     "text": [
      "<class 'pandas.core.frame.DataFrame'>\n",
      "Int64Index: 66365 entries, 3 to 73983\n",
      "Data columns (total 14 columns):\n",
      " #   Column              Non-Null Count  Dtype\n",
      "---  ------              --------------  -----\n",
      " 0   FIRST_OP            66365 non-null  int64\n",
      " 1   WeekofYear          66365 non-null  int64\n",
      " 2   WeekDay             66365 non-null  int64\n",
      " 3   Hour                66365 non-null  int64\n",
      " 4   DG_IMO_CLASS_C      66365 non-null  int64\n",
      " 5   ımoORnot            66365 non-null  int64\n",
      " 6   SIZE_Q              66365 non-null  int64\n",
      " 7   OPERATOR_C          66365 non-null  int64\n",
      " 8   DayOfMonth          66365 non-null  int64\n",
      " 9   FIRST_OP_MONTH      66365 non-null  int64\n",
      " 10  DELIVERY_BOOKING_I  66365 non-null  int64\n",
      " 11  TYPE_C              66365 non-null  int64\n",
      " 12  Reefer              66365 non-null  int64\n",
      " 13  TOTAL_DWELL_DAYS    66365 non-null  int64\n",
      "dtypes: int64(14)\n",
      "memory usage: 9.6 MB\n"
     ]
    }
   ],
   "source": [
    "df.info()"
   ]
  },
  {
   "cell_type": "code",
   "execution_count": 40,
   "id": "402e9721",
   "metadata": {
    "execution": {
     "iopub.execute_input": "2023-04-28T06:43:37.636311Z",
     "iopub.status.busy": "2023-04-28T06:43:37.635888Z",
     "iopub.status.idle": "2023-04-28T06:43:37.641603Z",
     "shell.execute_reply": "2023-04-28T06:43:37.640249Z"
    },
    "papermill": {
     "duration": 0.045355,
     "end_time": "2023-04-28T06:43:37.644037",
     "exception": false,
     "start_time": "2023-04-28T06:43:37.598682",
     "status": "completed"
    },
    "tags": []
   },
   "outputs": [],
   "source": [
    "df.reset_index(inplace=True)"
   ]
  },
  {
   "cell_type": "code",
   "execution_count": 41,
   "id": "2592fe96",
   "metadata": {
    "execution": {
     "iopub.execute_input": "2023-04-28T06:43:37.717223Z",
     "iopub.status.busy": "2023-04-28T06:43:37.716466Z",
     "iopub.status.idle": "2023-04-28T06:43:37.740127Z",
     "shell.execute_reply": "2023-04-28T06:43:37.738887Z"
    },
    "papermill": {
     "duration": 0.063011,
     "end_time": "2023-04-28T06:43:37.742703",
     "exception": false,
     "start_time": "2023-04-28T06:43:37.679692",
     "status": "completed"
    },
    "tags": []
   },
   "outputs": [
    {
     "data": {
      "text/html": [
       "<div>\n",
       "<style scoped>\n",
       "    .dataframe tbody tr th:only-of-type {\n",
       "        vertical-align: middle;\n",
       "    }\n",
       "\n",
       "    .dataframe tbody tr th {\n",
       "        vertical-align: top;\n",
       "    }\n",
       "\n",
       "    .dataframe thead th {\n",
       "        text-align: right;\n",
       "    }\n",
       "</style>\n",
       "<table border=\"1\" class=\"dataframe\">\n",
       "  <thead>\n",
       "    <tr style=\"text-align: right;\">\n",
       "      <th></th>\n",
       "      <th>FIRST_OP</th>\n",
       "      <th>WeekofYear</th>\n",
       "      <th>WeekDay</th>\n",
       "      <th>Hour</th>\n",
       "      <th>DG_IMO_CLASS_C</th>\n",
       "      <th>ımoORnot</th>\n",
       "      <th>SIZE_Q</th>\n",
       "      <th>OPERATOR_C</th>\n",
       "      <th>DayOfMonth</th>\n",
       "      <th>FIRST_OP_MONTH</th>\n",
       "      <th>DELIVERY_BOOKING_I</th>\n",
       "      <th>TYPE_C</th>\n",
       "      <th>Reefer</th>\n",
       "      <th>TOTAL_DWELL_DAYS</th>\n",
       "    </tr>\n",
       "  </thead>\n",
       "  <tbody>\n",
       "    <tr>\n",
       "      <th>0</th>\n",
       "      <td>1</td>\n",
       "      <td>2</td>\n",
       "      <td>4</td>\n",
       "      <td>19</td>\n",
       "      <td>8</td>\n",
       "      <td>1</td>\n",
       "      <td>20</td>\n",
       "      <td>0</td>\n",
       "      <td>12</td>\n",
       "      <td>1</td>\n",
       "      <td>0</td>\n",
       "      <td>4</td>\n",
       "      <td>0</td>\n",
       "      <td>17</td>\n",
       "    </tr>\n",
       "    <tr>\n",
       "      <th>1</th>\n",
       "      <td>1</td>\n",
       "      <td>2</td>\n",
       "      <td>5</td>\n",
       "      <td>0</td>\n",
       "      <td>8</td>\n",
       "      <td>1</td>\n",
       "      <td>20</td>\n",
       "      <td>0</td>\n",
       "      <td>13</td>\n",
       "      <td>1</td>\n",
       "      <td>0</td>\n",
       "      <td>4</td>\n",
       "      <td>0</td>\n",
       "      <td>16</td>\n",
       "    </tr>\n",
       "    <tr>\n",
       "      <th>2</th>\n",
       "      <td>1</td>\n",
       "      <td>2</td>\n",
       "      <td>4</td>\n",
       "      <td>14</td>\n",
       "      <td>0</td>\n",
       "      <td>0</td>\n",
       "      <td>40</td>\n",
       "      <td>0</td>\n",
       "      <td>12</td>\n",
       "      <td>1</td>\n",
       "      <td>0</td>\n",
       "      <td>1</td>\n",
       "      <td>0</td>\n",
       "      <td>31</td>\n",
       "    </tr>\n",
       "    <tr>\n",
       "      <th>3</th>\n",
       "      <td>2</td>\n",
       "      <td>2</td>\n",
       "      <td>4</td>\n",
       "      <td>14</td>\n",
       "      <td>0</td>\n",
       "      <td>0</td>\n",
       "      <td>40</td>\n",
       "      <td>1</td>\n",
       "      <td>12</td>\n",
       "      <td>1</td>\n",
       "      <td>1</td>\n",
       "      <td>1</td>\n",
       "      <td>0</td>\n",
       "      <td>4</td>\n",
       "    </tr>\n",
       "    <tr>\n",
       "      <th>4</th>\n",
       "      <td>2</td>\n",
       "      <td>2</td>\n",
       "      <td>4</td>\n",
       "      <td>14</td>\n",
       "      <td>0</td>\n",
       "      <td>0</td>\n",
       "      <td>40</td>\n",
       "      <td>2</td>\n",
       "      <td>12</td>\n",
       "      <td>1</td>\n",
       "      <td>1</td>\n",
       "      <td>1</td>\n",
       "      <td>0</td>\n",
       "      <td>2</td>\n",
       "    </tr>\n",
       "  </tbody>\n",
       "</table>\n",
       "</div>"
      ],
      "text/plain": [
       "   FIRST_OP  WeekofYear  WeekDay  Hour  DG_IMO_CLASS_C  ımoORnot  SIZE_Q  \\\n",
       "0         1           2        4    19               8         1      20   \n",
       "1         1           2        5     0               8         1      20   \n",
       "2         1           2        4    14               0         0      40   \n",
       "3         2           2        4    14               0         0      40   \n",
       "4         2           2        4    14               0         0      40   \n",
       "\n",
       "   OPERATOR_C  DayOfMonth  FIRST_OP_MONTH  DELIVERY_BOOKING_I  TYPE_C  Reefer  \\\n",
       "0           0          12               1                   0       4       0   \n",
       "1           0          13               1                   0       4       0   \n",
       "2           0          12               1                   0       1       0   \n",
       "3           1          12               1                   1       1       0   \n",
       "4           2          12               1                   1       1       0   \n",
       "\n",
       "   TOTAL_DWELL_DAYS  \n",
       "0                17  \n",
       "1                16  \n",
       "2                31  \n",
       "3                 4  \n",
       "4                 2  "
      ]
     },
     "execution_count": 41,
     "metadata": {},
     "output_type": "execute_result"
    }
   ],
   "source": [
    "df.drop(columns=\"index\", axis=1, inplace=True)\n",
    "df.head()"
   ]
  },
  {
   "cell_type": "markdown",
   "id": "c078c5f4",
   "metadata": {
    "papermill": {
     "duration": 0.035344,
     "end_time": "2023-04-28T06:43:37.814984",
     "exception": false,
     "start_time": "2023-04-28T06:43:37.779640",
     "status": "completed"
    },
    "tags": []
   },
   "source": [
    "# Lazy Predict"
   ]
  },
  {
   "cell_type": "code",
   "execution_count": 42,
   "id": "af1014c1",
   "metadata": {
    "execution": {
     "iopub.execute_input": "2023-04-28T06:43:37.887940Z",
     "iopub.status.busy": "2023-04-28T06:43:37.887488Z",
     "iopub.status.idle": "2023-04-28T06:43:37.892474Z",
     "shell.execute_reply": "2023-04-28T06:43:37.891515Z"
    },
    "papermill": {
     "duration": 0.044014,
     "end_time": "2023-04-28T06:43:37.894617",
     "exception": false,
     "start_time": "2023-04-28T06:43:37.850603",
     "status": "completed"
    },
    "tags": []
   },
   "outputs": [],
   "source": [
    "df_lp=df[0:2500]"
   ]
  },
  {
   "cell_type": "code",
   "execution_count": 43,
   "id": "a8a86ed5",
   "metadata": {
    "execution": {
     "iopub.execute_input": "2023-04-28T06:43:37.967760Z",
     "iopub.status.busy": "2023-04-28T06:43:37.966917Z",
     "iopub.status.idle": "2023-04-28T06:43:37.977371Z",
     "shell.execute_reply": "2023-04-28T06:43:37.976060Z"
    },
    "papermill": {
     "duration": 0.050041,
     "end_time": "2023-04-28T06:43:37.980163",
     "exception": false,
     "start_time": "2023-04-28T06:43:37.930122",
     "status": "completed"
    },
    "tags": []
   },
   "outputs": [],
   "source": [
    "# kolonların ayrılması\n",
    "X=df_lp.drop(\"TOTAL_DWELL_DAYS\",axis=1)\n",
    "y=df_lp[\"TOTAL_DWELL_DAYS\"]\n",
    "\n",
    "#train test setinni ayrılması\n",
    "\n",
    "X_train,X_test,y_train,y_test=train_test_split(X,y,test_size=0.1, random_state=42)"
   ]
  },
  {
   "cell_type": "code",
   "execution_count": 44,
   "id": "12676b86",
   "metadata": {
    "execution": {
     "iopub.execute_input": "2023-04-28T06:43:38.053695Z",
     "iopub.status.busy": "2023-04-28T06:43:38.053252Z",
     "iopub.status.idle": "2023-04-28T06:43:38.058435Z",
     "shell.execute_reply": "2023-04-28T06:43:38.057105Z"
    },
    "papermill": {
     "duration": 0.045865,
     "end_time": "2023-04-28T06:43:38.061375",
     "exception": false,
     "start_time": "2023-04-28T06:43:38.015510",
     "status": "completed"
    },
    "tags": []
   },
   "outputs": [],
   "source": [
    "#reg = LazyRegressor(verbose=0,ignore_warnings=False, custom_metric=None )\n",
    "#models,predictions = reg.fit(X_train, X_test, y_train, y_test)"
   ]
  },
  {
   "cell_type": "code",
   "execution_count": 45,
   "id": "90fdd804",
   "metadata": {
    "execution": {
     "iopub.execute_input": "2023-04-28T06:43:38.136230Z",
     "iopub.status.busy": "2023-04-28T06:43:38.135784Z",
     "iopub.status.idle": "2023-04-28T06:43:38.140588Z",
     "shell.execute_reply": "2023-04-28T06:43:38.139323Z"
    },
    "papermill": {
     "duration": 0.044524,
     "end_time": "2023-04-28T06:43:38.142884",
     "exception": false,
     "start_time": "2023-04-28T06:43:38.098360",
     "status": "completed"
    },
    "tags": []
   },
   "outputs": [],
   "source": [
    "#models"
   ]
  },
  {
   "cell_type": "markdown",
   "id": "51c885a0",
   "metadata": {
    "papermill": {
     "duration": 0.03527,
     "end_time": "2023-04-28T06:43:38.214488",
     "exception": false,
     "start_time": "2023-04-28T06:43:38.179218",
     "status": "completed"
    },
    "tags": []
   },
   "source": [
    "# XGBOOST"
   ]
  },
  {
   "cell_type": "code",
   "execution_count": 46,
   "id": "e4c416e7",
   "metadata": {
    "execution": {
     "iopub.execute_input": "2023-04-28T06:43:38.287373Z",
     "iopub.status.busy": "2023-04-28T06:43:38.286850Z",
     "iopub.status.idle": "2023-04-28T06:43:38.305761Z",
     "shell.execute_reply": "2023-04-28T06:43:38.304428Z"
    },
    "papermill": {
     "duration": 0.058715,
     "end_time": "2023-04-28T06:43:38.308740",
     "exception": false,
     "start_time": "2023-04-28T06:43:38.250025",
     "status": "completed"
    },
    "tags": []
   },
   "outputs": [],
   "source": [
    "# kolonların ayrılması\n",
    "X=df.drop(\"TOTAL_DWELL_DAYS\",axis=1)\n",
    "y=df[\"TOTAL_DWELL_DAYS\"]\n",
    "\n",
    "#train test setinni ayrılması\n",
    "\n",
    "X_train,X_test,y_train,y_test=train_test_split(X,y,test_size=0.2, random_state=21)"
   ]
  },
  {
   "cell_type": "code",
   "execution_count": 47,
   "id": "c87601f7",
   "metadata": {
    "execution": {
     "iopub.execute_input": "2023-04-28T06:43:38.381616Z",
     "iopub.status.busy": "2023-04-28T06:43:38.381206Z",
     "iopub.status.idle": "2023-04-28T06:43:41.077978Z",
     "shell.execute_reply": "2023-04-28T06:43:41.076857Z"
    },
    "papermill": {
     "duration": 2.736469,
     "end_time": "2023-04-28T06:43:41.080631",
     "exception": false,
     "start_time": "2023-04-28T06:43:38.344162",
     "status": "completed"
    },
    "tags": []
   },
   "outputs": [],
   "source": [
    "xgb_model=XGBRegressor().fit(X_train,y_train)\n"
   ]
  },
  {
   "cell_type": "code",
   "execution_count": 48,
   "id": "31ac461c",
   "metadata": {
    "execution": {
     "iopub.execute_input": "2023-04-28T06:43:41.154153Z",
     "iopub.status.busy": "2023-04-28T06:43:41.153428Z",
     "iopub.status.idle": "2023-04-28T06:43:41.182483Z",
     "shell.execute_reply": "2023-04-28T06:43:41.181280Z"
    },
    "papermill": {
     "duration": 0.069178,
     "end_time": "2023-04-28T06:43:41.185097",
     "exception": false,
     "start_time": "2023-04-28T06:43:41.115919",
     "status": "completed"
    },
    "tags": []
   },
   "outputs": [
    {
     "data": {
      "text/plain": [
       "4.85922914993736"
      ]
     },
     "execution_count": 48,
     "metadata": {},
     "output_type": "execute_result"
    }
   ],
   "source": [
    "y_pred=xgb_model.predict(X_test)\n",
    "np.sqrt(mean_squared_error(y_test, y_pred))"
   ]
  },
  {
   "cell_type": "code",
   "execution_count": 49,
   "id": "023e5d24",
   "metadata": {
    "execution": {
     "iopub.execute_input": "2023-04-28T06:43:41.258247Z",
     "iopub.status.busy": "2023-04-28T06:43:41.257362Z",
     "iopub.status.idle": "2023-04-28T06:43:41.263630Z",
     "shell.execute_reply": "2023-04-28T06:43:41.262376Z"
    },
    "papermill": {
     "duration": 0.045805,
     "end_time": "2023-04-28T06:43:41.266392",
     "exception": false,
     "start_time": "2023-04-28T06:43:41.220587",
     "status": "completed"
    },
    "tags": []
   },
   "outputs": [],
   "source": [
    "xgb_grid = {\n",
    "     'colsample_bytree': [0.4, 0.5,0.6], \n",
    "     'n_estimators':[100, 200],\n",
    "     'max_depth': [2,3,4],\n",
    "     'learning_rate': [0.1, 0.01, 0.5]\n",
    "}"
   ]
  },
  {
   "cell_type": "markdown",
   "id": "7a212ed5",
   "metadata": {
    "execution": {
     "iopub.execute_input": "2023-04-14T11:34:23.977214Z",
     "iopub.status.busy": "2023-04-14T11:34:23.976724Z",
     "iopub.status.idle": "2023-04-14T12:02:28.236128Z",
     "shell.execute_reply": "2023-04-14T12:02:28.234662Z",
     "shell.execute_reply.started": "2023-04-14T11:34:23.977164Z"
    },
    "papermill": {
     "duration": 0.035388,
     "end_time": "2023-04-28T06:43:41.338237",
     "exception": false,
     "start_time": "2023-04-28T06:43:41.302849",
     "status": "completed"
    },
    "tags": []
   },
   "source": [
    "xgb = XGBRegressor()\n",
    "xgb_cv = GridSearchCV(xgb, \n",
    "                      param_grid = xgb_grid, \n",
    "                      cv = 10, \n",
    "                      n_jobs = -1,\n",
    "                      verbose = 2)\n",
    "xgb_cv.fit(X_train, y_train)"
   ]
  },
  {
   "cell_type": "code",
   "execution_count": 50,
   "id": "56ff5fd6",
   "metadata": {
    "execution": {
     "iopub.execute_input": "2023-04-28T06:43:41.411320Z",
     "iopub.status.busy": "2023-04-28T06:43:41.410879Z",
     "iopub.status.idle": "2023-04-28T06:43:41.415629Z",
     "shell.execute_reply": "2023-04-28T06:43:41.414287Z"
    },
    "papermill": {
     "duration": 0.044373,
     "end_time": "2023-04-28T06:43:41.418234",
     "exception": false,
     "start_time": "2023-04-28T06:43:41.373861",
     "status": "completed"
    },
    "tags": []
   },
   "outputs": [],
   "source": [
    "#xgb_cv.best_params_\n"
   ]
  },
  {
   "cell_type": "code",
   "execution_count": 51,
   "id": "9e9adda5",
   "metadata": {
    "execution": {
     "iopub.execute_input": "2023-04-28T06:43:41.492365Z",
     "iopub.status.busy": "2023-04-28T06:43:41.491917Z",
     "iopub.status.idle": "2023-04-28T06:43:48.852329Z",
     "shell.execute_reply": "2023-04-28T06:43:48.851063Z"
    },
    "papermill": {
     "duration": 7.400877,
     "end_time": "2023-04-28T06:43:48.855238",
     "exception": false,
     "start_time": "2023-04-28T06:43:41.454361",
     "status": "completed"
    },
    "tags": []
   },
   "outputs": [],
   "source": [
    "xgb_tuned = XGBRegressor(colsample_bytree = 0.6, \n",
    "                         learning_rate = 0.5, \n",
    "                         max_depth = 10, \n",
    "                         n_estimators = 200) \n",
    "\n",
    "xgb_tuned = xgb_tuned.fit(X_train,y_train)"
   ]
  },
  {
   "cell_type": "code",
   "execution_count": 52,
   "id": "64c0f017",
   "metadata": {
    "execution": {
     "iopub.execute_input": "2023-04-28T06:43:48.928766Z",
     "iopub.status.busy": "2023-04-28T06:43:48.927387Z",
     "iopub.status.idle": "2023-04-28T06:43:49.000053Z",
     "shell.execute_reply": "2023-04-28T06:43:48.999002Z"
    },
    "papermill": {
     "duration": 0.111788,
     "end_time": "2023-04-28T06:43:49.002532",
     "exception": false,
     "start_time": "2023-04-28T06:43:48.890744",
     "status": "completed"
    },
    "tags": []
   },
   "outputs": [
    {
     "data": {
      "text/plain": [
       "4.228736769256755"
      ]
     },
     "execution_count": 52,
     "metadata": {},
     "output_type": "execute_result"
    }
   ],
   "source": [
    "y_pred = xgb_tuned.predict(X_test)\n",
    "np.sqrt(mean_squared_error(y_test, y_pred))"
   ]
  },
  {
   "cell_type": "code",
   "execution_count": 53,
   "id": "30c4019d",
   "metadata": {
    "execution": {
     "iopub.execute_input": "2023-04-28T06:43:49.076122Z",
     "iopub.status.busy": "2023-04-28T06:43:49.074962Z",
     "iopub.status.idle": "2023-04-28T06:43:49.082272Z",
     "shell.execute_reply": "2023-04-28T06:43:49.081291Z"
    },
    "papermill": {
     "duration": 0.046333,
     "end_time": "2023-04-28T06:43:49.084516",
     "exception": false,
     "start_time": "2023-04-28T06:43:49.038183",
     "status": "completed"
    },
    "tags": []
   },
   "outputs": [
    {
     "data": {
      "text/plain": [
       "2.368070428000826"
      ]
     },
     "execution_count": 53,
     "metadata": {},
     "output_type": "execute_result"
    }
   ],
   "source": [
    "mean_absolute_error(y_test, y_pred)"
   ]
  },
  {
   "cell_type": "code",
   "execution_count": 54,
   "id": "ef06f196",
   "metadata": {
    "execution": {
     "iopub.execute_input": "2023-04-28T06:43:49.158086Z",
     "iopub.status.busy": "2023-04-28T06:43:49.156923Z",
     "iopub.status.idle": "2023-04-28T06:43:49.167711Z",
     "shell.execute_reply": "2023-04-28T06:43:49.166373Z"
    },
    "papermill": {
     "duration": 0.050224,
     "end_time": "2023-04-28T06:43:49.170332",
     "exception": false,
     "start_time": "2023-04-28T06:43:49.120108",
     "status": "completed"
    },
    "tags": []
   },
   "outputs": [
    {
     "data": {
      "text/plain": [
       "4     4974\n",
       "3     4828\n",
       "5     4759\n",
       "6     4705\n",
       "7     4322\n",
       "2     3749\n",
       "8     3565\n",
       "11    2930\n",
       "10    2813\n",
       "9     2778\n",
       "12    2657\n",
       "13    2542\n",
       "14    2311\n",
       "15    2032\n",
       "17    1528\n",
       "16    1521\n",
       "1     1434\n",
       "18    1179\n",
       "20    1106\n",
       "21    1099\n",
       "19    1094\n",
       "25     942\n",
       "24     908\n",
       "22     770\n",
       "23     769\n",
       "27     731\n",
       "26     656\n",
       "30     518\n",
       "31     472\n",
       "29     461\n",
       "28     442\n",
       "35     421\n",
       "0      377\n",
       "33     346\n",
       "32     340\n",
       "34     286\n",
       "Name: TOTAL_DWELL_DAYS, dtype: int64"
      ]
     },
     "execution_count": 54,
     "metadata": {},
     "output_type": "execute_result"
    }
   ],
   "source": [
    "df[\"TOTAL_DWELL_DAYS\"].value_counts()"
   ]
  },
  {
   "cell_type": "code",
   "execution_count": 55,
   "id": "37027dda",
   "metadata": {
    "execution": {
     "iopub.execute_input": "2023-04-28T06:43:49.244397Z",
     "iopub.status.busy": "2023-04-28T06:43:49.243993Z",
     "iopub.status.idle": "2023-04-28T06:43:49.263285Z",
     "shell.execute_reply": "2023-04-28T06:43:49.261928Z"
    },
    "papermill": {
     "duration": 0.059617,
     "end_time": "2023-04-28T06:43:49.266040",
     "exception": false,
     "start_time": "2023-04-28T06:43:49.206423",
     "status": "completed"
    },
    "tags": []
   },
   "outputs": [
    {
     "data": {
      "text/html": [
       "<div>\n",
       "<style scoped>\n",
       "    .dataframe tbody tr th:only-of-type {\n",
       "        vertical-align: middle;\n",
       "    }\n",
       "\n",
       "    .dataframe tbody tr th {\n",
       "        vertical-align: top;\n",
       "    }\n",
       "\n",
       "    .dataframe thead th {\n",
       "        text-align: right;\n",
       "    }\n",
       "</style>\n",
       "<table border=\"1\" class=\"dataframe\">\n",
       "  <thead>\n",
       "    <tr style=\"text-align: right;\">\n",
       "      <th></th>\n",
       "      <th>FIRST_OP</th>\n",
       "      <th>WeekofYear</th>\n",
       "      <th>WeekDay</th>\n",
       "      <th>Hour</th>\n",
       "      <th>DG_IMO_CLASS_C</th>\n",
       "      <th>ımoORnot</th>\n",
       "      <th>SIZE_Q</th>\n",
       "      <th>OPERATOR_C</th>\n",
       "      <th>DayOfMonth</th>\n",
       "      <th>FIRST_OP_MONTH</th>\n",
       "      <th>DELIVERY_BOOKING_I</th>\n",
       "      <th>TYPE_C</th>\n",
       "      <th>Reefer</th>\n",
       "      <th>TOTAL_DWELL_DAYS</th>\n",
       "    </tr>\n",
       "  </thead>\n",
       "  <tbody>\n",
       "    <tr>\n",
       "      <th>0</th>\n",
       "      <td>1</td>\n",
       "      <td>2</td>\n",
       "      <td>4</td>\n",
       "      <td>19</td>\n",
       "      <td>8</td>\n",
       "      <td>1</td>\n",
       "      <td>20</td>\n",
       "      <td>0</td>\n",
       "      <td>12</td>\n",
       "      <td>1</td>\n",
       "      <td>0</td>\n",
       "      <td>4</td>\n",
       "      <td>0</td>\n",
       "      <td>17</td>\n",
       "    </tr>\n",
       "    <tr>\n",
       "      <th>1</th>\n",
       "      <td>1</td>\n",
       "      <td>2</td>\n",
       "      <td>5</td>\n",
       "      <td>0</td>\n",
       "      <td>8</td>\n",
       "      <td>1</td>\n",
       "      <td>20</td>\n",
       "      <td>0</td>\n",
       "      <td>13</td>\n",
       "      <td>1</td>\n",
       "      <td>0</td>\n",
       "      <td>4</td>\n",
       "      <td>0</td>\n",
       "      <td>16</td>\n",
       "    </tr>\n",
       "    <tr>\n",
       "      <th>2</th>\n",
       "      <td>1</td>\n",
       "      <td>2</td>\n",
       "      <td>4</td>\n",
       "      <td>14</td>\n",
       "      <td>0</td>\n",
       "      <td>0</td>\n",
       "      <td>40</td>\n",
       "      <td>0</td>\n",
       "      <td>12</td>\n",
       "      <td>1</td>\n",
       "      <td>0</td>\n",
       "      <td>1</td>\n",
       "      <td>0</td>\n",
       "      <td>31</td>\n",
       "    </tr>\n",
       "    <tr>\n",
       "      <th>3</th>\n",
       "      <td>2</td>\n",
       "      <td>2</td>\n",
       "      <td>4</td>\n",
       "      <td>14</td>\n",
       "      <td>0</td>\n",
       "      <td>0</td>\n",
       "      <td>40</td>\n",
       "      <td>1</td>\n",
       "      <td>12</td>\n",
       "      <td>1</td>\n",
       "      <td>1</td>\n",
       "      <td>1</td>\n",
       "      <td>0</td>\n",
       "      <td>4</td>\n",
       "    </tr>\n",
       "    <tr>\n",
       "      <th>4</th>\n",
       "      <td>2</td>\n",
       "      <td>2</td>\n",
       "      <td>4</td>\n",
       "      <td>14</td>\n",
       "      <td>0</td>\n",
       "      <td>0</td>\n",
       "      <td>40</td>\n",
       "      <td>2</td>\n",
       "      <td>12</td>\n",
       "      <td>1</td>\n",
       "      <td>1</td>\n",
       "      <td>1</td>\n",
       "      <td>0</td>\n",
       "      <td>2</td>\n",
       "    </tr>\n",
       "    <tr>\n",
       "      <th>...</th>\n",
       "      <td>...</td>\n",
       "      <td>...</td>\n",
       "      <td>...</td>\n",
       "      <td>...</td>\n",
       "      <td>...</td>\n",
       "      <td>...</td>\n",
       "      <td>...</td>\n",
       "      <td>...</td>\n",
       "      <td>...</td>\n",
       "      <td>...</td>\n",
       "      <td>...</td>\n",
       "      <td>...</td>\n",
       "      <td>...</td>\n",
       "      <td>...</td>\n",
       "    </tr>\n",
       "    <tr>\n",
       "      <th>66360</th>\n",
       "      <td>2</td>\n",
       "      <td>12</td>\n",
       "      <td>5</td>\n",
       "      <td>14</td>\n",
       "      <td>0</td>\n",
       "      <td>0</td>\n",
       "      <td>40</td>\n",
       "      <td>15</td>\n",
       "      <td>24</td>\n",
       "      <td>3</td>\n",
       "      <td>1</td>\n",
       "      <td>1</td>\n",
       "      <td>0</td>\n",
       "      <td>6</td>\n",
       "    </tr>\n",
       "    <tr>\n",
       "      <th>66361</th>\n",
       "      <td>2</td>\n",
       "      <td>12</td>\n",
       "      <td>5</td>\n",
       "      <td>14</td>\n",
       "      <td>0</td>\n",
       "      <td>0</td>\n",
       "      <td>40</td>\n",
       "      <td>2</td>\n",
       "      <td>24</td>\n",
       "      <td>3</td>\n",
       "      <td>1</td>\n",
       "      <td>1</td>\n",
       "      <td>0</td>\n",
       "      <td>6</td>\n",
       "    </tr>\n",
       "    <tr>\n",
       "      <th>66362</th>\n",
       "      <td>2</td>\n",
       "      <td>12</td>\n",
       "      <td>5</td>\n",
       "      <td>14</td>\n",
       "      <td>0</td>\n",
       "      <td>0</td>\n",
       "      <td>40</td>\n",
       "      <td>2</td>\n",
       "      <td>24</td>\n",
       "      <td>3</td>\n",
       "      <td>1</td>\n",
       "      <td>1</td>\n",
       "      <td>0</td>\n",
       "      <td>6</td>\n",
       "    </tr>\n",
       "    <tr>\n",
       "      <th>66363</th>\n",
       "      <td>1</td>\n",
       "      <td>10</td>\n",
       "      <td>4</td>\n",
       "      <td>11</td>\n",
       "      <td>0</td>\n",
       "      <td>0</td>\n",
       "      <td>40</td>\n",
       "      <td>0</td>\n",
       "      <td>9</td>\n",
       "      <td>3</td>\n",
       "      <td>1</td>\n",
       "      <td>1</td>\n",
       "      <td>0</td>\n",
       "      <td>33</td>\n",
       "    </tr>\n",
       "    <tr>\n",
       "      <th>66364</th>\n",
       "      <td>1</td>\n",
       "      <td>10</td>\n",
       "      <td>4</td>\n",
       "      <td>13</td>\n",
       "      <td>0</td>\n",
       "      <td>0</td>\n",
       "      <td>40</td>\n",
       "      <td>0</td>\n",
       "      <td>9</td>\n",
       "      <td>3</td>\n",
       "      <td>1</td>\n",
       "      <td>1</td>\n",
       "      <td>0</td>\n",
       "      <td>33</td>\n",
       "    </tr>\n",
       "  </tbody>\n",
       "</table>\n",
       "<p>66365 rows × 14 columns</p>\n",
       "</div>"
      ],
      "text/plain": [
       "       FIRST_OP  WeekofYear  WeekDay  Hour  DG_IMO_CLASS_C  ımoORnot  SIZE_Q  \\\n",
       "0             1           2        4    19               8         1      20   \n",
       "1             1           2        5     0               8         1      20   \n",
       "2             1           2        4    14               0         0      40   \n",
       "3             2           2        4    14               0         0      40   \n",
       "4             2           2        4    14               0         0      40   \n",
       "...         ...         ...      ...   ...             ...       ...     ...   \n",
       "66360         2          12        5    14               0         0      40   \n",
       "66361         2          12        5    14               0         0      40   \n",
       "66362         2          12        5    14               0         0      40   \n",
       "66363         1          10        4    11               0         0      40   \n",
       "66364         1          10        4    13               0         0      40   \n",
       "\n",
       "       OPERATOR_C  DayOfMonth  FIRST_OP_MONTH  DELIVERY_BOOKING_I  TYPE_C  \\\n",
       "0               0          12               1                   0       4   \n",
       "1               0          13               1                   0       4   \n",
       "2               0          12               1                   0       1   \n",
       "3               1          12               1                   1       1   \n",
       "4               2          12               1                   1       1   \n",
       "...           ...         ...             ...                 ...     ...   \n",
       "66360          15          24               3                   1       1   \n",
       "66361           2          24               3                   1       1   \n",
       "66362           2          24               3                   1       1   \n",
       "66363           0           9               3                   1       1   \n",
       "66364           0           9               3                   1       1   \n",
       "\n",
       "       Reefer  TOTAL_DWELL_DAYS  \n",
       "0           0                17  \n",
       "1           0                16  \n",
       "2           0                31  \n",
       "3           0                 4  \n",
       "4           0                 2  \n",
       "...       ...               ...  \n",
       "66360       0                 6  \n",
       "66361       0                 6  \n",
       "66362       0                 6  \n",
       "66363       0                33  \n",
       "66364       0                33  \n",
       "\n",
       "[66365 rows x 14 columns]"
      ]
     },
     "execution_count": 55,
     "metadata": {},
     "output_type": "execute_result"
    }
   ],
   "source": [
    "df"
   ]
  },
  {
   "cell_type": "markdown",
   "id": "a13f87b5",
   "metadata": {
    "papermill": {
     "duration": 0.036269,
     "end_time": "2023-04-28T06:43:49.339113",
     "exception": false,
     "start_time": "2023-04-28T06:43:49.302844",
     "status": "completed"
    },
    "tags": []
   },
   "source": [
    "# Random Forest"
   ]
  },
  {
   "cell_type": "code",
   "execution_count": 56,
   "id": "daba331c",
   "metadata": {
    "execution": {
     "iopub.execute_input": "2023-04-28T06:43:49.413662Z",
     "iopub.status.busy": "2023-04-28T06:43:49.412961Z",
     "iopub.status.idle": "2023-04-28T06:43:49.418120Z",
     "shell.execute_reply": "2023-04-28T06:43:49.417194Z"
    },
    "papermill": {
     "duration": 0.045343,
     "end_time": "2023-04-28T06:43:49.420605",
     "exception": false,
     "start_time": "2023-04-28T06:43:49.375262",
     "status": "completed"
    },
    "tags": []
   },
   "outputs": [],
   "source": [
    "from sklearn.ensemble import RandomForestRegressor\n"
   ]
  },
  {
   "cell_type": "code",
   "execution_count": 57,
   "id": "8416b08d",
   "metadata": {
    "execution": {
     "iopub.execute_input": "2023-04-28T06:43:49.496598Z",
     "iopub.status.busy": "2023-04-28T06:43:49.495822Z",
     "iopub.status.idle": "2023-04-28T06:43:49.503306Z",
     "shell.execute_reply": "2023-04-28T06:43:49.502197Z"
    },
    "papermill": {
     "duration": 0.04857,
     "end_time": "2023-04-28T06:43:49.505677",
     "exception": false,
     "start_time": "2023-04-28T06:43:49.457107",
     "status": "completed"
    },
    "tags": []
   },
   "outputs": [
    {
     "data": {
      "text/plain": [
       "(66365, 13)"
      ]
     },
     "execution_count": 57,
     "metadata": {},
     "output_type": "execute_result"
    }
   ],
   "source": [
    "X.shape"
   ]
  },
  {
   "cell_type": "code",
   "execution_count": 58,
   "id": "f6bbdad9",
   "metadata": {
    "execution": {
     "iopub.execute_input": "2023-04-28T06:43:49.582758Z",
     "iopub.status.busy": "2023-04-28T06:43:49.582040Z",
     "iopub.status.idle": "2023-04-28T06:43:49.596833Z",
     "shell.execute_reply": "2023-04-28T06:43:49.595676Z"
    },
    "papermill": {
     "duration": 0.056698,
     "end_time": "2023-04-28T06:43:49.599437",
     "exception": false,
     "start_time": "2023-04-28T06:43:49.542739",
     "status": "completed"
    },
    "tags": []
   },
   "outputs": [],
   "source": [
    "X_train,X_test,y_train,y_test=train_test_split(X,y,test_size=0.10,random_state=42)\n"
   ]
  },
  {
   "cell_type": "code",
   "execution_count": 59,
   "id": "5939e9f2",
   "metadata": {
    "execution": {
     "iopub.execute_input": "2023-04-28T06:43:49.674763Z",
     "iopub.status.busy": "2023-04-28T06:43:49.674047Z",
     "iopub.status.idle": "2023-04-28T06:44:02.240227Z",
     "shell.execute_reply": "2023-04-28T06:44:02.238765Z"
    },
    "papermill": {
     "duration": 12.607085,
     "end_time": "2023-04-28T06:44:02.243131",
     "exception": false,
     "start_time": "2023-04-28T06:43:49.636046",
     "status": "completed"
    },
    "tags": []
   },
   "outputs": [
    {
     "data": {
      "text/plain": [
       "RandomForestRegressor(random_state=21)"
      ]
     },
     "execution_count": 59,
     "metadata": {},
     "output_type": "execute_result"
    }
   ],
   "source": [
    "rf_model=RandomForestRegressor(random_state=21)\n",
    "rf_model.fit(X_train,y_train)"
   ]
  },
  {
   "cell_type": "code",
   "execution_count": 60,
   "id": "525ac52b",
   "metadata": {
    "execution": {
     "iopub.execute_input": "2023-04-28T06:44:02.318866Z",
     "iopub.status.busy": "2023-04-28T06:44:02.317799Z",
     "iopub.status.idle": "2023-04-28T06:44:02.533592Z",
     "shell.execute_reply": "2023-04-28T06:44:02.532205Z"
    },
    "papermill": {
     "duration": 0.256909,
     "end_time": "2023-04-28T06:44:02.536549",
     "exception": false,
     "start_time": "2023-04-28T06:44:02.279640",
     "status": "completed"
    },
    "tags": []
   },
   "outputs": [],
   "source": [
    "y_pred = rf_model.predict(X_test)\n"
   ]
  },
  {
   "cell_type": "code",
   "execution_count": 61,
   "id": "ea1a9861",
   "metadata": {
    "execution": {
     "iopub.execute_input": "2023-04-28T06:44:02.614721Z",
     "iopub.status.busy": "2023-04-28T06:44:02.613887Z",
     "iopub.status.idle": "2023-04-28T06:44:02.622976Z",
     "shell.execute_reply": "2023-04-28T06:44:02.621621Z"
    },
    "papermill": {
     "duration": 0.051573,
     "end_time": "2023-04-28T06:44:02.625426",
     "exception": false,
     "start_time": "2023-04-28T06:44:02.573853",
     "status": "completed"
    },
    "tags": []
   },
   "outputs": [
    {
     "data": {
      "text/plain": [
       "4.001193531401552"
      ]
     },
     "execution_count": 61,
     "metadata": {},
     "output_type": "execute_result"
    }
   ],
   "source": [
    "np.sqrt(mean_squared_error(y_test,y_pred))\n"
   ]
  },
  {
   "cell_type": "code",
   "execution_count": 62,
   "id": "903390cc",
   "metadata": {
    "execution": {
     "iopub.execute_input": "2023-04-28T06:44:02.701814Z",
     "iopub.status.busy": "2023-04-28T06:44:02.701061Z",
     "iopub.status.idle": "2023-04-28T06:44:02.708876Z",
     "shell.execute_reply": "2023-04-28T06:44:02.707688Z"
    },
    "papermill": {
     "duration": 0.048769,
     "end_time": "2023-04-28T06:44:02.711366",
     "exception": false,
     "start_time": "2023-04-28T06:44:02.662597",
     "status": "completed"
    },
    "tags": []
   },
   "outputs": [
    {
     "data": {
      "text/plain": [
       "2.1124293176531963"
      ]
     },
     "execution_count": 62,
     "metadata": {},
     "output_type": "execute_result"
    }
   ],
   "source": [
    "mean_absolute_error(y_test, y_pred)"
   ]
  },
  {
   "cell_type": "code",
   "execution_count": 63,
   "id": "8456b311",
   "metadata": {
    "execution": {
     "iopub.execute_input": "2023-04-28T06:44:02.786745Z",
     "iopub.status.busy": "2023-04-28T06:44:02.786299Z",
     "iopub.status.idle": "2023-04-28T06:44:02.794886Z",
     "shell.execute_reply": "2023-04-28T06:44:02.793985Z"
    },
    "papermill": {
     "duration": 0.048953,
     "end_time": "2023-04-28T06:44:02.797148",
     "exception": false,
     "start_time": "2023-04-28T06:44:02.748195",
     "status": "completed"
    },
    "tags": []
   },
   "outputs": [
    {
     "data": {
      "text/plain": [
       "10.997895607469733"
      ]
     },
     "execution_count": 63,
     "metadata": {},
     "output_type": "execute_result"
    }
   ],
   "source": [
    "total=0\n",
    "for i in y_pred:\n",
    "    total+=i\n",
    "total/len(y_pred)    "
   ]
  },
  {
   "cell_type": "code",
   "execution_count": 64,
   "id": "f095f6cd",
   "metadata": {
    "execution": {
     "iopub.execute_input": "2023-04-28T06:44:02.873576Z",
     "iopub.status.busy": "2023-04-28T06:44:02.873158Z",
     "iopub.status.idle": "2023-04-28T06:44:03.252658Z",
     "shell.execute_reply": "2023-04-28T06:44:03.251287Z"
    },
    "papermill": {
     "duration": 0.421381,
     "end_time": "2023-04-28T06:44:03.255545",
     "exception": false,
     "start_time": "2023-04-28T06:44:02.834164",
     "status": "completed"
    },
    "tags": []
   },
   "outputs": [
    {
     "data": {
      "text/plain": [
       "<AxesSubplot:>"
      ]
     },
     "execution_count": 64,
     "metadata": {},
     "output_type": "execute_result"
    },
    {
     "data": {
      "image/png": "[encoded data removed]",
      "text/plain": [
       "<Figure size 640x480 with 1 Axes>"
      ]
     },
     "metadata": {},
     "output_type": "display_data"
    }
   ],
   "source": [
    "Importance=pd.DataFrame({\"Importance\":rf_model.feature_importances_*100},\n",
    "                       index=X_train.columns)\n",
    "Importance.sort_values(by=\"Importance\",\n",
    "                      axis=0,\n",
    "                      ascending=True).plot(kind=\"barh\",color=\"r\")"
   ]
  },
  {
   "cell_type": "markdown",
   "id": "053abd02",
   "metadata": {
    "papermill": {
     "duration": 0.037308,
     "end_time": "2023-04-28T06:44:03.330558",
     "exception": false,
     "start_time": "2023-04-28T06:44:03.293250",
     "status": "completed"
    },
    "tags": []
   },
   "source": [
    "# RF Tune"
   ]
  },
  {
   "cell_type": "code",
   "execution_count": 65,
   "id": "c6d90004",
   "metadata": {
    "execution": {
     "iopub.execute_input": "2023-04-28T06:44:03.408983Z",
     "iopub.status.busy": "2023-04-28T06:44:03.408502Z",
     "iopub.status.idle": "2023-04-28T06:44:03.419140Z",
     "shell.execute_reply": "2023-04-28T06:44:03.417966Z"
    },
    "papermill": {
     "duration": 0.052777,
     "end_time": "2023-04-28T06:44:03.421430",
     "exception": false,
     "start_time": "2023-04-28T06:44:03.368653",
     "status": "completed"
    },
    "tags": []
   },
   "outputs": [],
   "source": [
    "df_lp=df[0:5000]\n",
    "# kolonların ayrılması\n",
    "X=df_lp.drop(\"TOTAL_DWELL_DAYS\",axis=1)\n",
    "y=df_lp[\"TOTAL_DWELL_DAYS\"]\n",
    "\n",
    "#train test setinni ayrılması\n",
    "\n",
    "X_train,X_test,y_train,y_test=train_test_split(X,y,test_size=0.1, random_state=42)"
   ]
  },
  {
   "cell_type": "code",
   "execution_count": 66,
   "id": "45d20c00",
   "metadata": {
    "execution": {
     "iopub.execute_input": "2023-04-28T06:44:03.499359Z",
     "iopub.status.busy": "2023-04-28T06:44:03.497948Z",
     "iopub.status.idle": "2023-04-28T06:44:03.504996Z",
     "shell.execute_reply": "2023-04-28T06:44:03.503707Z"
    },
    "papermill": {
     "duration": 0.048713,
     "end_time": "2023-04-28T06:44:03.507693",
     "exception": false,
     "start_time": "2023-04-28T06:44:03.458980",
     "status": "completed"
    },
    "tags": []
   },
   "outputs": [],
   "source": [
    "rf_params={\"max_depth\":list(range(0,10)),\n",
    "           \"max_features\":list(range(0,13)),\n",
    "          \"n_estimators\":[100,200,300,400,500]}"
   ]
  },
  {
   "cell_type": "code",
   "execution_count": 67,
   "id": "6ac73249",
   "metadata": {
    "execution": {
     "iopub.execute_input": "2023-04-28T06:44:03.665607Z",
     "iopub.status.busy": "2023-04-28T06:44:03.665190Z",
     "iopub.status.idle": "2023-04-28T06:44:03.671163Z",
     "shell.execute_reply": "2023-04-28T06:44:03.669756Z"
    },
    "papermill": {
     "duration": 0.1288,
     "end_time": "2023-04-28T06:44:03.673783",
     "exception": false,
     "start_time": "2023-04-28T06:44:03.544983",
     "status": "completed"
    },
    "tags": []
   },
   "outputs": [],
   "source": [
    "rf_model=RandomForestRegressor(random_state=42)\n"
   ]
  },
  {
   "cell_type": "code",
   "execution_count": 68,
   "id": "a6156362",
   "metadata": {
    "execution": {
     "iopub.execute_input": "2023-04-28T06:44:03.753554Z",
     "iopub.status.busy": "2023-04-28T06:44:03.752508Z",
     "iopub.status.idle": "2023-04-28T06:44:03.757958Z",
     "shell.execute_reply": "2023-04-28T06:44:03.756818Z"
    },
    "papermill": {
     "duration": 0.04707,
     "end_time": "2023-04-28T06:44:03.760314",
     "exception": false,
     "start_time": "2023-04-28T06:44:03.713244",
     "status": "completed"
    },
    "tags": []
   },
   "outputs": [],
   "source": [
    "rf_cv_model=GridSearchCV(rf_model,\n",
    "                        rf_params,\n",
    "                        cv=5,\n",
    "                        n_jobs=-1)"
   ]
  },
  {
   "cell_type": "code",
   "execution_count": 69,
   "id": "8680846f",
   "metadata": {
    "execution": {
     "iopub.execute_input": "2023-04-28T06:44:03.841216Z",
     "iopub.status.busy": "2023-04-28T06:44:03.840090Z",
     "iopub.status.idle": "2023-04-28T06:44:03.845073Z",
     "shell.execute_reply": "2023-04-28T06:44:03.843659Z"
    },
    "papermill": {
     "duration": 0.047354,
     "end_time": "2023-04-28T06:44:03.847517",
     "exception": false,
     "start_time": "2023-04-28T06:44:03.800163",
     "status": "completed"
    },
    "tags": []
   },
   "outputs": [],
   "source": [
    "#rf_cv_model.fit(X_train,y_train)\n"
   ]
  },
  {
   "cell_type": "code",
   "execution_count": 70,
   "id": "96eeac2f",
   "metadata": {
    "execution": {
     "iopub.execute_input": "2023-04-28T06:44:03.924888Z",
     "iopub.status.busy": "2023-04-28T06:44:03.924494Z",
     "iopub.status.idle": "2023-04-28T06:44:03.929816Z",
     "shell.execute_reply": "2023-04-28T06:44:03.928478Z"
    },
    "papermill": {
     "duration": 0.047153,
     "end_time": "2023-04-28T06:44:03.932363",
     "exception": false,
     "start_time": "2023-04-28T06:44:03.885210",
     "status": "completed"
    },
    "tags": []
   },
   "outputs": [],
   "source": [
    "rf_tuned=RandomForestRegressor(max_depth= 9, max_features= 1, n_estimators=100 )\n"
   ]
  },
  {
   "cell_type": "code",
   "execution_count": 71,
   "id": "a2ee335f",
   "metadata": {
    "execution": {
     "iopub.execute_input": "2023-04-28T06:44:04.011714Z",
     "iopub.status.busy": "2023-04-28T06:44:04.010870Z",
     "iopub.status.idle": "2023-04-28T06:44:04.232806Z",
     "shell.execute_reply": "2023-04-28T06:44:04.231742Z"
    },
    "papermill": {
     "duration": 0.264358,
     "end_time": "2023-04-28T06:44:04.235572",
     "exception": false,
     "start_time": "2023-04-28T06:44:03.971214",
     "status": "completed"
    },
    "tags": []
   },
   "outputs": [
    {
     "data": {
      "text/plain": [
       "RandomForestRegressor(max_depth=9, max_features=1)"
      ]
     },
     "execution_count": 71,
     "metadata": {},
     "output_type": "execute_result"
    }
   ],
   "source": [
    "rf_tuned.fit(X_train,y_train)\n"
   ]
  },
  {
   "cell_type": "code",
   "execution_count": 72,
   "id": "77138ae4",
   "metadata": {
    "execution": {
     "iopub.execute_input": "2023-04-28T06:44:04.314880Z",
     "iopub.status.busy": "2023-04-28T06:44:04.314015Z",
     "iopub.status.idle": "2023-04-28T06:44:04.335546Z",
     "shell.execute_reply": "2023-04-28T06:44:04.334352Z"
    },
    "papermill": {
     "duration": 0.064218,
     "end_time": "2023-04-28T06:44:04.338287",
     "exception": false,
     "start_time": "2023-04-28T06:44:04.274069",
     "status": "completed"
    },
    "tags": []
   },
   "outputs": [],
   "source": [
    "y_pred=rf_tuned.predict(X_test)\n"
   ]
  },
  {
   "cell_type": "code",
   "execution_count": 73,
   "id": "cb3df0f9",
   "metadata": {
    "execution": {
     "iopub.execute_input": "2023-04-28T06:44:04.417730Z",
     "iopub.status.busy": "2023-04-28T06:44:04.416691Z",
     "iopub.status.idle": "2023-04-28T06:44:04.425316Z",
     "shell.execute_reply": "2023-04-28T06:44:04.424301Z"
    },
    "papermill": {
     "duration": 0.051414,
     "end_time": "2023-04-28T06:44:04.427736",
     "exception": false,
     "start_time": "2023-04-28T06:44:04.376322",
     "status": "completed"
    },
    "tags": []
   },
   "outputs": [
    {
     "data": {
      "text/plain": [
       "4.236967805302839"
      ]
     },
     "execution_count": 73,
     "metadata": {},
     "output_type": "execute_result"
    }
   ],
   "source": [
    "np.sqrt(mean_squared_error(y_test,y_pred))\n"
   ]
  },
  {
   "cell_type": "code",
   "execution_count": 74,
   "id": "0b373ac1",
   "metadata": {
    "execution": {
     "iopub.execute_input": "2023-04-28T06:44:04.505972Z",
     "iopub.status.busy": "2023-04-28T06:44:04.505096Z",
     "iopub.status.idle": "2023-04-28T06:44:04.513530Z",
     "shell.execute_reply": "2023-04-28T06:44:04.512319Z"
    },
    "papermill": {
     "duration": 0.050526,
     "end_time": "2023-04-28T06:44:04.516047",
     "exception": false,
     "start_time": "2023-04-28T06:44:04.465521",
     "status": "completed"
    },
    "tags": []
   },
   "outputs": [
    {
     "data": {
      "text/plain": [
       "2.9460655624965404"
      ]
     },
     "execution_count": 74,
     "metadata": {},
     "output_type": "execute_result"
    }
   ],
   "source": [
    "mean_absolute_error(y_test, y_pred)"
   ]
  },
  {
   "cell_type": "markdown",
   "id": "4e024e36",
   "metadata": {
    "papermill": {
     "duration": 0.038408,
     "end_time": "2023-04-28T06:44:04.592806",
     "exception": false,
     "start_time": "2023-04-28T06:44:04.554398",
     "status": "completed"
    },
    "tags": []
   },
   "source": [
    "# Corr Anlysis"
   ]
  },
  {
   "cell_type": "code",
   "execution_count": 75,
   "id": "6565081b",
   "metadata": {
    "execution": {
     "iopub.execute_input": "2023-04-28T06:44:04.672253Z",
     "iopub.status.busy": "2023-04-28T06:44:04.671188Z",
     "iopub.status.idle": "2023-04-28T06:44:05.890386Z",
     "shell.execute_reply": "2023-04-28T06:44:05.889161Z"
    },
    "papermill": {
     "duration": 1.262722,
     "end_time": "2023-04-28T06:44:05.893713",
     "exception": false,
     "start_time": "2023-04-28T06:44:04.630991",
     "status": "completed"
    },
    "tags": []
   },
   "outputs": [
    {
     "data": {
      "image/png": "[encoded data removed]",
      "text/plain": [
       "<Figure size 1000x600 with 2 Axes>"
      ]
     },
     "metadata": {},
     "output_type": "display_data"
    }
   ],
   "source": [
    "import seaborn as sb\n",
    "plt.figure(figsize=(10,6))\n",
    "corr = df.corr()\n",
    "sb.heatmap(corr, cmap=\"Blues\", annot=True)\n",
    "plt.show()\n"
   ]
  },
  {
   "cell_type": "markdown",
   "id": "628d24f1",
   "metadata": {
    "papermill": {
     "duration": 0.040674,
     "end_time": "2023-04-28T06:44:05.976116",
     "exception": false,
     "start_time": "2023-04-28T06:44:05.935442",
     "status": "completed"
    },
    "tags": []
   },
   "source": [
    "# MLR"
   ]
  },
  {
   "cell_type": "code",
   "execution_count": 76,
   "id": "b4cfa45f",
   "metadata": {
    "execution": {
     "iopub.execute_input": "2023-04-28T06:44:06.061153Z",
     "iopub.status.busy": "2023-04-28T06:44:06.059974Z",
     "iopub.status.idle": "2023-04-28T06:44:07.727469Z",
     "shell.execute_reply": "2023-04-28T06:44:07.725935Z"
    },
    "papermill": {
     "duration": 1.713355,
     "end_time": "2023-04-28T06:44:07.730543",
     "exception": false,
     "start_time": "2023-04-28T06:44:06.017188",
     "status": "completed"
    },
    "tags": []
   },
   "outputs": [],
   "source": [
    "import statsmodels.api as sm\n"
   ]
  },
  {
   "cell_type": "code",
   "execution_count": 77,
   "id": "cdeb877a",
   "metadata": {
    "execution": {
     "iopub.execute_input": "2023-04-28T06:44:07.818636Z",
     "iopub.status.busy": "2023-04-28T06:44:07.818175Z",
     "iopub.status.idle": "2023-04-28T06:44:07.829684Z",
     "shell.execute_reply": "2023-04-28T06:44:07.828107Z"
    },
    "papermill": {
     "duration": 0.060215,
     "end_time": "2023-04-28T06:44:07.833287",
     "exception": false,
     "start_time": "2023-04-28T06:44:07.773072",
     "status": "completed"
    },
    "tags": []
   },
   "outputs": [],
   "source": [
    "df_mlr=df[0:2500]\n",
    "# kolonların ayrılması\n",
    "X=df_mlr.drop(\"TOTAL_DWELL_DAYS\",axis=1)\n",
    "y=df_mlr[\"TOTAL_DWELL_DAYS\"]\n",
    "\n",
    "#train test setinni ayrılması\n",
    "\n",
    "X_train,X_test,y_train,y_test=train_test_split(X,y,test_size=0.2, random_state=42)"
   ]
  },
  {
   "cell_type": "code",
   "execution_count": 78,
   "id": "6744ad13",
   "metadata": {
    "execution": {
     "iopub.execute_input": "2023-04-28T06:44:07.918647Z",
     "iopub.status.busy": "2023-04-28T06:44:07.918252Z",
     "iopub.status.idle": "2023-04-28T06:44:07.973262Z",
     "shell.execute_reply": "2023-04-28T06:44:07.971890Z"
    },
    "papermill": {
     "duration": 0.102038,
     "end_time": "2023-04-28T06:44:07.977231",
     "exception": false,
     "start_time": "2023-04-28T06:44:07.875193",
     "status": "completed"
    },
    "tags": []
   },
   "outputs": [
    {
     "data": {
      "text/html": [
       "<table class=\"simpletable\">\n",
       "<caption>OLS Regression Results</caption>\n",
       "<tr>\n",
       "  <th>Dep. Variable:</th>    <td>TOTAL_DWELL_DAYS</td> <th>  R-squared (uncentered):</th>      <td>   0.727</td> \n",
       "</tr>\n",
       "<tr>\n",
       "  <th>Model:</th>                   <td>OLS</td>       <th>  Adj. R-squared (uncentered):</th> <td>   0.725</td> \n",
       "</tr>\n",
       "<tr>\n",
       "  <th>Method:</th>             <td>Least Squares</td>  <th>  F-statistic:       </th>          <td>   440.6</td> \n",
       "</tr>\n",
       "<tr>\n",
       "  <th>Date:</th>             <td>Fri, 28 Apr 2023</td> <th>  Prob (F-statistic):</th>           <td>  0.00</td>  \n",
       "</tr>\n",
       "<tr>\n",
       "  <th>Time:</th>                 <td>06:44:07</td>     <th>  Log-Likelihood:    </th>          <td> -6764.4</td> \n",
       "</tr>\n",
       "<tr>\n",
       "  <th>No. Observations:</th>      <td>  2000</td>      <th>  AIC:               </th>          <td>1.355e+04</td>\n",
       "</tr>\n",
       "<tr>\n",
       "  <th>Df Residuals:</th>          <td>  1988</td>      <th>  BIC:               </th>          <td>1.362e+04</td>\n",
       "</tr>\n",
       "<tr>\n",
       "  <th>Df Model:</th>              <td>    12</td>      <th>                     </th>              <td> </td>    \n",
       "</tr>\n",
       "<tr>\n",
       "  <th>Covariance Type:</th>      <td>nonrobust</td>    <th>                     </th>              <td> </td>    \n",
       "</tr>\n",
       "</table>\n",
       "<table class=\"simpletable\">\n",
       "<tr>\n",
       "           <td></td>             <th>coef</th>     <th>std err</th>      <th>t</th>      <th>P>|t|</th>  <th>[0.025</th>    <th>0.975]</th>  \n",
       "</tr>\n",
       "<tr>\n",
       "  <th>FIRST_OP</th>           <td>    0.5625</td> <td>    0.241</td> <td>    2.334</td> <td> 0.020</td> <td>    0.090</td> <td>    1.035</td>\n",
       "</tr>\n",
       "<tr>\n",
       "  <th>WeekofYear</th>         <td>   -4.9170</td> <td>    0.224</td> <td>  -21.970</td> <td> 0.000</td> <td>   -5.356</td> <td>   -4.478</td>\n",
       "</tr>\n",
       "<tr>\n",
       "  <th>WeekDay</th>            <td>   -0.7460</td> <td>    0.094</td> <td>   -7.947</td> <td> 0.000</td> <td>   -0.930</td> <td>   -0.562</td>\n",
       "</tr>\n",
       "<tr>\n",
       "  <th>Hour</th>               <td>   -0.0355</td> <td>    0.029</td> <td>   -1.226</td> <td> 0.220</td> <td>   -0.092</td> <td>    0.021</td>\n",
       "</tr>\n",
       "<tr>\n",
       "  <th>DG_IMO_CLASS_C</th>     <td>    0.7221</td> <td>    0.644</td> <td>    1.121</td> <td> 0.263</td> <td>   -0.542</td> <td>    1.986</td>\n",
       "</tr>\n",
       "<tr>\n",
       "  <th>ımoORnot</th>           <td>    0.0903</td> <td>    0.081</td> <td>    1.121</td> <td> 0.263</td> <td>   -0.068</td> <td>    0.248</td>\n",
       "</tr>\n",
       "<tr>\n",
       "  <th>SIZE_Q</th>             <td>    0.0959</td> <td>    0.024</td> <td>    3.917</td> <td> 0.000</td> <td>    0.048</td> <td>    0.144</td>\n",
       "</tr>\n",
       "<tr>\n",
       "  <th>OPERATOR_C</th>         <td>   -0.5116</td> <td>    0.029</td> <td>  -17.902</td> <td> 0.000</td> <td>   -0.568</td> <td>   -0.456</td>\n",
       "</tr>\n",
       "<tr>\n",
       "  <th>DayOfMonth</th>         <td>    0.6272</td> <td>    0.040</td> <td>   15.738</td> <td> 0.000</td> <td>    0.549</td> <td>    0.705</td>\n",
       "</tr>\n",
       "<tr>\n",
       "  <th>FIRST_OP_MONTH</th>     <td>   20.0442</td> <td>    0.898</td> <td>   22.312</td> <td> 0.000</td> <td>   18.282</td> <td>   21.806</td>\n",
       "</tr>\n",
       "<tr>\n",
       "  <th>DELIVERY_BOOKING_I</th> <td>   -0.8956</td> <td>    0.403</td> <td>   -2.221</td> <td> 0.026</td> <td>   -1.687</td> <td>   -0.105</td>\n",
       "</tr>\n",
       "<tr>\n",
       "  <th>TYPE_C</th>             <td>   -1.5508</td> <td>    0.321</td> <td>   -4.837</td> <td> 0.000</td> <td>   -2.180</td> <td>   -0.922</td>\n",
       "</tr>\n",
       "<tr>\n",
       "  <th>Reefer</th>             <td>   -2.5502</td> <td>    0.633</td> <td>   -4.027</td> <td> 0.000</td> <td>   -3.792</td> <td>   -1.308</td>\n",
       "</tr>\n",
       "</table>\n",
       "<table class=\"simpletable\">\n",
       "<tr>\n",
       "  <th>Omnibus:</th>       <td>170.967</td> <th>  Durbin-Watson:     </th> <td>   1.975</td>\n",
       "</tr>\n",
       "<tr>\n",
       "  <th>Prob(Omnibus):</th> <td> 0.000</td>  <th>  Jarque-Bera (JB):  </th> <td> 226.871</td>\n",
       "</tr>\n",
       "<tr>\n",
       "  <th>Skew:</th>          <td> 0.716</td>  <th>  Prob(JB):          </th> <td>5.44e-50</td>\n",
       "</tr>\n",
       "<tr>\n",
       "  <th>Kurtosis:</th>      <td> 3.820</td>  <th>  Cond. No.          </th> <td>3.03e+17</td>\n",
       "</tr>\n",
       "</table><br/><br/>Notes:<br/>[1] R² is computed without centering (uncentered) since the model does not contain a constant.<br/>[2] Standard Errors assume that the covariance matrix of the errors is correctly specified.<br/>[3] The smallest eigenvalue is 3.34e-29. This might indicate that there are<br/>strong multicollinearity problems or that the design matrix is singular."
      ],
      "text/plain": [
       "<class 'statsmodels.iolib.summary.Summary'>\n",
       "\"\"\"\n",
       "                                 OLS Regression Results                                \n",
       "=======================================================================================\n",
       "Dep. Variable:       TOTAL_DWELL_DAYS   R-squared (uncentered):                   0.727\n",
       "Model:                            OLS   Adj. R-squared (uncentered):              0.725\n",
       "Method:                 Least Squares   F-statistic:                              440.6\n",
       "Date:                Fri, 28 Apr 2023   Prob (F-statistic):                        0.00\n",
       "Time:                        06:44:07   Log-Likelihood:                         -6764.4\n",
       "No. Observations:                2000   AIC:                                  1.355e+04\n",
       "Df Residuals:                    1988   BIC:                                  1.362e+04\n",
       "Df Model:                          12                                                  \n",
       "Covariance Type:            nonrobust                                                  \n",
       "======================================================================================\n",
       "                         coef    std err          t      P>|t|      [0.025      0.975]\n",
       "--------------------------------------------------------------------------------------\n",
       "FIRST_OP               0.5625      0.241      2.334      0.020       0.090       1.035\n",
       "WeekofYear            -4.9170      0.224    -21.970      0.000      -5.356      -4.478\n",
       "WeekDay               -0.7460      0.094     -7.947      0.000      -0.930      -0.562\n",
       "Hour                  -0.0355      0.029     -1.226      0.220      -0.092       0.021\n",
       "DG_IMO_CLASS_C         0.7221      0.644      1.121      0.263      -0.542       1.986\n",
       "ımoORnot               0.0903      0.081      1.121      0.263      -0.068       0.248\n",
       "SIZE_Q                 0.0959      0.024      3.917      0.000       0.048       0.144\n",
       "OPERATOR_C            -0.5116      0.029    -17.902      0.000      -0.568      -0.456\n",
       "DayOfMonth             0.6272      0.040     15.738      0.000       0.549       0.705\n",
       "FIRST_OP_MONTH        20.0442      0.898     22.312      0.000      18.282      21.806\n",
       "DELIVERY_BOOKING_I    -0.8956      0.403     -2.221      0.026      -1.687      -0.105\n",
       "TYPE_C                -1.5508      0.321     -4.837      0.000      -2.180      -0.922\n",
       "Reefer                -2.5502      0.633     -4.027      0.000      -3.792      -1.308\n",
       "==============================================================================\n",
       "Omnibus:                      170.967   Durbin-Watson:                   1.975\n",
       "Prob(Omnibus):                  0.000   Jarque-Bera (JB):              226.871\n",
       "Skew:                           0.716   Prob(JB):                     5.44e-50\n",
       "Kurtosis:                       3.820   Cond. No.                     3.03e+17\n",
       "==============================================================================\n",
       "\n",
       "Notes:\n",
       "[1] R² is computed without centering (uncentered) since the model does not contain a constant.\n",
       "[2] Standard Errors assume that the covariance matrix of the errors is correctly specified.\n",
       "[3] The smallest eigenvalue is 3.34e-29. This might indicate that there are\n",
       "strong multicollinearity problems or that the design matrix is singular.\n",
       "\"\"\""
      ]
     },
     "execution_count": 78,
     "metadata": {},
     "output_type": "execute_result"
    }
   ],
   "source": [
    "lm = sm.OLS(y_train,X_train)\n",
    "model=lm.fit()\n",
    "model.summary()"
   ]
  },
  {
   "cell_type": "code",
   "execution_count": 79,
   "id": "877385ce",
   "metadata": {
    "execution": {
     "iopub.execute_input": "2023-04-28T06:44:08.098582Z",
     "iopub.status.busy": "2023-04-28T06:44:08.098159Z",
     "iopub.status.idle": "2023-04-28T06:44:08.109837Z",
     "shell.execute_reply": "2023-04-28T06:44:08.108399Z"
    },
    "papermill": {
     "duration": 0.064547,
     "end_time": "2023-04-28T06:44:08.112645",
     "exception": false,
     "start_time": "2023-04-28T06:44:08.048098",
     "status": "completed"
    },
    "tags": []
   },
   "outputs": [],
   "source": [
    "from sklearn.linear_model import LinearRegression\n",
    "lm = LinearRegression()\n",
    "model = lm.fit(X_train, y_train)"
   ]
  },
  {
   "cell_type": "code",
   "execution_count": 80,
   "id": "6c4c9154",
   "metadata": {
    "execution": {
     "iopub.execute_input": "2023-04-28T06:44:08.203382Z",
     "iopub.status.busy": "2023-04-28T06:44:08.202247Z",
     "iopub.status.idle": "2023-04-28T06:44:08.216355Z",
     "shell.execute_reply": "2023-04-28T06:44:08.214861Z"
    },
    "papermill": {
     "duration": 0.063269,
     "end_time": "2023-04-28T06:44:08.220019",
     "exception": false,
     "start_time": "2023-04-28T06:44:08.156750",
     "status": "completed"
    },
    "tags": []
   },
   "outputs": [
    {
     "data": {
      "text/plain": [
       "7.67596852825786"
      ]
     },
     "execution_count": 80,
     "metadata": {},
     "output_type": "execute_result"
    }
   ],
   "source": [
    "rmse = np.sqrt(mean_squared_error(y_test, model.predict(X_test)))\n",
    "rmse"
   ]
  },
  {
   "cell_type": "code",
   "execution_count": 81,
   "id": "566b1424",
   "metadata": {
    "execution": {
     "iopub.execute_input": "2023-04-28T06:44:08.311709Z",
     "iopub.status.busy": "2023-04-28T06:44:08.310581Z",
     "iopub.status.idle": "2023-04-28T06:44:08.318256Z",
     "shell.execute_reply": "2023-04-28T06:44:08.317282Z"
    },
    "papermill": {
     "duration": 0.054913,
     "end_time": "2023-04-28T06:44:08.320931",
     "exception": false,
     "start_time": "2023-04-28T06:44:08.266018",
     "status": "completed"
    },
    "tags": []
   },
   "outputs": [],
   "source": [
    "df_p=df[[\"WeekofYear\",\"WeekDay\",\"SIZE_Q\",\"OPERATOR_C\",\"DayOfMonth\",\"FIRST_OP_MONTH\",\"TYPE_C\",\"Reefer\",\"TOTAL_DWELL_DAYS\"]]"
   ]
  },
  {
   "cell_type": "code",
   "execution_count": 82,
   "id": "81e7753d",
   "metadata": {
    "execution": {
     "iopub.execute_input": "2023-04-28T06:44:08.407290Z",
     "iopub.status.busy": "2023-04-28T06:44:08.406805Z",
     "iopub.status.idle": "2023-04-28T06:44:08.416730Z",
     "shell.execute_reply": "2023-04-28T06:44:08.415432Z"
    },
    "papermill": {
     "duration": 0.056225,
     "end_time": "2023-04-28T06:44:08.419315",
     "exception": false,
     "start_time": "2023-04-28T06:44:08.363090",
     "status": "completed"
    },
    "tags": []
   },
   "outputs": [],
   "source": [
    "df_mlr=df_p[0:2500]\n",
    "# kolonların ayrılması\n",
    "X=df_mlr.drop(\"TOTAL_DWELL_DAYS\",axis=1)\n",
    "y=df_mlr[\"TOTAL_DWELL_DAYS\"]\n",
    "\n",
    "#train test setinni ayrılması\n",
    "\n",
    "X_train,X_test,y_train,y_test=train_test_split(X,y,test_size=0.2, random_state=42)"
   ]
  },
  {
   "cell_type": "code",
   "execution_count": 83,
   "id": "6ea27c9f",
   "metadata": {
    "execution": {
     "iopub.execute_input": "2023-04-28T06:44:08.507697Z",
     "iopub.status.busy": "2023-04-28T06:44:08.506569Z",
     "iopub.status.idle": "2023-04-28T06:44:08.515613Z",
     "shell.execute_reply": "2023-04-28T06:44:08.514023Z"
    },
    "papermill": {
     "duration": 0.055775,
     "end_time": "2023-04-28T06:44:08.518249",
     "exception": false,
     "start_time": "2023-04-28T06:44:08.462474",
     "status": "completed"
    },
    "tags": []
   },
   "outputs": [],
   "source": [
    "lm = LinearRegression()\n",
    "model = lm.fit(X_train, y_train)\n"
   ]
  },
  {
   "cell_type": "code",
   "execution_count": 84,
   "id": "ca2282a0",
   "metadata": {
    "execution": {
     "iopub.execute_input": "2023-04-28T06:44:08.606550Z",
     "iopub.status.busy": "2023-04-28T06:44:08.605533Z",
     "iopub.status.idle": "2023-04-28T06:44:08.618517Z",
     "shell.execute_reply": "2023-04-28T06:44:08.616993Z"
    },
    "papermill": {
     "duration": 0.060719,
     "end_time": "2023-04-28T06:44:08.621502",
     "exception": false,
     "start_time": "2023-04-28T06:44:08.560783",
     "status": "completed"
    },
    "tags": []
   },
   "outputs": [
    {
     "data": {
      "text/plain": [
       "7.622640128347944"
      ]
     },
     "execution_count": 84,
     "metadata": {},
     "output_type": "execute_result"
    }
   ],
   "source": [
    "rmse = np.sqrt(mean_squared_error(y_test, model.predict(X_test)))\n",
    "rmse"
   ]
  },
  {
   "cell_type": "code",
   "execution_count": 85,
   "id": "4f4c7d3d",
   "metadata": {
    "execution": {
     "iopub.execute_input": "2023-04-28T06:44:08.710962Z",
     "iopub.status.busy": "2023-04-28T06:44:08.710249Z",
     "iopub.status.idle": "2023-04-28T06:44:09.086735Z",
     "shell.execute_reply": "2023-04-28T06:44:09.085641Z"
    },
    "papermill": {
     "duration": 0.423244,
     "end_time": "2023-04-28T06:44:09.089220",
     "exception": false,
     "start_time": "2023-04-28T06:44:08.665976",
     "status": "completed"
    },
    "tags": []
   },
   "outputs": [
    {
     "data": {
      "text/plain": [
       "3.8378571520615203"
      ]
     },
     "execution_count": 85,
     "metadata": {},
     "output_type": "execute_result"
    }
   ],
   "source": [
    "xgb_model=XGBRegressor().fit(X_train,y_train)\n",
    "y_pred=xgb_model.predict(X_test)\n",
    "np.sqrt(mean_squared_error(y_test, y_pred))\n"
   ]
  },
  {
   "cell_type": "code",
   "execution_count": 86,
   "id": "aa20bd65",
   "metadata": {
    "execution": {
     "iopub.execute_input": "2023-04-28T06:44:09.177818Z",
     "iopub.status.busy": "2023-04-28T06:44:09.177410Z",
     "iopub.status.idle": "2023-04-28T06:44:09.185159Z",
     "shell.execute_reply": "2023-04-28T06:44:09.183863Z"
    },
    "papermill": {
     "duration": 0.055934,
     "end_time": "2023-04-28T06:44:09.187852",
     "exception": false,
     "start_time": "2023-04-28T06:44:09.131918",
     "status": "completed"
    },
    "tags": []
   },
   "outputs": [
    {
     "data": {
      "text/plain": [
       "2.2544090099334717"
      ]
     },
     "execution_count": 86,
     "metadata": {},
     "output_type": "execute_result"
    }
   ],
   "source": [
    "mean_absolute_error(y_test, y_pred)"
   ]
  },
  {
   "cell_type": "code",
   "execution_count": 87,
   "id": "ca33f646",
   "metadata": {
    "execution": {
     "iopub.execute_input": "2023-04-28T06:44:09.275396Z",
     "iopub.status.busy": "2023-04-28T06:44:09.274991Z",
     "iopub.status.idle": "2023-04-28T06:44:09.589762Z",
     "shell.execute_reply": "2023-04-28T06:44:09.588558Z"
    },
    "papermill": {
     "duration": 0.362125,
     "end_time": "2023-04-28T06:44:09.592681",
     "exception": false,
     "start_time": "2023-04-28T06:44:09.230556",
     "status": "completed"
    },
    "tags": []
   },
   "outputs": [],
   "source": [
    "rf_model=RandomForestRegressor(random_state=42)\n",
    "rf_model.fit(X_train,y_train)\n",
    "y_pred = rf_model.predict(X_test)"
   ]
  },
  {
   "cell_type": "code",
   "execution_count": 88,
   "id": "a676e99b",
   "metadata": {
    "execution": {
     "iopub.execute_input": "2023-04-28T06:44:09.678967Z",
     "iopub.status.busy": "2023-04-28T06:44:09.678520Z",
     "iopub.status.idle": "2023-04-28T06:44:09.686354Z",
     "shell.execute_reply": "2023-04-28T06:44:09.685353Z"
    },
    "papermill": {
     "duration": 0.053584,
     "end_time": "2023-04-28T06:44:09.688670",
     "exception": false,
     "start_time": "2023-04-28T06:44:09.635086",
     "status": "completed"
    },
    "tags": []
   },
   "outputs": [
    {
     "data": {
      "text/plain": [
       "3.68809908698158"
      ]
     },
     "execution_count": 88,
     "metadata": {},
     "output_type": "execute_result"
    }
   ],
   "source": [
    "np.sqrt(mean_squared_error(y_test, y_pred))"
   ]
  },
  {
   "cell_type": "code",
   "execution_count": 89,
   "id": "bb8a881f",
   "metadata": {
    "execution": {
     "iopub.execute_input": "2023-04-28T06:44:09.776977Z",
     "iopub.status.busy": "2023-04-28T06:44:09.776507Z",
     "iopub.status.idle": "2023-04-28T06:44:09.785246Z",
     "shell.execute_reply": "2023-04-28T06:44:09.784191Z"
    },
    "papermill": {
     "duration": 0.055184,
     "end_time": "2023-04-28T06:44:09.787578",
     "exception": false,
     "start_time": "2023-04-28T06:44:09.732394",
     "status": "completed"
    },
    "tags": []
   },
   "outputs": [
    {
     "data": {
      "text/plain": [
       "2.215365041502621"
      ]
     },
     "execution_count": 89,
     "metadata": {},
     "output_type": "execute_result"
    }
   ],
   "source": [
    "mean_absolute_error(y_test, y_pred)"
   ]
  },
  {
   "cell_type": "code",
   "execution_count": 90,
   "id": "3f2508f2",
   "metadata": {
    "execution": {
     "iopub.execute_input": "2023-04-28T06:44:09.875134Z",
     "iopub.status.busy": "2023-04-28T06:44:09.874399Z",
     "iopub.status.idle": "2023-04-28T06:44:09.908597Z",
     "shell.execute_reply": "2023-04-28T06:44:09.907302Z"
    },
    "papermill": {
     "duration": 0.080678,
     "end_time": "2023-04-28T06:44:09.911139",
     "exception": false,
     "start_time": "2023-04-28T06:44:09.830461",
     "status": "completed"
    },
    "tags": []
   },
   "outputs": [
    {
     "data": {
      "text/html": [
       "<div>\n",
       "<style scoped>\n",
       "    .dataframe tbody tr th:only-of-type {\n",
       "        vertical-align: middle;\n",
       "    }\n",
       "\n",
       "    .dataframe tbody tr th {\n",
       "        vertical-align: top;\n",
       "    }\n",
       "\n",
       "    .dataframe thead th {\n",
       "        text-align: right;\n",
       "    }\n",
       "</style>\n",
       "<table border=\"1\" class=\"dataframe\">\n",
       "  <thead>\n",
       "    <tr style=\"text-align: right;\">\n",
       "      <th></th>\n",
       "      <th>count</th>\n",
       "      <th>mean</th>\n",
       "      <th>std</th>\n",
       "      <th>min</th>\n",
       "      <th>25%</th>\n",
       "      <th>50%</th>\n",
       "      <th>75%</th>\n",
       "      <th>max</th>\n",
       "    </tr>\n",
       "  </thead>\n",
       "  <tbody>\n",
       "    <tr>\n",
       "      <th>WeekofYear</th>\n",
       "      <td>2500.00</td>\n",
       "      <td>4.29</td>\n",
       "      <td>4.09</td>\n",
       "      <td>1.00</td>\n",
       "      <td>1.00</td>\n",
       "      <td>3.00</td>\n",
       "      <td>7.00</td>\n",
       "      <td>13.00</td>\n",
       "    </tr>\n",
       "    <tr>\n",
       "      <th>WeekDay</th>\n",
       "      <td>2500.00</td>\n",
       "      <td>3.30</td>\n",
       "      <td>1.78</td>\n",
       "      <td>1.00</td>\n",
       "      <td>2.00</td>\n",
       "      <td>3.00</td>\n",
       "      <td>4.00</td>\n",
       "      <td>7.00</td>\n",
       "    </tr>\n",
       "    <tr>\n",
       "      <th>SIZE_Q</th>\n",
       "      <td>2500.00</td>\n",
       "      <td>31.95</td>\n",
       "      <td>9.81</td>\n",
       "      <td>20.00</td>\n",
       "      <td>20.00</td>\n",
       "      <td>40.00</td>\n",
       "      <td>40.00</td>\n",
       "      <td>40.00</td>\n",
       "    </tr>\n",
       "    <tr>\n",
       "      <th>OPERATOR_C</th>\n",
       "      <td>2500.00</td>\n",
       "      <td>7.28</td>\n",
       "      <td>6.33</td>\n",
       "      <td>0.00</td>\n",
       "      <td>1.00</td>\n",
       "      <td>7.00</td>\n",
       "      <td>13.00</td>\n",
       "      <td>19.00</td>\n",
       "    </tr>\n",
       "    <tr>\n",
       "      <th>DayOfMonth</th>\n",
       "      <td>2500.00</td>\n",
       "      <td>12.48</td>\n",
       "      <td>9.49</td>\n",
       "      <td>1.00</td>\n",
       "      <td>3.00</td>\n",
       "      <td>12.00</td>\n",
       "      <td>19.00</td>\n",
       "      <td>31.00</td>\n",
       "    </tr>\n",
       "    <tr>\n",
       "      <th>FIRST_OP_MONTH</th>\n",
       "      <td>2500.00</td>\n",
       "      <td>1.47</td>\n",
       "      <td>0.75</td>\n",
       "      <td>1.00</td>\n",
       "      <td>1.00</td>\n",
       "      <td>1.00</td>\n",
       "      <td>2.00</td>\n",
       "      <td>3.00</td>\n",
       "    </tr>\n",
       "    <tr>\n",
       "      <th>TYPE_C</th>\n",
       "      <td>2500.00</td>\n",
       "      <td>0.81</td>\n",
       "      <td>0.84</td>\n",
       "      <td>0.00</td>\n",
       "      <td>0.00</td>\n",
       "      <td>1.00</td>\n",
       "      <td>1.00</td>\n",
       "      <td>4.00</td>\n",
       "    </tr>\n",
       "    <tr>\n",
       "      <th>Reefer</th>\n",
       "      <td>2500.00</td>\n",
       "      <td>0.13</td>\n",
       "      <td>0.34</td>\n",
       "      <td>0.00</td>\n",
       "      <td>0.00</td>\n",
       "      <td>0.00</td>\n",
       "      <td>0.00</td>\n",
       "      <td>1.00</td>\n",
       "    </tr>\n",
       "    <tr>\n",
       "      <th>TOTAL_DWELL_DAYS</th>\n",
       "      <td>2500.00</td>\n",
       "      <td>10.96</td>\n",
       "      <td>8.36</td>\n",
       "      <td>0.00</td>\n",
       "      <td>4.00</td>\n",
       "      <td>9.00</td>\n",
       "      <td>15.00</td>\n",
       "      <td>35.00</td>\n",
       "    </tr>\n",
       "  </tbody>\n",
       "</table>\n",
       "</div>"
      ],
      "text/plain": [
       "                   count  mean  std   min   25%   50%   75%   max\n",
       "WeekofYear       2500.00  4.29 4.09  1.00  1.00  3.00  7.00 13.00\n",
       "WeekDay          2500.00  3.30 1.78  1.00  2.00  3.00  4.00  7.00\n",
       "SIZE_Q           2500.00 31.95 9.81 20.00 20.00 40.00 40.00 40.00\n",
       "OPERATOR_C       2500.00  7.28 6.33  0.00  1.00  7.00 13.00 19.00\n",
       "DayOfMonth       2500.00 12.48 9.49  1.00  3.00 12.00 19.00 31.00\n",
       "FIRST_OP_MONTH   2500.00  1.47 0.75  1.00  1.00  1.00  2.00  3.00\n",
       "TYPE_C           2500.00  0.81 0.84  0.00  0.00  1.00  1.00  4.00\n",
       "Reefer           2500.00  0.13 0.34  0.00  0.00  0.00  0.00  1.00\n",
       "TOTAL_DWELL_DAYS 2500.00 10.96 8.36  0.00  4.00  9.00 15.00 35.00"
      ]
     },
     "execution_count": 90,
     "metadata": {},
     "output_type": "execute_result"
    }
   ],
   "source": [
    "df_mlr.describe().T"
   ]
  },
  {
   "cell_type": "code",
   "execution_count": 91,
   "id": "e04a4ea6",
   "metadata": {
    "execution": {
     "iopub.execute_input": "2023-04-28T06:44:09.999645Z",
     "iopub.status.busy": "2023-04-28T06:44:09.998957Z",
     "iopub.status.idle": "2023-04-28T06:44:10.044430Z",
     "shell.execute_reply": "2023-04-28T06:44:10.043541Z"
    },
    "papermill": {
     "duration": 0.092377,
     "end_time": "2023-04-28T06:44:10.046701",
     "exception": false,
     "start_time": "2023-04-28T06:44:09.954324",
     "status": "completed"
    },
    "tags": []
   },
   "outputs": [
    {
     "data": {
      "text/html": [
       "<div>\n",
       "<style scoped>\n",
       "    .dataframe tbody tr th:only-of-type {\n",
       "        vertical-align: middle;\n",
       "    }\n",
       "\n",
       "    .dataframe tbody tr th {\n",
       "        vertical-align: top;\n",
       "    }\n",
       "\n",
       "    .dataframe thead th {\n",
       "        text-align: right;\n",
       "    }\n",
       "</style>\n",
       "<table border=\"1\" class=\"dataframe\">\n",
       "  <thead>\n",
       "    <tr style=\"text-align: right;\">\n",
       "      <th></th>\n",
       "      <th>count</th>\n",
       "      <th>mean</th>\n",
       "      <th>std</th>\n",
       "      <th>min</th>\n",
       "      <th>25%</th>\n",
       "      <th>50%</th>\n",
       "      <th>75%</th>\n",
       "      <th>max</th>\n",
       "    </tr>\n",
       "  </thead>\n",
       "  <tbody>\n",
       "    <tr>\n",
       "      <th>WeekofYear</th>\n",
       "      <td>66365.00</td>\n",
       "      <td>6.75</td>\n",
       "      <td>3.82</td>\n",
       "      <td>1.00</td>\n",
       "      <td>3.00</td>\n",
       "      <td>7.00</td>\n",
       "      <td>10.00</td>\n",
       "      <td>13.00</td>\n",
       "    </tr>\n",
       "    <tr>\n",
       "      <th>WeekDay</th>\n",
       "      <td>66365.00</td>\n",
       "      <td>3.60</td>\n",
       "      <td>1.87</td>\n",
       "      <td>1.00</td>\n",
       "      <td>2.00</td>\n",
       "      <td>3.00</td>\n",
       "      <td>5.00</td>\n",
       "      <td>7.00</td>\n",
       "    </tr>\n",
       "    <tr>\n",
       "      <th>SIZE_Q</th>\n",
       "      <td>66365.00</td>\n",
       "      <td>33.18</td>\n",
       "      <td>9.48</td>\n",
       "      <td>20.00</td>\n",
       "      <td>20.00</td>\n",
       "      <td>40.00</td>\n",
       "      <td>40.00</td>\n",
       "      <td>40.00</td>\n",
       "    </tr>\n",
       "    <tr>\n",
       "      <th>OPERATOR_C</th>\n",
       "      <td>66365.00</td>\n",
       "      <td>6.53</td>\n",
       "      <td>5.46</td>\n",
       "      <td>0.00</td>\n",
       "      <td>2.00</td>\n",
       "      <td>6.00</td>\n",
       "      <td>10.00</td>\n",
       "      <td>19.00</td>\n",
       "    </tr>\n",
       "    <tr>\n",
       "      <th>DayOfMonth</th>\n",
       "      <td>66365.00</td>\n",
       "      <td>15.80</td>\n",
       "      <td>8.47</td>\n",
       "      <td>1.00</td>\n",
       "      <td>9.00</td>\n",
       "      <td>16.00</td>\n",
       "      <td>23.00</td>\n",
       "      <td>31.00</td>\n",
       "    </tr>\n",
       "    <tr>\n",
       "      <th>FIRST_OP_MONTH</th>\n",
       "      <td>66365.00</td>\n",
       "      <td>1.95</td>\n",
       "      <td>0.86</td>\n",
       "      <td>1.00</td>\n",
       "      <td>1.00</td>\n",
       "      <td>2.00</td>\n",
       "      <td>3.00</td>\n",
       "      <td>3.00</td>\n",
       "    </tr>\n",
       "    <tr>\n",
       "      <th>TYPE_C</th>\n",
       "      <td>66365.00</td>\n",
       "      <td>0.83</td>\n",
       "      <td>0.76</td>\n",
       "      <td>0.00</td>\n",
       "      <td>0.00</td>\n",
       "      <td>1.00</td>\n",
       "      <td>1.00</td>\n",
       "      <td>4.00</td>\n",
       "    </tr>\n",
       "    <tr>\n",
       "      <th>Reefer</th>\n",
       "      <td>66365.00</td>\n",
       "      <td>0.11</td>\n",
       "      <td>0.31</td>\n",
       "      <td>0.00</td>\n",
       "      <td>0.00</td>\n",
       "      <td>0.00</td>\n",
       "      <td>0.00</td>\n",
       "      <td>1.00</td>\n",
       "    </tr>\n",
       "    <tr>\n",
       "      <th>TOTAL_DWELL_DAYS</th>\n",
       "      <td>66365.00</td>\n",
       "      <td>10.91</td>\n",
       "      <td>7.93</td>\n",
       "      <td>0.00</td>\n",
       "      <td>5.00</td>\n",
       "      <td>9.00</td>\n",
       "      <td>15.00</td>\n",
       "      <td>35.00</td>\n",
       "    </tr>\n",
       "  </tbody>\n",
       "</table>\n",
       "</div>"
      ],
      "text/plain": [
       "                    count  mean  std   min   25%   50%   75%   max\n",
       "WeekofYear       66365.00  6.75 3.82  1.00  3.00  7.00 10.00 13.00\n",
       "WeekDay          66365.00  3.60 1.87  1.00  2.00  3.00  5.00  7.00\n",
       "SIZE_Q           66365.00 33.18 9.48 20.00 20.00 40.00 40.00 40.00\n",
       "OPERATOR_C       66365.00  6.53 5.46  0.00  2.00  6.00 10.00 19.00\n",
       "DayOfMonth       66365.00 15.80 8.47  1.00  9.00 16.00 23.00 31.00\n",
       "FIRST_OP_MONTH   66365.00  1.95 0.86  1.00  1.00  2.00  3.00  3.00\n",
       "TYPE_C           66365.00  0.83 0.76  0.00  0.00  1.00  1.00  4.00\n",
       "Reefer           66365.00  0.11 0.31  0.00  0.00  0.00  0.00  1.00\n",
       "TOTAL_DWELL_DAYS 66365.00 10.91 7.93  0.00  5.00  9.00 15.00 35.00"
      ]
     },
     "execution_count": 91,
     "metadata": {},
     "output_type": "execute_result"
    }
   ],
   "source": [
    "df_p.describe().T"
   ]
  },
  {
   "cell_type": "code",
   "execution_count": 92,
   "id": "b654161f",
   "metadata": {
    "execution": {
     "iopub.execute_input": "2023-04-28T06:44:10.136255Z",
     "iopub.status.busy": "2023-04-28T06:44:10.135567Z",
     "iopub.status.idle": "2023-04-28T06:44:10.150794Z",
     "shell.execute_reply": "2023-04-28T06:44:10.149288Z"
    },
    "papermill": {
     "duration": 0.063191,
     "end_time": "2023-04-28T06:44:10.153779",
     "exception": false,
     "start_time": "2023-04-28T06:44:10.090588",
     "status": "completed"
    },
    "tags": []
   },
   "outputs": [],
   "source": [
    "df_p=df_p\n",
    "# kolonların ayrılması\n",
    "X=df_p.drop(\"TOTAL_DWELL_DAYS\",axis=1)\n",
    "y=df_p[\"TOTAL_DWELL_DAYS\"]\n",
    "\n",
    "#train test setinni ayrılması\n",
    "\n",
    "X_train,X_test,y_train,y_test=train_test_split(X,y,test_size=0.1, random_state=42)"
   ]
  },
  {
   "cell_type": "code",
   "execution_count": 93,
   "id": "57579599",
   "metadata": {
    "execution": {
     "iopub.execute_input": "2023-04-28T06:44:10.242114Z",
     "iopub.status.busy": "2023-04-28T06:44:10.241326Z",
     "iopub.status.idle": "2023-04-28T06:44:10.245677Z",
     "shell.execute_reply": "2023-04-28T06:44:10.244700Z"
    },
    "papermill": {
     "duration": 0.051342,
     "end_time": "2023-04-28T06:44:10.247951",
     "exception": false,
     "start_time": "2023-04-28T06:44:10.196609",
     "status": "completed"
    },
    "tags": []
   },
   "outputs": [],
   "source": [
    "#xgb_model=XGBRegressor().fit(X_train,y_train)\n",
    "#y_pred=xgb_model.predict(X_test)\n",
    "#np.sqrt(mean_squared_error(y_test, y_pred))"
   ]
  },
  {
   "cell_type": "code",
   "execution_count": 94,
   "id": "0a811d0a",
   "metadata": {
    "execution": {
     "iopub.execute_input": "2023-04-28T06:44:10.336761Z",
     "iopub.status.busy": "2023-04-28T06:44:10.335915Z",
     "iopub.status.idle": "2023-04-28T06:44:10.341404Z",
     "shell.execute_reply": "2023-04-28T06:44:10.339723Z"
    },
    "papermill": {
     "duration": 0.053618,
     "end_time": "2023-04-28T06:44:10.344222",
     "exception": false,
     "start_time": "2023-04-28T06:44:10.290604",
     "status": "completed"
    },
    "tags": []
   },
   "outputs": [],
   "source": [
    "#mean_absolute_error(y_test, y_pred)"
   ]
  },
  {
   "cell_type": "code",
   "execution_count": 95,
   "id": "eb18a091",
   "metadata": {
    "execution": {
     "iopub.execute_input": "2023-04-28T06:44:10.433969Z",
     "iopub.status.busy": "2023-04-28T06:44:10.433526Z",
     "iopub.status.idle": "2023-04-28T06:44:17.079507Z",
     "shell.execute_reply": "2023-04-28T06:44:17.078256Z"
    },
    "papermill": {
     "duration": 6.694667,
     "end_time": "2023-04-28T06:44:17.082554",
     "exception": false,
     "start_time": "2023-04-28T06:44:10.387887",
     "status": "completed"
    },
    "tags": []
   },
   "outputs": [],
   "source": [
    "rf_model=RandomForestRegressor(random_state=42)\n",
    "rf_model.fit(X_train,y_train)\n",
    "y_pred = rf_model.predict(X_test)\n"
   ]
  },
  {
   "cell_type": "code",
   "execution_count": 96,
   "id": "d72c3124",
   "metadata": {
    "execution": {
     "iopub.execute_input": "2023-04-28T06:44:17.171607Z",
     "iopub.status.busy": "2023-04-28T06:44:17.171165Z",
     "iopub.status.idle": "2023-04-28T06:44:17.178911Z",
     "shell.execute_reply": "2023-04-28T06:44:17.177677Z"
    },
    "papermill": {
     "duration": 0.055647,
     "end_time": "2023-04-28T06:44:17.181491",
     "exception": false,
     "start_time": "2023-04-28T06:44:17.125844",
     "status": "completed"
    },
    "tags": []
   },
   "outputs": [
    {
     "data": {
      "text/plain": [
       "5.142749329567458"
      ]
     },
     "execution_count": 96,
     "metadata": {},
     "output_type": "execute_result"
    }
   ],
   "source": [
    "np.sqrt(mean_squared_error(y_test, y_pred))"
   ]
  },
  {
   "cell_type": "code",
   "execution_count": 97,
   "id": "1e18990e",
   "metadata": {
    "execution": {
     "iopub.execute_input": "2023-04-28T06:44:17.273269Z",
     "iopub.status.busy": "2023-04-28T06:44:17.272826Z",
     "iopub.status.idle": "2023-04-28T06:44:17.281581Z",
     "shell.execute_reply": "2023-04-28T06:44:17.280272Z"
    },
    "papermill": {
     "duration": 0.057898,
     "end_time": "2023-04-28T06:44:17.284160",
     "exception": false,
     "start_time": "2023-04-28T06:44:17.226262",
     "status": "completed"
    },
    "tags": []
   },
   "outputs": [
    {
     "data": {
      "text/plain": [
       "3.3796320209541677"
      ]
     },
     "execution_count": 97,
     "metadata": {},
     "output_type": "execute_result"
    }
   ],
   "source": [
    "mean_absolute_error(y_test, y_pred)"
   ]
  },
  {
   "cell_type": "code",
   "execution_count": 98,
   "id": "60c803c2",
   "metadata": {
    "execution": {
     "iopub.execute_input": "2023-04-28T06:44:17.374074Z",
     "iopub.status.busy": "2023-04-28T06:44:17.373386Z",
     "iopub.status.idle": "2023-04-28T06:44:17.382366Z",
     "shell.execute_reply": "2023-04-28T06:44:17.381038Z"
    },
    "papermill": {
     "duration": 0.0581,
     "end_time": "2023-04-28T06:44:17.385482",
     "exception": false,
     "start_time": "2023-04-28T06:44:17.327382",
     "status": "completed"
    },
    "tags": []
   },
   "outputs": [],
   "source": [
    "df_last=df[[\"FIRST_OP\",\"SIZE_Q\",\"OPERATOR_C\",\"FIRST_OP_MONTH\",\"TYPE_C\",\"Reefer\",\"TOTAL_DWELL_DAYS\"]]"
   ]
  },
  {
   "cell_type": "code",
   "execution_count": 99,
   "id": "70b7ede1",
   "metadata": {
    "execution": {
     "iopub.execute_input": "2023-04-28T06:44:17.477005Z",
     "iopub.status.busy": "2023-04-28T06:44:17.476183Z",
     "iopub.status.idle": "2023-04-28T06:44:17.492447Z",
     "shell.execute_reply": "2023-04-28T06:44:17.491137Z"
    },
    "papermill": {
     "duration": 0.065739,
     "end_time": "2023-04-28T06:44:17.495523",
     "exception": false,
     "start_time": "2023-04-28T06:44:17.429784",
     "status": "completed"
    },
    "tags": []
   },
   "outputs": [],
   "source": [
    "df_last_6k=df_last[-6000:]\n",
    "# kolonların ayrılması\n",
    "X=df_last.drop(\"TOTAL_DWELL_DAYS\",axis=1)\n",
    "y=df_last[\"TOTAL_DWELL_DAYS\"]\n",
    "\n",
    "#train test setinni ayrılması\n",
    "\n",
    "X_train,X_test,y_train,y_test=train_test_split(X,y,test_size=0.1, random_state=42)"
   ]
  },
  {
   "cell_type": "code",
   "execution_count": 100,
   "id": "446867c3",
   "metadata": {
    "execution": {
     "iopub.execute_input": "2023-04-28T06:44:17.590631Z",
     "iopub.status.busy": "2023-04-28T06:44:17.589820Z",
     "iopub.status.idle": "2023-04-28T06:44:17.677085Z",
     "shell.execute_reply": "2023-04-28T06:44:17.675677Z"
    },
    "papermill": {
     "duration": 0.140983,
     "end_time": "2023-04-28T06:44:17.679847",
     "exception": false,
     "start_time": "2023-04-28T06:44:17.538864",
     "status": "completed"
    },
    "tags": []
   },
   "outputs": [
    {
     "data": {
      "text/html": [
       "<div>\n",
       "<style scoped>\n",
       "    .dataframe tbody tr th:only-of-type {\n",
       "        vertical-align: middle;\n",
       "    }\n",
       "\n",
       "    .dataframe tbody tr th {\n",
       "        vertical-align: top;\n",
       "    }\n",
       "\n",
       "    .dataframe thead th {\n",
       "        text-align: right;\n",
       "    }\n",
       "</style>\n",
       "<table border=\"1\" class=\"dataframe\">\n",
       "  <thead>\n",
       "    <tr style=\"text-align: right;\">\n",
       "      <th></th>\n",
       "      <th>count</th>\n",
       "      <th>mean</th>\n",
       "      <th>std</th>\n",
       "      <th>min</th>\n",
       "      <th>25%</th>\n",
       "      <th>50%</th>\n",
       "      <th>75%</th>\n",
       "      <th>max</th>\n",
       "    </tr>\n",
       "  </thead>\n",
       "  <tbody>\n",
       "    <tr>\n",
       "      <th>FIRST_OP</th>\n",
       "      <td>66365.00</td>\n",
       "      <td>0.79</td>\n",
       "      <td>0.92</td>\n",
       "      <td>0.00</td>\n",
       "      <td>0.00</td>\n",
       "      <td>0.00</td>\n",
       "      <td>2.00</td>\n",
       "      <td>3.00</td>\n",
       "    </tr>\n",
       "    <tr>\n",
       "      <th>WeekofYear</th>\n",
       "      <td>66365.00</td>\n",
       "      <td>6.75</td>\n",
       "      <td>3.82</td>\n",
       "      <td>1.00</td>\n",
       "      <td>3.00</td>\n",
       "      <td>7.00</td>\n",
       "      <td>10.00</td>\n",
       "      <td>13.00</td>\n",
       "    </tr>\n",
       "    <tr>\n",
       "      <th>WeekDay</th>\n",
       "      <td>66365.00</td>\n",
       "      <td>3.60</td>\n",
       "      <td>1.87</td>\n",
       "      <td>1.00</td>\n",
       "      <td>2.00</td>\n",
       "      <td>3.00</td>\n",
       "      <td>5.00</td>\n",
       "      <td>7.00</td>\n",
       "    </tr>\n",
       "    <tr>\n",
       "      <th>Hour</th>\n",
       "      <td>66365.00</td>\n",
       "      <td>12.67</td>\n",
       "      <td>5.65</td>\n",
       "      <td>0.00</td>\n",
       "      <td>9.00</td>\n",
       "      <td>13.00</td>\n",
       "      <td>17.00</td>\n",
       "      <td>23.00</td>\n",
       "    </tr>\n",
       "    <tr>\n",
       "      <th>DG_IMO_CLASS_C</th>\n",
       "      <td>66365.00</td>\n",
       "      <td>0.01</td>\n",
       "      <td>0.23</td>\n",
       "      <td>0.00</td>\n",
       "      <td>0.00</td>\n",
       "      <td>0.00</td>\n",
       "      <td>0.00</td>\n",
       "      <td>9.00</td>\n",
       "    </tr>\n",
       "    <tr>\n",
       "      <th>ımoORnot</th>\n",
       "      <td>66365.00</td>\n",
       "      <td>0.00</td>\n",
       "      <td>0.06</td>\n",
       "      <td>0.00</td>\n",
       "      <td>0.00</td>\n",
       "      <td>0.00</td>\n",
       "      <td>0.00</td>\n",
       "      <td>1.00</td>\n",
       "    </tr>\n",
       "    <tr>\n",
       "      <th>SIZE_Q</th>\n",
       "      <td>66365.00</td>\n",
       "      <td>33.18</td>\n",
       "      <td>9.48</td>\n",
       "      <td>20.00</td>\n",
       "      <td>20.00</td>\n",
       "      <td>40.00</td>\n",
       "      <td>40.00</td>\n",
       "      <td>40.00</td>\n",
       "    </tr>\n",
       "    <tr>\n",
       "      <th>OPERATOR_C</th>\n",
       "      <td>66365.00</td>\n",
       "      <td>6.53</td>\n",
       "      <td>5.46</td>\n",
       "      <td>0.00</td>\n",
       "      <td>2.00</td>\n",
       "      <td>6.00</td>\n",
       "      <td>10.00</td>\n",
       "      <td>19.00</td>\n",
       "    </tr>\n",
       "    <tr>\n",
       "      <th>DayOfMonth</th>\n",
       "      <td>66365.00</td>\n",
       "      <td>15.80</td>\n",
       "      <td>8.47</td>\n",
       "      <td>1.00</td>\n",
       "      <td>9.00</td>\n",
       "      <td>16.00</td>\n",
       "      <td>23.00</td>\n",
       "      <td>31.00</td>\n",
       "    </tr>\n",
       "    <tr>\n",
       "      <th>FIRST_OP_MONTH</th>\n",
       "      <td>66365.00</td>\n",
       "      <td>1.95</td>\n",
       "      <td>0.86</td>\n",
       "      <td>1.00</td>\n",
       "      <td>1.00</td>\n",
       "      <td>2.00</td>\n",
       "      <td>3.00</td>\n",
       "      <td>3.00</td>\n",
       "    </tr>\n",
       "    <tr>\n",
       "      <th>DELIVERY_BOOKING_I</th>\n",
       "      <td>66365.00</td>\n",
       "      <td>0.73</td>\n",
       "      <td>0.44</td>\n",
       "      <td>0.00</td>\n",
       "      <td>0.00</td>\n",
       "      <td>1.00</td>\n",
       "      <td>1.00</td>\n",
       "      <td>1.00</td>\n",
       "    </tr>\n",
       "    <tr>\n",
       "      <th>TYPE_C</th>\n",
       "      <td>66365.00</td>\n",
       "      <td>0.83</td>\n",
       "      <td>0.76</td>\n",
       "      <td>0.00</td>\n",
       "      <td>0.00</td>\n",
       "      <td>1.00</td>\n",
       "      <td>1.00</td>\n",
       "      <td>4.00</td>\n",
       "    </tr>\n",
       "    <tr>\n",
       "      <th>Reefer</th>\n",
       "      <td>66365.00</td>\n",
       "      <td>0.11</td>\n",
       "      <td>0.31</td>\n",
       "      <td>0.00</td>\n",
       "      <td>0.00</td>\n",
       "      <td>0.00</td>\n",
       "      <td>0.00</td>\n",
       "      <td>1.00</td>\n",
       "    </tr>\n",
       "    <tr>\n",
       "      <th>TOTAL_DWELL_DAYS</th>\n",
       "      <td>66365.00</td>\n",
       "      <td>10.91</td>\n",
       "      <td>7.93</td>\n",
       "      <td>0.00</td>\n",
       "      <td>5.00</td>\n",
       "      <td>9.00</td>\n",
       "      <td>15.00</td>\n",
       "      <td>35.00</td>\n",
       "    </tr>\n",
       "  </tbody>\n",
       "</table>\n",
       "</div>"
      ],
      "text/plain": [
       "                      count  mean  std   min   25%   50%   75%   max\n",
       "FIRST_OP           66365.00  0.79 0.92  0.00  0.00  0.00  2.00  3.00\n",
       "WeekofYear         66365.00  6.75 3.82  1.00  3.00  7.00 10.00 13.00\n",
       "WeekDay            66365.00  3.60 1.87  1.00  2.00  3.00  5.00  7.00\n",
       "Hour               66365.00 12.67 5.65  0.00  9.00 13.00 17.00 23.00\n",
       "DG_IMO_CLASS_C     66365.00  0.01 0.23  0.00  0.00  0.00  0.00  9.00\n",
       "ımoORnot           66365.00  0.00 0.06  0.00  0.00  0.00  0.00  1.00\n",
       "SIZE_Q             66365.00 33.18 9.48 20.00 20.00 40.00 40.00 40.00\n",
       "OPERATOR_C         66365.00  6.53 5.46  0.00  2.00  6.00 10.00 19.00\n",
       "DayOfMonth         66365.00 15.80 8.47  1.00  9.00 16.00 23.00 31.00\n",
       "FIRST_OP_MONTH     66365.00  1.95 0.86  1.00  1.00  2.00  3.00  3.00\n",
       "DELIVERY_BOOKING_I 66365.00  0.73 0.44  0.00  0.00  1.00  1.00  1.00\n",
       "TYPE_C             66365.00  0.83 0.76  0.00  0.00  1.00  1.00  4.00\n",
       "Reefer             66365.00  0.11 0.31  0.00  0.00  0.00  0.00  1.00\n",
       "TOTAL_DWELL_DAYS   66365.00 10.91 7.93  0.00  5.00  9.00 15.00 35.00"
      ]
     },
     "execution_count": 100,
     "metadata": {},
     "output_type": "execute_result"
    }
   ],
   "source": [
    "df.describe().T"
   ]
  },
  {
   "cell_type": "code",
   "execution_count": 101,
   "id": "487cd25e",
   "metadata": {
    "execution": {
     "iopub.execute_input": "2023-04-28T06:44:17.770091Z",
     "iopub.status.busy": "2023-04-28T06:44:17.769682Z",
     "iopub.status.idle": "2023-04-28T06:44:17.829118Z",
     "shell.execute_reply": "2023-04-28T06:44:17.827763Z"
    },
    "papermill": {
     "duration": 0.109191,
     "end_time": "2023-04-28T06:44:17.832659",
     "exception": false,
     "start_time": "2023-04-28T06:44:17.723468",
     "status": "completed"
    },
    "tags": []
   },
   "outputs": [
    {
     "data": {
      "text/html": [
       "<table class=\"simpletable\">\n",
       "<caption>OLS Regression Results</caption>\n",
       "<tr>\n",
       "  <th>Dep. Variable:</th>    <td>TOTAL_DWELL_DAYS</td> <th>  R-squared (uncentered):</th>       <td>   0.628</td>  \n",
       "</tr>\n",
       "<tr>\n",
       "  <th>Model:</th>                   <td>OLS</td>       <th>  Adj. R-squared (uncentered):</th>  <td>   0.628</td>  \n",
       "</tr>\n",
       "<tr>\n",
       "  <th>Method:</th>             <td>Least Squares</td>  <th>  F-statistic:       </th>           <td>1.678e+04</td> \n",
       "</tr>\n",
       "<tr>\n",
       "  <th>Date:</th>             <td>Fri, 28 Apr 2023</td> <th>  Prob (F-statistic):</th>            <td>  0.00</td>   \n",
       "</tr>\n",
       "<tr>\n",
       "  <th>Time:</th>                 <td>06:44:17</td>     <th>  Log-Likelihood:    </th>          <td>-2.1059e+05</td>\n",
       "</tr>\n",
       "<tr>\n",
       "  <th>No. Observations:</th>      <td> 59728</td>      <th>  AIC:               </th>           <td>4.212e+05</td> \n",
       "</tr>\n",
       "<tr>\n",
       "  <th>Df Residuals:</th>          <td> 59722</td>      <th>  BIC:               </th>           <td>4.212e+05</td> \n",
       "</tr>\n",
       "<tr>\n",
       "  <th>Df Model:</th>              <td>     6</td>      <th>                     </th>               <td> </td>     \n",
       "</tr>\n",
       "<tr>\n",
       "  <th>Covariance Type:</th>      <td>nonrobust</td>    <th>                     </th>               <td> </td>     \n",
       "</tr>\n",
       "</table>\n",
       "<table class=\"simpletable\">\n",
       "<tr>\n",
       "         <td></td>           <th>coef</th>     <th>std err</th>      <th>t</th>      <th>P>|t|</th>  <th>[0.025</th>    <th>0.975]</th>  \n",
       "</tr>\n",
       "<tr>\n",
       "  <th>FIRST_OP</th>       <td>    1.2608</td> <td>    0.038</td> <td>   32.776</td> <td> 0.000</td> <td>    1.185</td> <td>    1.336</td>\n",
       "</tr>\n",
       "<tr>\n",
       "  <th>SIZE_Q</th>         <td>    0.3002</td> <td>    0.003</td> <td>  100.980</td> <td> 0.000</td> <td>    0.294</td> <td>    0.306</td>\n",
       "</tr>\n",
       "<tr>\n",
       "  <th>OPERATOR_C</th>     <td>   -0.0584</td> <td>    0.006</td> <td>   -9.459</td> <td> 0.000</td> <td>   -0.071</td> <td>   -0.046</td>\n",
       "</tr>\n",
       "<tr>\n",
       "  <th>FIRST_OP_MONTH</th> <td>    0.8698</td> <td>    0.036</td> <td>   23.938</td> <td> 0.000</td> <td>    0.799</td> <td>    0.941</td>\n",
       "</tr>\n",
       "<tr>\n",
       "  <th>TYPE_C</th>         <td>   -2.4358</td> <td>    0.062</td> <td>  -39.097</td> <td> 0.000</td> <td>   -2.558</td> <td>   -2.314</td>\n",
       "</tr>\n",
       "<tr>\n",
       "  <th>Reefer</th>         <td>    0.3665</td> <td>    0.131</td> <td>    2.793</td> <td> 0.005</td> <td>    0.109</td> <td>    0.624</td>\n",
       "</tr>\n",
       "</table>\n",
       "<table class=\"simpletable\">\n",
       "<tr>\n",
       "  <th>Omnibus:</th>       <td>7349.027</td> <th>  Durbin-Watson:     </th> <td>   1.985</td> \n",
       "</tr>\n",
       "<tr>\n",
       "  <th>Prob(Omnibus):</th>  <td> 0.000</td>  <th>  Jarque-Bera (JB):  </th> <td>10354.934</td>\n",
       "</tr>\n",
       "<tr>\n",
       "  <th>Skew:</th>           <td> 0.982</td>  <th>  Prob(JB):          </th> <td>    0.00</td> \n",
       "</tr>\n",
       "<tr>\n",
       "  <th>Kurtosis:</th>       <td> 3.549</td>  <th>  Cond. No.          </th> <td>    142.</td> \n",
       "</tr>\n",
       "</table><br/><br/>Notes:<br/>[1] R² is computed without centering (uncentered) since the model does not contain a constant.<br/>[2] Standard Errors assume that the covariance matrix of the errors is correctly specified."
      ],
      "text/plain": [
       "<class 'statsmodels.iolib.summary.Summary'>\n",
       "\"\"\"\n",
       "                                 OLS Regression Results                                \n",
       "=======================================================================================\n",
       "Dep. Variable:       TOTAL_DWELL_DAYS   R-squared (uncentered):                   0.628\n",
       "Model:                            OLS   Adj. R-squared (uncentered):              0.628\n",
       "Method:                 Least Squares   F-statistic:                          1.678e+04\n",
       "Date:                Fri, 28 Apr 2023   Prob (F-statistic):                        0.00\n",
       "Time:                        06:44:17   Log-Likelihood:                     -2.1059e+05\n",
       "No. Observations:               59728   AIC:                                  4.212e+05\n",
       "Df Residuals:                   59722   BIC:                                  4.212e+05\n",
       "Df Model:                           6                                                  \n",
       "Covariance Type:            nonrobust                                                  \n",
       "==================================================================================\n",
       "                     coef    std err          t      P>|t|      [0.025      0.975]\n",
       "----------------------------------------------------------------------------------\n",
       "FIRST_OP           1.2608      0.038     32.776      0.000       1.185       1.336\n",
       "SIZE_Q             0.3002      0.003    100.980      0.000       0.294       0.306\n",
       "OPERATOR_C        -0.0584      0.006     -9.459      0.000      -0.071      -0.046\n",
       "FIRST_OP_MONTH     0.8698      0.036     23.938      0.000       0.799       0.941\n",
       "TYPE_C            -2.4358      0.062    -39.097      0.000      -2.558      -2.314\n",
       "Reefer             0.3665      0.131      2.793      0.005       0.109       0.624\n",
       "==============================================================================\n",
       "Omnibus:                     7349.027   Durbin-Watson:                   1.985\n",
       "Prob(Omnibus):                  0.000   Jarque-Bera (JB):            10354.934\n",
       "Skew:                           0.982   Prob(JB):                         0.00\n",
       "Kurtosis:                       3.549   Cond. No.                         142.\n",
       "==============================================================================\n",
       "\n",
       "Notes:\n",
       "[1] R² is computed without centering (uncentered) since the model does not contain a constant.\n",
       "[2] Standard Errors assume that the covariance matrix of the errors is correctly specified.\n",
       "\"\"\""
      ]
     },
     "execution_count": 101,
     "metadata": {},
     "output_type": "execute_result"
    }
   ],
   "source": [
    "lm = sm.OLS(y_train,X_train)\n",
    "model=lm.fit()\n",
    "model.summary()"
   ]
  },
  {
   "cell_type": "code",
   "execution_count": 102,
   "id": "35b2c4f5",
   "metadata": {
    "execution": {
     "iopub.execute_input": "2023-04-28T06:44:17.962323Z",
     "iopub.status.busy": "2023-04-28T06:44:17.961877Z",
     "iopub.status.idle": "2023-04-28T06:44:17.985848Z",
     "shell.execute_reply": "2023-04-28T06:44:17.984078Z"
    },
    "papermill": {
     "duration": 0.081943,
     "end_time": "2023-04-28T06:44:17.989327",
     "exception": false,
     "start_time": "2023-04-28T06:44:17.907384",
     "status": "completed"
    },
    "tags": []
   },
   "outputs": [
    {
     "name": "stdout",
     "output_type": "stream",
     "text": [
      "rmse : 7.804314140404381mae : 2.4895277157203983\n"
     ]
    }
   ],
   "source": [
    "lm = LinearRegression()\n",
    "model = lm.fit(X_train, y_train)\n",
    "rmse = np.sqrt(mean_squared_error(y_test, model.predict(X_test)))\n",
    "mae = np.sqrt(mean_absolute_error(y_test, model.predict(X_test)))\n",
    "print(\"rmse : \" + str(rmse) + \"mae : \" + str(mae))"
   ]
  },
  {
   "cell_type": "code",
   "execution_count": 103,
   "id": "74fe8942",
   "metadata": {
    "execution": {
     "iopub.execute_input": "2023-04-28T06:44:18.131747Z",
     "iopub.status.busy": "2023-04-28T06:44:18.131349Z",
     "iopub.status.idle": "2023-04-28T06:44:20.035602Z",
     "shell.execute_reply": "2023-04-28T06:44:20.034558Z"
    },
    "papermill": {
     "duration": 1.968265,
     "end_time": "2023-04-28T06:44:20.038060",
     "exception": false,
     "start_time": "2023-04-28T06:44:18.069795",
     "status": "completed"
    },
    "tags": []
   },
   "outputs": [
    {
     "name": "stdout",
     "output_type": "stream",
     "text": [
      "rmse : 6.301231817694497mae : 4.672015064880219\n"
     ]
    }
   ],
   "source": [
    "xgb_model=XGBRegressor().fit(X_train,y_train)\n",
    "y_pred=xgb_model.predict(X_test)\n",
    "rmse=np.sqrt(mean_squared_error(y_test, y_pred))\n",
    "mae=mean_absolute_error(y_test, y_pred)\n",
    "print(\"rmse : \" + str(rmse) + \"mae : \" + str(mae))"
   ]
  },
  {
   "cell_type": "code",
   "execution_count": 104,
   "id": "485c91d8",
   "metadata": {
    "execution": {
     "iopub.execute_input": "2023-04-28T06:44:20.129794Z",
     "iopub.status.busy": "2023-04-28T06:44:20.128572Z",
     "iopub.status.idle": "2023-04-28T06:44:23.161013Z",
     "shell.execute_reply": "2023-04-28T06:44:23.159518Z"
    },
    "papermill": {
     "duration": 3.081067,
     "end_time": "2023-04-28T06:44:23.163453",
     "exception": false,
     "start_time": "2023-04-28T06:44:20.082386",
     "status": "completed"
    },
    "tags": []
   },
   "outputs": [
    {
     "name": "stdout",
     "output_type": "stream",
     "text": [
      "rmse : 6.298841089567017mae : 4.652742703096841\n"
     ]
    }
   ],
   "source": [
    "rf_model=RandomForestRegressor(random_state=42)\n",
    "rf_model.fit(X_train,y_train)\n",
    "y_pred = rf_model.predict(X_test)\n",
    "rmse=np.sqrt(mean_squared_error(y_test, y_pred))\n",
    "mae=mean_absolute_error(y_test, y_pred)\n",
    "print(\"rmse : \" + str(rmse) + \"mae : \" + str(mae))"
   ]
  },
  {
   "cell_type": "markdown",
   "id": "8814f73d",
   "metadata": {
    "papermill": {
     "duration": 0.043647,
     "end_time": "2023-04-28T06:44:23.251171",
     "exception": false,
     "start_time": "2023-04-28T06:44:23.207524",
     "status": "completed"
    },
    "tags": []
   },
   "source": [
    "# df look last 1k"
   ]
  },
  {
   "cell_type": "code",
   "execution_count": 105,
   "id": "448e8d1a",
   "metadata": {
    "execution": {
     "iopub.execute_input": "2023-04-28T06:44:23.341330Z",
     "iopub.status.busy": "2023-04-28T06:44:23.340475Z",
     "iopub.status.idle": "2023-04-28T06:44:23.348596Z",
     "shell.execute_reply": "2023-04-28T06:44:23.347499Z"
    },
    "papermill": {
     "duration": 0.056542,
     "end_time": "2023-04-28T06:44:23.351418",
     "exception": false,
     "start_time": "2023-04-28T06:44:23.294876",
     "status": "completed"
    },
    "tags": []
   },
   "outputs": [],
   "source": [
    "df_sub=df[-10000:]\n",
    "# kolonların ayrılması\n",
    "X=df_sub.drop(\"TOTAL_DWELL_DAYS\",axis=1)\n",
    "y=df_sub[\"TOTAL_DWELL_DAYS\"]\n",
    "\n",
    "#train test setinni ayrılması\n",
    "X_train=X[:9000]\n",
    "X_test=X[9000:]\n",
    "y_train=y[:9000]\n",
    "y_test=y[9000:]"
   ]
  },
  {
   "cell_type": "code",
   "execution_count": 106,
   "id": "23b7f57d",
   "metadata": {
    "execution": {
     "iopub.execute_input": "2023-04-28T06:44:23.443806Z",
     "iopub.status.busy": "2023-04-28T06:44:23.443012Z",
     "iopub.status.idle": "2023-04-28T06:44:23.449248Z",
     "shell.execute_reply": "2023-04-28T06:44:23.448298Z"
    },
    "papermill": {
     "duration": 0.054347,
     "end_time": "2023-04-28T06:44:23.451507",
     "exception": false,
     "start_time": "2023-04-28T06:44:23.397160",
     "status": "completed"
    },
    "tags": []
   },
   "outputs": [
    {
     "data": {
      "text/plain": [
       "(9000, 13)"
      ]
     },
     "execution_count": 106,
     "metadata": {},
     "output_type": "execute_result"
    }
   ],
   "source": [
    "X_train.shape"
   ]
  },
  {
   "cell_type": "code",
   "execution_count": 107,
   "id": "25fed68f",
   "metadata": {
    "execution": {
     "iopub.execute_input": "2023-04-28T06:44:23.542821Z",
     "iopub.status.busy": "2023-04-28T06:44:23.542033Z",
     "iopub.status.idle": "2023-04-28T06:44:23.548338Z",
     "shell.execute_reply": "2023-04-28T06:44:23.547350Z"
    },
    "papermill": {
     "duration": 0.054429,
     "end_time": "2023-04-28T06:44:23.550614",
     "exception": false,
     "start_time": "2023-04-28T06:44:23.496185",
     "status": "completed"
    },
    "tags": []
   },
   "outputs": [
    {
     "data": {
      "text/plain": [
       "(9000,)"
      ]
     },
     "execution_count": 107,
     "metadata": {},
     "output_type": "execute_result"
    }
   ],
   "source": [
    "y_train.shape"
   ]
  },
  {
   "cell_type": "code",
   "execution_count": 108,
   "id": "443865a3",
   "metadata": {
    "execution": {
     "iopub.execute_input": "2023-04-28T06:44:23.643281Z",
     "iopub.status.busy": "2023-04-28T06:44:23.642523Z",
     "iopub.status.idle": "2023-04-28T06:44:23.649101Z",
     "shell.execute_reply": "2023-04-28T06:44:23.648185Z"
    },
    "papermill": {
     "duration": 0.054697,
     "end_time": "2023-04-28T06:44:23.651439",
     "exception": false,
     "start_time": "2023-04-28T06:44:23.596742",
     "status": "completed"
    },
    "tags": []
   },
   "outputs": [
    {
     "data": {
      "text/plain": [
       "(1000, 13)"
      ]
     },
     "execution_count": 108,
     "metadata": {},
     "output_type": "execute_result"
    }
   ],
   "source": [
    "X_test.shape"
   ]
  },
  {
   "cell_type": "code",
   "execution_count": 109,
   "id": "be5bc429",
   "metadata": {
    "execution": {
     "iopub.execute_input": "2023-04-28T06:44:23.744073Z",
     "iopub.status.busy": "2023-04-28T06:44:23.743204Z",
     "iopub.status.idle": "2023-04-28T06:44:23.750242Z",
     "shell.execute_reply": "2023-04-28T06:44:23.748985Z"
    },
    "papermill": {
     "duration": 0.055872,
     "end_time": "2023-04-28T06:44:23.752859",
     "exception": false,
     "start_time": "2023-04-28T06:44:23.696987",
     "status": "completed"
    },
    "tags": []
   },
   "outputs": [
    {
     "data": {
      "text/plain": [
       "(1000,)"
      ]
     },
     "execution_count": 109,
     "metadata": {},
     "output_type": "execute_result"
    }
   ],
   "source": [
    "y_test.shape"
   ]
  },
  {
   "cell_type": "code",
   "execution_count": 110,
   "id": "85eb1b97",
   "metadata": {
    "execution": {
     "iopub.execute_input": "2023-04-28T06:44:23.846263Z",
     "iopub.status.busy": "2023-04-28T06:44:23.845512Z",
     "iopub.status.idle": "2023-04-28T06:44:23.892339Z",
     "shell.execute_reply": "2023-04-28T06:44:23.890963Z"
    },
    "papermill": {
     "duration": 0.095877,
     "end_time": "2023-04-28T06:44:23.895083",
     "exception": false,
     "start_time": "2023-04-28T06:44:23.799206",
     "status": "completed"
    },
    "tags": []
   },
   "outputs": [
    {
     "data": {
      "text/html": [
       "<div>\n",
       "<style scoped>\n",
       "    .dataframe tbody tr th:only-of-type {\n",
       "        vertical-align: middle;\n",
       "    }\n",
       "\n",
       "    .dataframe tbody tr th {\n",
       "        vertical-align: top;\n",
       "    }\n",
       "\n",
       "    .dataframe thead th {\n",
       "        text-align: right;\n",
       "    }\n",
       "</style>\n",
       "<table border=\"1\" class=\"dataframe\">\n",
       "  <thead>\n",
       "    <tr style=\"text-align: right;\">\n",
       "      <th></th>\n",
       "      <th>count</th>\n",
       "      <th>mean</th>\n",
       "      <th>std</th>\n",
       "      <th>min</th>\n",
       "      <th>25%</th>\n",
       "      <th>50%</th>\n",
       "      <th>75%</th>\n",
       "      <th>max</th>\n",
       "    </tr>\n",
       "  </thead>\n",
       "  <tbody>\n",
       "    <tr>\n",
       "      <th>FIRST_OP</th>\n",
       "      <td>10000.00</td>\n",
       "      <td>1.16</td>\n",
       "      <td>0.93</td>\n",
       "      <td>0.00</td>\n",
       "      <td>0.00</td>\n",
       "      <td>1.00</td>\n",
       "      <td>2.00</td>\n",
       "      <td>3.00</td>\n",
       "    </tr>\n",
       "    <tr>\n",
       "      <th>WeekofYear</th>\n",
       "      <td>10000.00</td>\n",
       "      <td>12.20</td>\n",
       "      <td>0.75</td>\n",
       "      <td>8.00</td>\n",
       "      <td>12.00</td>\n",
       "      <td>12.00</td>\n",
       "      <td>13.00</td>\n",
       "      <td>13.00</td>\n",
       "    </tr>\n",
       "    <tr>\n",
       "      <th>WeekDay</th>\n",
       "      <td>10000.00</td>\n",
       "      <td>3.46</td>\n",
       "      <td>1.80</td>\n",
       "      <td>1.00</td>\n",
       "      <td>2.00</td>\n",
       "      <td>3.00</td>\n",
       "      <td>5.00</td>\n",
       "      <td>7.00</td>\n",
       "    </tr>\n",
       "    <tr>\n",
       "      <th>Hour</th>\n",
       "      <td>10000.00</td>\n",
       "      <td>13.11</td>\n",
       "      <td>4.93</td>\n",
       "      <td>0.00</td>\n",
       "      <td>10.00</td>\n",
       "      <td>14.00</td>\n",
       "      <td>16.00</td>\n",
       "      <td>23.00</td>\n",
       "    </tr>\n",
       "    <tr>\n",
       "      <th>DG_IMO_CLASS_C</th>\n",
       "      <td>10000.00</td>\n",
       "      <td>0.00</td>\n",
       "      <td>0.16</td>\n",
       "      <td>0.00</td>\n",
       "      <td>0.00</td>\n",
       "      <td>0.00</td>\n",
       "      <td>0.00</td>\n",
       "      <td>8.00</td>\n",
       "    </tr>\n",
       "    <tr>\n",
       "      <th>ımoORnot</th>\n",
       "      <td>10000.00</td>\n",
       "      <td>0.00</td>\n",
       "      <td>0.02</td>\n",
       "      <td>0.00</td>\n",
       "      <td>0.00</td>\n",
       "      <td>0.00</td>\n",
       "      <td>0.00</td>\n",
       "      <td>1.00</td>\n",
       "    </tr>\n",
       "    <tr>\n",
       "      <th>SIZE_Q</th>\n",
       "      <td>10000.00</td>\n",
       "      <td>34.24</td>\n",
       "      <td>9.06</td>\n",
       "      <td>20.00</td>\n",
       "      <td>20.00</td>\n",
       "      <td>40.00</td>\n",
       "      <td>40.00</td>\n",
       "      <td>40.00</td>\n",
       "    </tr>\n",
       "    <tr>\n",
       "      <th>OPERATOR_C</th>\n",
       "      <td>10000.00</td>\n",
       "      <td>7.07</td>\n",
       "      <td>5.09</td>\n",
       "      <td>0.00</td>\n",
       "      <td>3.00</td>\n",
       "      <td>7.00</td>\n",
       "      <td>10.00</td>\n",
       "      <td>19.00</td>\n",
       "    </tr>\n",
       "    <tr>\n",
       "      <th>DayOfMonth</th>\n",
       "      <td>10000.00</td>\n",
       "      <td>23.66</td>\n",
       "      <td>4.85</td>\n",
       "      <td>1.00</td>\n",
       "      <td>21.00</td>\n",
       "      <td>24.00</td>\n",
       "      <td>28.00</td>\n",
       "      <td>31.00</td>\n",
       "    </tr>\n",
       "    <tr>\n",
       "      <th>FIRST_OP_MONTH</th>\n",
       "      <td>10000.00</td>\n",
       "      <td>3.00</td>\n",
       "      <td>0.04</td>\n",
       "      <td>2.00</td>\n",
       "      <td>3.00</td>\n",
       "      <td>3.00</td>\n",
       "      <td>3.00</td>\n",
       "      <td>3.00</td>\n",
       "    </tr>\n",
       "    <tr>\n",
       "      <th>DELIVERY_BOOKING_I</th>\n",
       "      <td>10000.00</td>\n",
       "      <td>0.68</td>\n",
       "      <td>0.46</td>\n",
       "      <td>0.00</td>\n",
       "      <td>0.00</td>\n",
       "      <td>1.00</td>\n",
       "      <td>1.00</td>\n",
       "      <td>1.00</td>\n",
       "    </tr>\n",
       "    <tr>\n",
       "      <th>TYPE_C</th>\n",
       "      <td>10000.00</td>\n",
       "      <td>0.89</td>\n",
       "      <td>0.72</td>\n",
       "      <td>0.00</td>\n",
       "      <td>0.00</td>\n",
       "      <td>1.00</td>\n",
       "      <td>1.00</td>\n",
       "      <td>4.00</td>\n",
       "    </tr>\n",
       "    <tr>\n",
       "      <th>Reefer</th>\n",
       "      <td>10000.00</td>\n",
       "      <td>0.15</td>\n",
       "      <td>0.36</td>\n",
       "      <td>0.00</td>\n",
       "      <td>0.00</td>\n",
       "      <td>0.00</td>\n",
       "      <td>0.00</td>\n",
       "      <td>1.00</td>\n",
       "    </tr>\n",
       "    <tr>\n",
       "      <th>TOTAL_DWELL_DAYS</th>\n",
       "      <td>10000.00</td>\n",
       "      <td>10.26</td>\n",
       "      <td>5.80</td>\n",
       "      <td>0.00</td>\n",
       "      <td>5.00</td>\n",
       "      <td>10.00</td>\n",
       "      <td>14.00</td>\n",
       "      <td>35.00</td>\n",
       "    </tr>\n",
       "  </tbody>\n",
       "</table>\n",
       "</div>"
      ],
      "text/plain": [
       "                      count  mean  std   min   25%   50%   75%   max\n",
       "FIRST_OP           10000.00  1.16 0.93  0.00  0.00  1.00  2.00  3.00\n",
       "WeekofYear         10000.00 12.20 0.75  8.00 12.00 12.00 13.00 13.00\n",
       "WeekDay            10000.00  3.46 1.80  1.00  2.00  3.00  5.00  7.00\n",
       "Hour               10000.00 13.11 4.93  0.00 10.00 14.00 16.00 23.00\n",
       "DG_IMO_CLASS_C     10000.00  0.00 0.16  0.00  0.00  0.00  0.00  8.00\n",
       "ımoORnot           10000.00  0.00 0.02  0.00  0.00  0.00  0.00  1.00\n",
       "SIZE_Q             10000.00 34.24 9.06 20.00 20.00 40.00 40.00 40.00\n",
       "OPERATOR_C         10000.00  7.07 5.09  0.00  3.00  7.00 10.00 19.00\n",
       "DayOfMonth         10000.00 23.66 4.85  1.00 21.00 24.00 28.00 31.00\n",
       "FIRST_OP_MONTH     10000.00  3.00 0.04  2.00  3.00  3.00  3.00  3.00\n",
       "DELIVERY_BOOKING_I 10000.00  0.68 0.46  0.00  0.00  1.00  1.00  1.00\n",
       "TYPE_C             10000.00  0.89 0.72  0.00  0.00  1.00  1.00  4.00\n",
       "Reefer             10000.00  0.15 0.36  0.00  0.00  0.00  0.00  1.00\n",
       "TOTAL_DWELL_DAYS   10000.00 10.26 5.80  0.00  5.00 10.00 14.00 35.00"
      ]
     },
     "execution_count": 110,
     "metadata": {},
     "output_type": "execute_result"
    }
   ],
   "source": [
    "df_sub.describe().T"
   ]
  },
  {
   "cell_type": "code",
   "execution_count": 111,
   "id": "ae52cf13",
   "metadata": {
    "execution": {
     "iopub.execute_input": "2023-04-28T06:44:23.987783Z",
     "iopub.status.busy": "2023-04-28T06:44:23.987389Z",
     "iopub.status.idle": "2023-04-28T06:44:24.011288Z",
     "shell.execute_reply": "2023-04-28T06:44:24.009801Z"
    },
    "papermill": {
     "duration": 0.074893,
     "end_time": "2023-04-28T06:44:24.015667",
     "exception": false,
     "start_time": "2023-04-28T06:44:23.940774",
     "status": "completed"
    },
    "tags": []
   },
   "outputs": [
    {
     "name": "stdout",
     "output_type": "stream",
     "text": [
      "rmse : 4.726866127207325mae : 1.9723548530665873\n"
     ]
    }
   ],
   "source": [
    "lm = LinearRegression()\n",
    "model = lm.fit(X_train, y_train)\n",
    "rmse = np.sqrt(mean_squared_error(y_test, model.predict(X_test)))\n",
    "mae = np.sqrt(mean_absolute_error(y_test, model.predict(X_test)))\n",
    "print(\"rmse : \" + str(rmse) + \"mae : \" + str(mae))"
   ]
  },
  {
   "cell_type": "code",
   "execution_count": 112,
   "id": "464f9fa8",
   "metadata": {
    "execution": {
     "iopub.execute_input": "2023-04-28T06:44:24.152965Z",
     "iopub.status.busy": "2023-04-28T06:44:24.152548Z",
     "iopub.status.idle": "2023-04-28T06:44:24.848871Z",
     "shell.execute_reply": "2023-04-28T06:44:24.847725Z"
    },
    "papermill": {
     "duration": 0.758571,
     "end_time": "2023-04-28T06:44:24.851766",
     "exception": false,
     "start_time": "2023-04-28T06:44:24.093195",
     "status": "completed"
    },
    "tags": []
   },
   "outputs": [
    {
     "name": "stdout",
     "output_type": "stream",
     "text": [
      "rmse : 3.3776589855634915mae : 2.407594757318497\n"
     ]
    }
   ],
   "source": [
    "xgb_model=XGBRegressor().fit(X_train,y_train)\n",
    "y_pred=xgb_model.predict(X_test)\n",
    "rmse=np.sqrt(mean_squared_error(y_test, y_pred))\n",
    "mae=mean_absolute_error(y_test, y_pred)\n",
    "print(\"rmse : \" + str(rmse) + \"mae : \" + str(mae))"
   ]
  },
  {
   "cell_type": "code",
   "execution_count": 113,
   "id": "5b1ad71f",
   "metadata": {
    "execution": {
     "iopub.execute_input": "2023-04-28T06:44:24.946214Z",
     "iopub.status.busy": "2023-04-28T06:44:24.945323Z",
     "iopub.status.idle": "2023-04-28T06:44:26.300939Z",
     "shell.execute_reply": "2023-04-28T06:44:26.299034Z"
    },
    "papermill": {
     "duration": 1.405274,
     "end_time": "2023-04-28T06:44:26.303546",
     "exception": false,
     "start_time": "2023-04-28T06:44:24.898272",
     "status": "completed"
    },
    "tags": []
   },
   "outputs": [
    {
     "name": "stdout",
     "output_type": "stream",
     "text": [
      "rmse : 3.3542354133802545    mae : 2.094827914016471\n"
     ]
    }
   ],
   "source": [
    "rf_model=RandomForestRegressor(random_state=42)\n",
    "rf_model.fit(X_train,y_train)\n",
    "y_pred = rf_model.predict(X_test)\n",
    "rmse=np.sqrt(mean_squared_error(y_test, y_pred))\n",
    "mae=mean_absolute_error(y_test, y_pred)\n",
    "print(\"rmse : \" + str(rmse) + \"    mae : \" + str(mae))"
   ]
  },
  {
   "cell_type": "code",
   "execution_count": 114,
   "id": "26264d97",
   "metadata": {
    "execution": {
     "iopub.execute_input": "2023-04-28T06:44:26.399084Z",
     "iopub.status.busy": "2023-04-28T06:44:26.397948Z",
     "iopub.status.idle": "2023-04-28T06:44:26.406773Z",
     "shell.execute_reply": "2023-04-28T06:44:26.405633Z"
    },
    "papermill": {
     "duration": 0.059224,
     "end_time": "2023-04-28T06:44:26.409226",
     "exception": false,
     "start_time": "2023-04-28T06:44:26.350002",
     "status": "completed"
    },
    "tags": []
   },
   "outputs": [
    {
     "data": {
      "text/plain": [
       "10.377540556447208"
      ]
     },
     "execution_count": 114,
     "metadata": {},
     "output_type": "execute_result"
    }
   ],
   "source": [
    "total=0\n",
    "for i in y_pred:\n",
    "    total+=i\n",
    "total/len(y_pred)    "
   ]
  },
  {
   "cell_type": "code",
   "execution_count": 115,
   "id": "78a6405f",
   "metadata": {
    "execution": {
     "iopub.execute_input": "2023-04-28T06:44:26.501649Z",
     "iopub.status.busy": "2023-04-28T06:44:26.501184Z",
     "iopub.status.idle": "2023-04-28T06:44:26.509101Z",
     "shell.execute_reply": "2023-04-28T06:44:26.507730Z"
    },
    "papermill": {
     "duration": 0.057331,
     "end_time": "2023-04-28T06:44:26.511687",
     "exception": false,
     "start_time": "2023-04-28T06:44:26.454356",
     "status": "completed"
    },
    "tags": []
   },
   "outputs": [],
   "source": [
    "df_result = pd.DataFrame({'test': y_test, 'pred':y_pred }, columns=['test', 'pred'])"
   ]
  },
  {
   "cell_type": "code",
   "execution_count": 116,
   "id": "06020e2a",
   "metadata": {
    "execution": {
     "iopub.execute_input": "2023-04-28T06:44:26.604387Z",
     "iopub.status.busy": "2023-04-28T06:44:26.603790Z",
     "iopub.status.idle": "2023-04-28T06:44:26.618484Z",
     "shell.execute_reply": "2023-04-28T06:44:26.617138Z"
    },
    "papermill": {
     "duration": 0.063945,
     "end_time": "2023-04-28T06:44:26.620956",
     "exception": false,
     "start_time": "2023-04-28T06:44:26.557011",
     "status": "completed"
    },
    "tags": []
   },
   "outputs": [
    {
     "data": {
      "text/html": [
       "<div>\n",
       "<style scoped>\n",
       "    .dataframe tbody tr th:only-of-type {\n",
       "        vertical-align: middle;\n",
       "    }\n",
       "\n",
       "    .dataframe tbody tr th {\n",
       "        vertical-align: top;\n",
       "    }\n",
       "\n",
       "    .dataframe thead th {\n",
       "        text-align: right;\n",
       "    }\n",
       "</style>\n",
       "<table border=\"1\" class=\"dataframe\">\n",
       "  <thead>\n",
       "    <tr style=\"text-align: right;\">\n",
       "      <th></th>\n",
       "      <th>test</th>\n",
       "      <th>pred</th>\n",
       "    </tr>\n",
       "  </thead>\n",
       "  <tbody>\n",
       "    <tr>\n",
       "      <th>65365</th>\n",
       "      <td>12</td>\n",
       "      <td>12.20</td>\n",
       "    </tr>\n",
       "    <tr>\n",
       "      <th>65366</th>\n",
       "      <td>4</td>\n",
       "      <td>4.71</td>\n",
       "    </tr>\n",
       "    <tr>\n",
       "      <th>65367</th>\n",
       "      <td>6</td>\n",
       "      <td>8.03</td>\n",
       "    </tr>\n",
       "    <tr>\n",
       "      <th>65368</th>\n",
       "      <td>18</td>\n",
       "      <td>14.55</td>\n",
       "    </tr>\n",
       "    <tr>\n",
       "      <th>65369</th>\n",
       "      <td>6</td>\n",
       "      <td>5.91</td>\n",
       "    </tr>\n",
       "    <tr>\n",
       "      <th>...</th>\n",
       "      <td>...</td>\n",
       "      <td>...</td>\n",
       "    </tr>\n",
       "    <tr>\n",
       "      <th>66360</th>\n",
       "      <td>6</td>\n",
       "      <td>7.18</td>\n",
       "    </tr>\n",
       "    <tr>\n",
       "      <th>66361</th>\n",
       "      <td>6</td>\n",
       "      <td>11.91</td>\n",
       "    </tr>\n",
       "    <tr>\n",
       "      <th>66362</th>\n",
       "      <td>6</td>\n",
       "      <td>11.91</td>\n",
       "    </tr>\n",
       "    <tr>\n",
       "      <th>66363</th>\n",
       "      <td>33</td>\n",
       "      <td>17.77</td>\n",
       "    </tr>\n",
       "    <tr>\n",
       "      <th>66364</th>\n",
       "      <td>33</td>\n",
       "      <td>15.99</td>\n",
       "    </tr>\n",
       "  </tbody>\n",
       "</table>\n",
       "<p>1000 rows × 2 columns</p>\n",
       "</div>"
      ],
      "text/plain": [
       "       test  pred\n",
       "65365    12 12.20\n",
       "65366     4  4.71\n",
       "65367     6  8.03\n",
       "65368    18 14.55\n",
       "65369     6  5.91\n",
       "...     ...   ...\n",
       "66360     6  7.18\n",
       "66361     6 11.91\n",
       "66362     6 11.91\n",
       "66363    33 17.77\n",
       "66364    33 15.99\n",
       "\n",
       "[1000 rows x 2 columns]"
      ]
     },
     "execution_count": 116,
     "metadata": {},
     "output_type": "execute_result"
    }
   ],
   "source": [
    "df_result"
   ]
  },
  {
   "cell_type": "code",
   "execution_count": 117,
   "id": "c0b8e361",
   "metadata": {
    "execution": {
     "iopub.execute_input": "2023-04-28T06:44:26.714502Z",
     "iopub.status.busy": "2023-04-28T06:44:26.713399Z",
     "iopub.status.idle": "2023-04-28T06:44:26.726474Z",
     "shell.execute_reply": "2023-04-28T06:44:26.725394Z"
    },
    "papermill": {
     "duration": 0.062419,
     "end_time": "2023-04-28T06:44:26.728914",
     "exception": false,
     "start_time": "2023-04-28T06:44:26.666495",
     "status": "completed"
    },
    "tags": []
   },
   "outputs": [
    {
     "data": {
      "text/html": [
       "<div>\n",
       "<style scoped>\n",
       "    .dataframe tbody tr th:only-of-type {\n",
       "        vertical-align: middle;\n",
       "    }\n",
       "\n",
       "    .dataframe tbody tr th {\n",
       "        vertical-align: top;\n",
       "    }\n",
       "\n",
       "    .dataframe thead th {\n",
       "        text-align: right;\n",
       "    }\n",
       "</style>\n",
       "<table border=\"1\" class=\"dataframe\">\n",
       "  <thead>\n",
       "    <tr style=\"text-align: right;\">\n",
       "      <th></th>\n",
       "      <th>test</th>\n",
       "      <th>pred</th>\n",
       "      <th>Diff</th>\n",
       "    </tr>\n",
       "  </thead>\n",
       "  <tbody>\n",
       "    <tr>\n",
       "      <th>65365</th>\n",
       "      <td>12</td>\n",
       "      <td>12.20</td>\n",
       "      <td>-0.20</td>\n",
       "    </tr>\n",
       "    <tr>\n",
       "      <th>65366</th>\n",
       "      <td>4</td>\n",
       "      <td>4.71</td>\n",
       "      <td>-0.71</td>\n",
       "    </tr>\n",
       "    <tr>\n",
       "      <th>65367</th>\n",
       "      <td>6</td>\n",
       "      <td>8.03</td>\n",
       "      <td>-2.03</td>\n",
       "    </tr>\n",
       "    <tr>\n",
       "      <th>65368</th>\n",
       "      <td>18</td>\n",
       "      <td>14.55</td>\n",
       "      <td>3.45</td>\n",
       "    </tr>\n",
       "    <tr>\n",
       "      <th>65369</th>\n",
       "      <td>6</td>\n",
       "      <td>5.91</td>\n",
       "      <td>0.09</td>\n",
       "    </tr>\n",
       "  </tbody>\n",
       "</table>\n",
       "</div>"
      ],
      "text/plain": [
       "       test  pred  Diff\n",
       "65365    12 12.20 -0.20\n",
       "65366     4  4.71 -0.71\n",
       "65367     6  8.03 -2.03\n",
       "65368    18 14.55  3.45\n",
       "65369     6  5.91  0.09"
      ]
     },
     "execution_count": 117,
     "metadata": {},
     "output_type": "execute_result"
    }
   ],
   "source": [
    "df_result[\"Diff\"]=df_result[\"test\"]-df_result[\"pred\"]\n",
    "df_result.head()"
   ]
  },
  {
   "cell_type": "code",
   "execution_count": 118,
   "id": "c1ba78a1",
   "metadata": {
    "execution": {
     "iopub.execute_input": "2023-04-28T06:44:26.822136Z",
     "iopub.status.busy": "2023-04-28T06:44:26.821683Z",
     "iopub.status.idle": "2023-04-28T06:44:26.834912Z",
     "shell.execute_reply": "2023-04-28T06:44:26.833826Z"
    },
    "papermill": {
     "duration": 0.062845,
     "end_time": "2023-04-28T06:44:26.837313",
     "exception": false,
     "start_time": "2023-04-28T06:44:26.774468",
     "status": "completed"
    },
    "tags": []
   },
   "outputs": [
    {
     "data": {
      "text/html": [
       "<div>\n",
       "<style scoped>\n",
       "    .dataframe tbody tr th:only-of-type {\n",
       "        vertical-align: middle;\n",
       "    }\n",
       "\n",
       "    .dataframe tbody tr th {\n",
       "        vertical-align: top;\n",
       "    }\n",
       "\n",
       "    .dataframe thead th {\n",
       "        text-align: right;\n",
       "    }\n",
       "</style>\n",
       "<table border=\"1\" class=\"dataframe\">\n",
       "  <thead>\n",
       "    <tr style=\"text-align: right;\">\n",
       "      <th></th>\n",
       "      <th>test</th>\n",
       "      <th>pred</th>\n",
       "      <th>Diff</th>\n",
       "    </tr>\n",
       "  </thead>\n",
       "  <tbody>\n",
       "    <tr>\n",
       "      <th>66364</th>\n",
       "      <td>33</td>\n",
       "      <td>15.99</td>\n",
       "      <td>17.01</td>\n",
       "    </tr>\n",
       "    <tr>\n",
       "      <th>66363</th>\n",
       "      <td>33</td>\n",
       "      <td>17.77</td>\n",
       "      <td>15.23</td>\n",
       "    </tr>\n",
       "    <tr>\n",
       "      <th>66002</th>\n",
       "      <td>33</td>\n",
       "      <td>17.77</td>\n",
       "      <td>15.23</td>\n",
       "    </tr>\n",
       "    <tr>\n",
       "      <th>65728</th>\n",
       "      <td>18</td>\n",
       "      <td>6.54</td>\n",
       "      <td>11.46</td>\n",
       "    </tr>\n",
       "    <tr>\n",
       "      <th>65942</th>\n",
       "      <td>19</td>\n",
       "      <td>7.92</td>\n",
       "      <td>11.08</td>\n",
       "    </tr>\n",
       "    <tr>\n",
       "      <th>65714</th>\n",
       "      <td>16</td>\n",
       "      <td>5.06</td>\n",
       "      <td>10.94</td>\n",
       "    </tr>\n",
       "    <tr>\n",
       "      <th>65715</th>\n",
       "      <td>16</td>\n",
       "      <td>5.23</td>\n",
       "      <td>10.77</td>\n",
       "    </tr>\n",
       "    <tr>\n",
       "      <th>65998</th>\n",
       "      <td>15</td>\n",
       "      <td>4.41</td>\n",
       "      <td>10.59</td>\n",
       "    </tr>\n",
       "    <tr>\n",
       "      <th>66134</th>\n",
       "      <td>18</td>\n",
       "      <td>7.68</td>\n",
       "      <td>10.32</td>\n",
       "    </tr>\n",
       "    <tr>\n",
       "      <th>65564</th>\n",
       "      <td>18</td>\n",
       "      <td>7.82</td>\n",
       "      <td>10.18</td>\n",
       "    </tr>\n",
       "    <tr>\n",
       "      <th>66039</th>\n",
       "      <td>17</td>\n",
       "      <td>6.90</td>\n",
       "      <td>10.10</td>\n",
       "    </tr>\n",
       "    <tr>\n",
       "      <th>65388</th>\n",
       "      <td>18</td>\n",
       "      <td>8.39</td>\n",
       "      <td>9.61</td>\n",
       "    </tr>\n",
       "    <tr>\n",
       "      <th>66357</th>\n",
       "      <td>16</td>\n",
       "      <td>6.70</td>\n",
       "      <td>9.30</td>\n",
       "    </tr>\n",
       "    <tr>\n",
       "      <th>65563</th>\n",
       "      <td>15</td>\n",
       "      <td>5.95</td>\n",
       "      <td>9.05</td>\n",
       "    </tr>\n",
       "    <tr>\n",
       "      <th>65579</th>\n",
       "      <td>16</td>\n",
       "      <td>7.09</td>\n",
       "      <td>8.91</td>\n",
       "    </tr>\n",
       "    <tr>\n",
       "      <th>65925</th>\n",
       "      <td>17</td>\n",
       "      <td>8.10</td>\n",
       "      <td>8.90</td>\n",
       "    </tr>\n",
       "    <tr>\n",
       "      <th>66261</th>\n",
       "      <td>14</td>\n",
       "      <td>5.15</td>\n",
       "      <td>8.85</td>\n",
       "    </tr>\n",
       "    <tr>\n",
       "      <th>66263</th>\n",
       "      <td>14</td>\n",
       "      <td>5.29</td>\n",
       "      <td>8.71</td>\n",
       "    </tr>\n",
       "    <tr>\n",
       "      <th>66264</th>\n",
       "      <td>14</td>\n",
       "      <td>5.29</td>\n",
       "      <td>8.71</td>\n",
       "    </tr>\n",
       "    <tr>\n",
       "      <th>66260</th>\n",
       "      <td>14</td>\n",
       "      <td>5.29</td>\n",
       "      <td>8.71</td>\n",
       "    </tr>\n",
       "    <tr>\n",
       "      <th>66267</th>\n",
       "      <td>14</td>\n",
       "      <td>5.29</td>\n",
       "      <td>8.71</td>\n",
       "    </tr>\n",
       "    <tr>\n",
       "      <th>66262</th>\n",
       "      <td>14</td>\n",
       "      <td>5.38</td>\n",
       "      <td>8.62</td>\n",
       "    </tr>\n",
       "    <tr>\n",
       "      <th>66265</th>\n",
       "      <td>14</td>\n",
       "      <td>5.38</td>\n",
       "      <td>8.62</td>\n",
       "    </tr>\n",
       "    <tr>\n",
       "      <th>66203</th>\n",
       "      <td>17</td>\n",
       "      <td>8.40</td>\n",
       "      <td>8.60</td>\n",
       "    </tr>\n",
       "    <tr>\n",
       "      <th>66205</th>\n",
       "      <td>17</td>\n",
       "      <td>8.40</td>\n",
       "      <td>8.60</td>\n",
       "    </tr>\n",
       "  </tbody>\n",
       "</table>\n",
       "</div>"
      ],
      "text/plain": [
       "       test  pred  Diff\n",
       "66364    33 15.99 17.01\n",
       "66363    33 17.77 15.23\n",
       "66002    33 17.77 15.23\n",
       "65728    18  6.54 11.46\n",
       "65942    19  7.92 11.08\n",
       "65714    16  5.06 10.94\n",
       "65715    16  5.23 10.77\n",
       "65998    15  4.41 10.59\n",
       "66134    18  7.68 10.32\n",
       "65564    18  7.82 10.18\n",
       "66039    17  6.90 10.10\n",
       "65388    18  8.39  9.61\n",
       "66357    16  6.70  9.30\n",
       "65563    15  5.95  9.05\n",
       "65579    16  7.09  8.91\n",
       "65925    17  8.10  8.90\n",
       "66261    14  5.15  8.85\n",
       "66263    14  5.29  8.71\n",
       "66264    14  5.29  8.71\n",
       "66260    14  5.29  8.71\n",
       "66267    14  5.29  8.71\n",
       "66262    14  5.38  8.62\n",
       "66265    14  5.38  8.62\n",
       "66203    17  8.40  8.60\n",
       "66205    17  8.40  8.60"
      ]
     },
     "execution_count": 118,
     "metadata": {},
     "output_type": "execute_result"
    }
   ],
   "source": [
    "df_result.sort_values(by=\"Diff\",ascending=False).head(25)"
   ]
  },
  {
   "cell_type": "code",
   "execution_count": 119,
   "id": "06916db1",
   "metadata": {
    "execution": {
     "iopub.execute_input": "2023-04-28T06:44:26.933992Z",
     "iopub.status.busy": "2023-04-28T06:44:26.932774Z",
     "iopub.status.idle": "2023-04-28T06:44:26.948862Z",
     "shell.execute_reply": "2023-04-28T06:44:26.947718Z"
    },
    "papermill": {
     "duration": 0.066097,
     "end_time": "2023-04-28T06:44:26.951326",
     "exception": false,
     "start_time": "2023-04-28T06:44:26.885229",
     "status": "completed"
    },
    "tags": []
   },
   "outputs": [
    {
     "data": {
      "text/html": [
       "<div>\n",
       "<style scoped>\n",
       "    .dataframe tbody tr th:only-of-type {\n",
       "        vertical-align: middle;\n",
       "    }\n",
       "\n",
       "    .dataframe tbody tr th {\n",
       "        vertical-align: top;\n",
       "    }\n",
       "\n",
       "    .dataframe thead th {\n",
       "        text-align: right;\n",
       "    }\n",
       "</style>\n",
       "<table border=\"1\" class=\"dataframe\">\n",
       "  <thead>\n",
       "    <tr style=\"text-align: right;\">\n",
       "      <th></th>\n",
       "      <th>test</th>\n",
       "      <th>pred</th>\n",
       "      <th>Diff</th>\n",
       "    </tr>\n",
       "  </thead>\n",
       "  <tbody>\n",
       "    <tr>\n",
       "      <th>65856</th>\n",
       "      <td>35</td>\n",
       "      <td>34.98</td>\n",
       "      <td>0.02</td>\n",
       "    </tr>\n",
       "    <tr>\n",
       "      <th>65883</th>\n",
       "      <td>24</td>\n",
       "      <td>25.52</td>\n",
       "      <td>-1.52</td>\n",
       "    </tr>\n",
       "    <tr>\n",
       "      <th>65693</th>\n",
       "      <td>19</td>\n",
       "      <td>20.00</td>\n",
       "      <td>-1.00</td>\n",
       "    </tr>\n",
       "    <tr>\n",
       "      <th>65708</th>\n",
       "      <td>19</td>\n",
       "      <td>19.22</td>\n",
       "      <td>-0.22</td>\n",
       "    </tr>\n",
       "    <tr>\n",
       "      <th>65523</th>\n",
       "      <td>19</td>\n",
       "      <td>18.90</td>\n",
       "      <td>0.10</td>\n",
       "    </tr>\n",
       "    <tr>\n",
       "      <th>65720</th>\n",
       "      <td>18</td>\n",
       "      <td>18.09</td>\n",
       "      <td>-0.09</td>\n",
       "    </tr>\n",
       "    <tr>\n",
       "      <th>65719</th>\n",
       "      <td>18</td>\n",
       "      <td>18.09</td>\n",
       "      <td>-0.09</td>\n",
       "    </tr>\n",
       "    <tr>\n",
       "      <th>65718</th>\n",
       "      <td>18</td>\n",
       "      <td>18.09</td>\n",
       "      <td>-0.09</td>\n",
       "    </tr>\n",
       "    <tr>\n",
       "      <th>66363</th>\n",
       "      <td>33</td>\n",
       "      <td>17.77</td>\n",
       "      <td>15.23</td>\n",
       "    </tr>\n",
       "    <tr>\n",
       "      <th>66002</th>\n",
       "      <td>33</td>\n",
       "      <td>17.77</td>\n",
       "      <td>15.23</td>\n",
       "    </tr>\n",
       "    <tr>\n",
       "      <th>66160</th>\n",
       "      <td>18</td>\n",
       "      <td>17.76</td>\n",
       "      <td>0.24</td>\n",
       "    </tr>\n",
       "    <tr>\n",
       "      <th>65926</th>\n",
       "      <td>16</td>\n",
       "      <td>17.73</td>\n",
       "      <td>-1.73</td>\n",
       "    </tr>\n",
       "    <tr>\n",
       "      <th>65927</th>\n",
       "      <td>16</td>\n",
       "      <td>17.73</td>\n",
       "      <td>-1.73</td>\n",
       "    </tr>\n",
       "    <tr>\n",
       "      <th>66161</th>\n",
       "      <td>18</td>\n",
       "      <td>17.66</td>\n",
       "      <td>0.34</td>\n",
       "    </tr>\n",
       "    <tr>\n",
       "      <th>65954</th>\n",
       "      <td>10</td>\n",
       "      <td>17.55</td>\n",
       "      <td>-7.55</td>\n",
       "    </tr>\n",
       "    <tr>\n",
       "      <th>65730</th>\n",
       "      <td>18</td>\n",
       "      <td>17.51</td>\n",
       "      <td>0.49</td>\n",
       "    </tr>\n",
       "    <tr>\n",
       "      <th>65729</th>\n",
       "      <td>18</td>\n",
       "      <td>17.51</td>\n",
       "      <td>0.49</td>\n",
       "    </tr>\n",
       "    <tr>\n",
       "      <th>65695</th>\n",
       "      <td>19</td>\n",
       "      <td>17.41</td>\n",
       "      <td>1.59</td>\n",
       "    </tr>\n",
       "    <tr>\n",
       "      <th>65545</th>\n",
       "      <td>19</td>\n",
       "      <td>17.36</td>\n",
       "      <td>1.64</td>\n",
       "    </tr>\n",
       "    <tr>\n",
       "      <th>66304</th>\n",
       "      <td>17</td>\n",
       "      <td>17.33</td>\n",
       "      <td>-0.33</td>\n",
       "    </tr>\n",
       "    <tr>\n",
       "      <th>66306</th>\n",
       "      <td>19</td>\n",
       "      <td>17.33</td>\n",
       "      <td>1.67</td>\n",
       "    </tr>\n",
       "    <tr>\n",
       "      <th>66307</th>\n",
       "      <td>17</td>\n",
       "      <td>17.33</td>\n",
       "      <td>-0.33</td>\n",
       "    </tr>\n",
       "    <tr>\n",
       "      <th>66149</th>\n",
       "      <td>18</td>\n",
       "      <td>17.26</td>\n",
       "      <td>0.74</td>\n",
       "    </tr>\n",
       "    <tr>\n",
       "      <th>66146</th>\n",
       "      <td>18</td>\n",
       "      <td>17.26</td>\n",
       "      <td>0.74</td>\n",
       "    </tr>\n",
       "    <tr>\n",
       "      <th>65534</th>\n",
       "      <td>19</td>\n",
       "      <td>17.16</td>\n",
       "      <td>1.84</td>\n",
       "    </tr>\n",
       "    <tr>\n",
       "      <th>65543</th>\n",
       "      <td>19</td>\n",
       "      <td>17.16</td>\n",
       "      <td>1.84</td>\n",
       "    </tr>\n",
       "    <tr>\n",
       "      <th>65698</th>\n",
       "      <td>19</td>\n",
       "      <td>17.16</td>\n",
       "      <td>1.84</td>\n",
       "    </tr>\n",
       "    <tr>\n",
       "      <th>65539</th>\n",
       "      <td>19</td>\n",
       "      <td>17.16</td>\n",
       "      <td>1.84</td>\n",
       "    </tr>\n",
       "    <tr>\n",
       "      <th>65694</th>\n",
       "      <td>19</td>\n",
       "      <td>17.16</td>\n",
       "      <td>1.84</td>\n",
       "    </tr>\n",
       "    <tr>\n",
       "      <th>65692</th>\n",
       "      <td>19</td>\n",
       "      <td>17.16</td>\n",
       "      <td>1.84</td>\n",
       "    </tr>\n",
       "    <tr>\n",
       "      <th>65544</th>\n",
       "      <td>19</td>\n",
       "      <td>17.16</td>\n",
       "      <td>1.84</td>\n",
       "    </tr>\n",
       "    <tr>\n",
       "      <th>65542</th>\n",
       "      <td>19</td>\n",
       "      <td>17.16</td>\n",
       "      <td>1.84</td>\n",
       "    </tr>\n",
       "    <tr>\n",
       "      <th>65937</th>\n",
       "      <td>18</td>\n",
       "      <td>17.11</td>\n",
       "      <td>0.89</td>\n",
       "    </tr>\n",
       "    <tr>\n",
       "      <th>65935</th>\n",
       "      <td>18</td>\n",
       "      <td>17.11</td>\n",
       "      <td>0.89</td>\n",
       "    </tr>\n",
       "    <tr>\n",
       "      <th>65936</th>\n",
       "      <td>18</td>\n",
       "      <td>17.11</td>\n",
       "      <td>0.89</td>\n",
       "    </tr>\n",
       "    <tr>\n",
       "      <th>66182</th>\n",
       "      <td>17</td>\n",
       "      <td>17.07</td>\n",
       "      <td>-0.07</td>\n",
       "    </tr>\n",
       "    <tr>\n",
       "      <th>66188</th>\n",
       "      <td>17</td>\n",
       "      <td>17.07</td>\n",
       "      <td>-0.07</td>\n",
       "    </tr>\n",
       "    <tr>\n",
       "      <th>65818</th>\n",
       "      <td>17</td>\n",
       "      <td>17.00</td>\n",
       "      <td>0.00</td>\n",
       "    </tr>\n",
       "    <tr>\n",
       "      <th>65804</th>\n",
       "      <td>17</td>\n",
       "      <td>17.00</td>\n",
       "      <td>0.00</td>\n",
       "    </tr>\n",
       "    <tr>\n",
       "      <th>65810</th>\n",
       "      <td>17</td>\n",
       "      <td>17.00</td>\n",
       "      <td>0.00</td>\n",
       "    </tr>\n",
       "    <tr>\n",
       "      <th>65807</th>\n",
       "      <td>17</td>\n",
       "      <td>17.00</td>\n",
       "      <td>0.00</td>\n",
       "    </tr>\n",
       "    <tr>\n",
       "      <th>65759</th>\n",
       "      <td>17</td>\n",
       "      <td>17.00</td>\n",
       "      <td>0.00</td>\n",
       "    </tr>\n",
       "    <tr>\n",
       "      <th>65417</th>\n",
       "      <td>17</td>\n",
       "      <td>17.00</td>\n",
       "      <td>0.00</td>\n",
       "    </tr>\n",
       "    <tr>\n",
       "      <th>65416</th>\n",
       "      <td>17</td>\n",
       "      <td>17.00</td>\n",
       "      <td>0.00</td>\n",
       "    </tr>\n",
       "    <tr>\n",
       "      <th>65812</th>\n",
       "      <td>17</td>\n",
       "      <td>17.00</td>\n",
       "      <td>0.00</td>\n",
       "    </tr>\n",
       "    <tr>\n",
       "      <th>65801</th>\n",
       "      <td>17</td>\n",
       "      <td>17.00</td>\n",
       "      <td>0.00</td>\n",
       "    </tr>\n",
       "    <tr>\n",
       "      <th>65410</th>\n",
       "      <td>17</td>\n",
       "      <td>17.00</td>\n",
       "      <td>0.00</td>\n",
       "    </tr>\n",
       "    <tr>\n",
       "      <th>66213</th>\n",
       "      <td>17</td>\n",
       "      <td>17.00</td>\n",
       "      <td>0.00</td>\n",
       "    </tr>\n",
       "    <tr>\n",
       "      <th>66022</th>\n",
       "      <td>17</td>\n",
       "      <td>17.00</td>\n",
       "      <td>0.00</td>\n",
       "    </tr>\n",
       "    <tr>\n",
       "      <th>66018</th>\n",
       "      <td>17</td>\n",
       "      <td>17.00</td>\n",
       "      <td>0.00</td>\n",
       "    </tr>\n",
       "  </tbody>\n",
       "</table>\n",
       "</div>"
      ],
      "text/plain": [
       "       test  pred  Diff\n",
       "65856    35 34.98  0.02\n",
       "65883    24 25.52 -1.52\n",
       "65693    19 20.00 -1.00\n",
       "65708    19 19.22 -0.22\n",
       "65523    19 18.90  0.10\n",
       "65720    18 18.09 -0.09\n",
       "65719    18 18.09 -0.09\n",
       "65718    18 18.09 -0.09\n",
       "66363    33 17.77 15.23\n",
       "66002    33 17.77 15.23\n",
       "66160    18 17.76  0.24\n",
       "65926    16 17.73 -1.73\n",
       "65927    16 17.73 -1.73\n",
       "66161    18 17.66  0.34\n",
       "65954    10 17.55 -7.55\n",
       "65730    18 17.51  0.49\n",
       "65729    18 17.51  0.49\n",
       "65695    19 17.41  1.59\n",
       "65545    19 17.36  1.64\n",
       "66304    17 17.33 -0.33\n",
       "66306    19 17.33  1.67\n",
       "66307    17 17.33 -0.33\n",
       "66149    18 17.26  0.74\n",
       "66146    18 17.26  0.74\n",
       "65534    19 17.16  1.84\n",
       "65543    19 17.16  1.84\n",
       "65698    19 17.16  1.84\n",
       "65539    19 17.16  1.84\n",
       "65694    19 17.16  1.84\n",
       "65692    19 17.16  1.84\n",
       "65544    19 17.16  1.84\n",
       "65542    19 17.16  1.84\n",
       "65937    18 17.11  0.89\n",
       "65935    18 17.11  0.89\n",
       "65936    18 17.11  0.89\n",
       "66182    17 17.07 -0.07\n",
       "66188    17 17.07 -0.07\n",
       "65818    17 17.00  0.00\n",
       "65804    17 17.00  0.00\n",
       "65810    17 17.00  0.00\n",
       "65807    17 17.00  0.00\n",
       "65759    17 17.00  0.00\n",
       "65417    17 17.00  0.00\n",
       "65416    17 17.00  0.00\n",
       "65812    17 17.00  0.00\n",
       "65801    17 17.00  0.00\n",
       "65410    17 17.00  0.00\n",
       "66213    17 17.00  0.00\n",
       "66022    17 17.00  0.00\n",
       "66018    17 17.00  0.00"
      ]
     },
     "execution_count": 119,
     "metadata": {},
     "output_type": "execute_result"
    }
   ],
   "source": [
    "df_result.sort_values(by=\"pred\",ascending=False).head(50)"
   ]
  },
  {
   "cell_type": "code",
   "execution_count": 120,
   "id": "64010865",
   "metadata": {
    "execution": {
     "iopub.execute_input": "2023-04-28T06:44:27.046201Z",
     "iopub.status.busy": "2023-04-28T06:44:27.045748Z",
     "iopub.status.idle": "2023-04-28T06:44:27.051308Z",
     "shell.execute_reply": "2023-04-28T06:44:27.050215Z"
    },
    "papermill": {
     "duration": 0.056421,
     "end_time": "2023-04-28T06:44:27.053715",
     "exception": false,
     "start_time": "2023-04-28T06:44:26.997294",
     "status": "completed"
    },
    "tags": []
   },
   "outputs": [],
   "source": [
    "df_result[\"diff_round\"]=round(df_result[\"Diff\"],0)"
   ]
  },
  {
   "cell_type": "code",
   "execution_count": 121,
   "id": "66aad7b8",
   "metadata": {
    "execution": {
     "iopub.execute_input": "2023-04-28T06:44:27.148982Z",
     "iopub.status.busy": "2023-04-28T06:44:27.148157Z",
     "iopub.status.idle": "2023-04-28T06:44:27.159155Z",
     "shell.execute_reply": "2023-04-28T06:44:27.157810Z"
    },
    "papermill": {
     "duration": 0.061867,
     "end_time": "2023-04-28T06:44:27.161625",
     "exception": false,
     "start_time": "2023-04-28T06:44:27.099758",
     "status": "completed"
    },
    "tags": []
   },
   "outputs": [
    {
     "data": {
      "text/html": [
       "<div>\n",
       "<style scoped>\n",
       "    .dataframe tbody tr th:only-of-type {\n",
       "        vertical-align: middle;\n",
       "    }\n",
       "\n",
       "    .dataframe tbody tr th {\n",
       "        vertical-align: top;\n",
       "    }\n",
       "\n",
       "    .dataframe thead th {\n",
       "        text-align: right;\n",
       "    }\n",
       "</style>\n",
       "<table border=\"1\" class=\"dataframe\">\n",
       "  <thead>\n",
       "    <tr style=\"text-align: right;\">\n",
       "      <th></th>\n",
       "      <th>test</th>\n",
       "      <th>pred</th>\n",
       "      <th>Diff</th>\n",
       "      <th>diff_round</th>\n",
       "    </tr>\n",
       "  </thead>\n",
       "  <tbody>\n",
       "    <tr>\n",
       "      <th>65365</th>\n",
       "      <td>12</td>\n",
       "      <td>12.20</td>\n",
       "      <td>-0.20</td>\n",
       "      <td>-0.00</td>\n",
       "    </tr>\n",
       "    <tr>\n",
       "      <th>65366</th>\n",
       "      <td>4</td>\n",
       "      <td>4.71</td>\n",
       "      <td>-0.71</td>\n",
       "      <td>-1.00</td>\n",
       "    </tr>\n",
       "    <tr>\n",
       "      <th>65367</th>\n",
       "      <td>6</td>\n",
       "      <td>8.03</td>\n",
       "      <td>-2.03</td>\n",
       "      <td>-2.00</td>\n",
       "    </tr>\n",
       "    <tr>\n",
       "      <th>65368</th>\n",
       "      <td>18</td>\n",
       "      <td>14.55</td>\n",
       "      <td>3.45</td>\n",
       "      <td>3.00</td>\n",
       "    </tr>\n",
       "    <tr>\n",
       "      <th>65369</th>\n",
       "      <td>6</td>\n",
       "      <td>5.91</td>\n",
       "      <td>0.09</td>\n",
       "      <td>0.00</td>\n",
       "    </tr>\n",
       "  </tbody>\n",
       "</table>\n",
       "</div>"
      ],
      "text/plain": [
       "       test  pred  Diff  diff_round\n",
       "65365    12 12.20 -0.20       -0.00\n",
       "65366     4  4.71 -0.71       -1.00\n",
       "65367     6  8.03 -2.03       -2.00\n",
       "65368    18 14.55  3.45        3.00\n",
       "65369     6  5.91  0.09        0.00"
      ]
     },
     "execution_count": 121,
     "metadata": {},
     "output_type": "execute_result"
    }
   ],
   "source": [
    "df_result.head()"
   ]
  },
  {
   "cell_type": "code",
   "execution_count": 122,
   "id": "653ee8c3",
   "metadata": {
    "execution": {
     "iopub.execute_input": "2023-04-28T06:44:27.257573Z",
     "iopub.status.busy": "2023-04-28T06:44:27.257001Z",
     "iopub.status.idle": "2023-04-28T06:44:27.268338Z",
     "shell.execute_reply": "2023-04-28T06:44:27.267085Z"
    },
    "papermill": {
     "duration": 0.062159,
     "end_time": "2023-04-28T06:44:27.270723",
     "exception": false,
     "start_time": "2023-04-28T06:44:27.208564",
     "status": "completed"
    },
    "tags": []
   },
   "outputs": [
    {
     "data": {
      "text/plain": [
       "-0.00     365\n",
       "-1.00     113\n",
       "1.00       91\n",
       "-2.00      81\n",
       "2.00       71\n",
       "-3.00      33\n",
       "3.00       33\n",
       "-4.00      30\n",
       "4.00       25\n",
       "5.00       22\n",
       "-5.00      21\n",
       "-6.00      20\n",
       "-7.00      18\n",
       "7.00       13\n",
       "9.00       13\n",
       "-10.00      9\n",
       "-8.00       8\n",
       "6.00        7\n",
       "-9.00       6\n",
       "11.00       5\n",
       "8.00        5\n",
       "10.00       4\n",
       "-11.00      2\n",
       "15.00       2\n",
       "-12.00      1\n",
       "-13.00      1\n",
       "17.00       1\n",
       "Name: diff_round, dtype: int64"
      ]
     },
     "execution_count": 122,
     "metadata": {},
     "output_type": "execute_result"
    }
   ],
   "source": [
    "df_result[\"diff_round\"].value_counts()\n",
    "#1000"
   ]
  },
  {
   "cell_type": "code",
   "execution_count": 123,
   "id": "6e03bbea",
   "metadata": {
    "execution": {
     "iopub.execute_input": "2023-04-28T06:44:27.367548Z",
     "iopub.status.busy": "2023-04-28T06:44:27.366565Z",
     "iopub.status.idle": "2023-04-28T06:44:27.373913Z",
     "shell.execute_reply": "2023-04-28T06:44:27.372988Z"
    },
    "papermill": {
     "duration": 0.057832,
     "end_time": "2023-04-28T06:44:27.376664",
     "exception": false,
     "start_time": "2023-04-28T06:44:27.318832",
     "status": "completed"
    },
    "tags": []
   },
   "outputs": [
    {
     "data": {
      "text/plain": [
       "10.377540556447208"
      ]
     },
     "execution_count": 123,
     "metadata": {},
     "output_type": "execute_result"
    }
   ],
   "source": [
    "total=0\n",
    "for i in y_pred:\n",
    "    total+=i\n",
    "total/len(y_pred)    "
   ]
  },
  {
   "cell_type": "code",
   "execution_count": 124,
   "id": "f3eecc58",
   "metadata": {
    "execution": {
     "iopub.execute_input": "2023-04-28T06:44:27.473041Z",
     "iopub.status.busy": "2023-04-28T06:44:27.472593Z",
     "iopub.status.idle": "2023-04-28T06:44:27.480631Z",
     "shell.execute_reply": "2023-04-28T06:44:27.479381Z"
    },
    "papermill": {
     "duration": 0.059515,
     "end_time": "2023-04-28T06:44:27.483026",
     "exception": false,
     "start_time": "2023-04-28T06:44:27.423511",
     "status": "completed"
    },
    "tags": []
   },
   "outputs": [
    {
     "data": {
      "text/plain": [
       "10.246"
      ]
     },
     "execution_count": 124,
     "metadata": {},
     "output_type": "execute_result"
    }
   ],
   "source": [
    "total=0\n",
    "for i in y_test:\n",
    "    total+=i\n",
    "total/len(y_test)    "
   ]
  },
  {
   "cell_type": "code",
   "execution_count": 125,
   "id": "46921669",
   "metadata": {
    "execution": {
     "iopub.execute_input": "2023-04-28T06:44:27.592419Z",
     "iopub.status.busy": "2023-04-28T06:44:27.591647Z",
     "iopub.status.idle": "2023-04-28T06:44:27.779422Z",
     "shell.execute_reply": "2023-04-28T06:44:27.777983Z"
    },
    "papermill": {
     "duration": 0.243102,
     "end_time": "2023-04-28T06:44:27.782987",
     "exception": false,
     "start_time": "2023-04-28T06:44:27.539885",
     "status": "completed"
    },
    "tags": []
   },
   "outputs": [],
   "source": [
    "for index,row in df_result.iterrows():\n",
    "    opr=df_result[\"diff_round\"][index]\n",
    "    if df_result[\"diff_round\"][index]<0:\n",
    "        df_result[\"diff_round\"][index]*=-1\n"
   ]
  },
  {
   "cell_type": "code",
   "execution_count": 126,
   "id": "0f0a522b",
   "metadata": {
    "execution": {
     "iopub.execute_input": "2023-04-28T06:44:27.888159Z",
     "iopub.status.busy": "2023-04-28T06:44:27.887410Z",
     "iopub.status.idle": "2023-04-28T06:44:27.898132Z",
     "shell.execute_reply": "2023-04-28T06:44:27.895973Z"
    },
    "papermill": {
     "duration": 0.067216,
     "end_time": "2023-04-28T06:44:27.901004",
     "exception": false,
     "start_time": "2023-04-28T06:44:27.833788",
     "status": "completed"
    },
    "tags": []
   },
   "outputs": [
    {
     "data": {
      "text/plain": [
       "-0.00    365\n",
       "1.00     204\n",
       "2.00     152\n",
       "3.00      66\n",
       "4.00      55\n",
       "5.00      43\n",
       "7.00      31\n",
       "6.00      27\n",
       "9.00      19\n",
       "10.00     13\n",
       "8.00      13\n",
       "11.00      7\n",
       "15.00      2\n",
       "12.00      1\n",
       "13.00      1\n",
       "17.00      1\n",
       "Name: diff_round, dtype: int64"
      ]
     },
     "execution_count": 126,
     "metadata": {},
     "output_type": "execute_result"
    }
   ],
   "source": [
    "df_diff=df_result[\"diff_round\"].value_counts()\n",
    "df_diff"
   ]
  },
  {
   "cell_type": "code",
   "execution_count": 127,
   "id": "d84c6ee8",
   "metadata": {
    "execution": {
     "iopub.execute_input": "2023-04-28T06:44:28.011072Z",
     "iopub.status.busy": "2023-04-28T06:44:28.010442Z",
     "iopub.status.idle": "2023-04-28T06:44:28.027085Z",
     "shell.execute_reply": "2023-04-28T06:44:28.025931Z"
    },
    "papermill": {
     "duration": 0.070075,
     "end_time": "2023-04-28T06:44:28.029575",
     "exception": false,
     "start_time": "2023-04-28T06:44:27.959500",
     "status": "completed"
    },
    "tags": []
   },
   "outputs": [
    {
     "data": {
      "text/html": [
       "<div>\n",
       "<style scoped>\n",
       "    .dataframe tbody tr th:only-of-type {\n",
       "        vertical-align: middle;\n",
       "    }\n",
       "\n",
       "    .dataframe tbody tr th {\n",
       "        vertical-align: top;\n",
       "    }\n",
       "\n",
       "    .dataframe thead th {\n",
       "        text-align: right;\n",
       "    }\n",
       "</style>\n",
       "<table border=\"1\" class=\"dataframe\">\n",
       "  <thead>\n",
       "    <tr style=\"text-align: right;\">\n",
       "      <th></th>\n",
       "      <th>test</th>\n",
       "      <th>pred</th>\n",
       "      <th>Diff</th>\n",
       "      <th>diff_round</th>\n",
       "    </tr>\n",
       "  </thead>\n",
       "  <tbody>\n",
       "    <tr>\n",
       "      <th>65370</th>\n",
       "      <td>18</td>\n",
       "      <td>14.37</td>\n",
       "      <td>3.63</td>\n",
       "      <td>4.00</td>\n",
       "    </tr>\n",
       "    <tr>\n",
       "      <th>65372</th>\n",
       "      <td>7</td>\n",
       "      <td>11.96</td>\n",
       "      <td>-4.96</td>\n",
       "      <td>5.00</td>\n",
       "    </tr>\n",
       "    <tr>\n",
       "      <th>65373</th>\n",
       "      <td>6</td>\n",
       "      <td>11.96</td>\n",
       "      <td>-5.96</td>\n",
       "      <td>6.00</td>\n",
       "    </tr>\n",
       "    <tr>\n",
       "      <th>65377</th>\n",
       "      <td>7</td>\n",
       "      <td>12.73</td>\n",
       "      <td>-5.73</td>\n",
       "      <td>6.00</td>\n",
       "    </tr>\n",
       "    <tr>\n",
       "      <th>65378</th>\n",
       "      <td>7</td>\n",
       "      <td>11.28</td>\n",
       "      <td>-4.28</td>\n",
       "      <td>4.00</td>\n",
       "    </tr>\n",
       "    <tr>\n",
       "      <th>...</th>\n",
       "      <td>...</td>\n",
       "      <td>...</td>\n",
       "      <td>...</td>\n",
       "      <td>...</td>\n",
       "    </tr>\n",
       "    <tr>\n",
       "      <th>66357</th>\n",
       "      <td>16</td>\n",
       "      <td>6.70</td>\n",
       "      <td>9.30</td>\n",
       "      <td>9.00</td>\n",
       "    </tr>\n",
       "    <tr>\n",
       "      <th>66361</th>\n",
       "      <td>6</td>\n",
       "      <td>11.91</td>\n",
       "      <td>-5.91</td>\n",
       "      <td>6.00</td>\n",
       "    </tr>\n",
       "    <tr>\n",
       "      <th>66362</th>\n",
       "      <td>6</td>\n",
       "      <td>11.91</td>\n",
       "      <td>-5.91</td>\n",
       "      <td>6.00</td>\n",
       "    </tr>\n",
       "    <tr>\n",
       "      <th>66363</th>\n",
       "      <td>33</td>\n",
       "      <td>17.77</td>\n",
       "      <td>15.23</td>\n",
       "      <td>15.00</td>\n",
       "    </tr>\n",
       "    <tr>\n",
       "      <th>66364</th>\n",
       "      <td>33</td>\n",
       "      <td>15.99</td>\n",
       "      <td>17.01</td>\n",
       "      <td>17.00</td>\n",
       "    </tr>\n",
       "  </tbody>\n",
       "</table>\n",
       "<p>213 rows × 4 columns</p>\n",
       "</div>"
      ],
      "text/plain": [
       "       test  pred  Diff  diff_round\n",
       "65370    18 14.37  3.63        4.00\n",
       "65372     7 11.96 -4.96        5.00\n",
       "65373     6 11.96 -5.96        6.00\n",
       "65377     7 12.73 -5.73        6.00\n",
       "65378     7 11.28 -4.28        4.00\n",
       "...     ...   ...   ...         ...\n",
       "66357    16  6.70  9.30        9.00\n",
       "66361     6 11.91 -5.91        6.00\n",
       "66362     6 11.91 -5.91        6.00\n",
       "66363    33 17.77 15.23       15.00\n",
       "66364    33 15.99 17.01       17.00\n",
       "\n",
       "[213 rows x 4 columns]"
      ]
     },
     "execution_count": 127,
     "metadata": {},
     "output_type": "execute_result"
    }
   ],
   "source": [
    "df_result[df_result[\"diff_round\"]>3]"
   ]
  },
  {
   "cell_type": "code",
   "execution_count": 128,
   "id": "9f417d6d",
   "metadata": {
    "execution": {
     "iopub.execute_input": "2023-04-28T06:44:28.128627Z",
     "iopub.status.busy": "2023-04-28T06:44:28.128197Z",
     "iopub.status.idle": "2023-04-28T06:44:28.143968Z",
     "shell.execute_reply": "2023-04-28T06:44:28.142606Z"
    },
    "papermill": {
     "duration": 0.068545,
     "end_time": "2023-04-28T06:44:28.146547",
     "exception": false,
     "start_time": "2023-04-28T06:44:28.078002",
     "status": "completed"
    },
    "tags": []
   },
   "outputs": [
    {
     "data": {
      "text/html": [
       "<div>\n",
       "<style scoped>\n",
       "    .dataframe tbody tr th:only-of-type {\n",
       "        vertical-align: middle;\n",
       "    }\n",
       "\n",
       "    .dataframe tbody tr th {\n",
       "        vertical-align: top;\n",
       "    }\n",
       "\n",
       "    .dataframe thead th {\n",
       "        text-align: right;\n",
       "    }\n",
       "</style>\n",
       "<table border=\"1\" class=\"dataframe\">\n",
       "  <thead>\n",
       "    <tr style=\"text-align: right;\">\n",
       "      <th></th>\n",
       "      <th>FIRST_OP</th>\n",
       "      <th>WeekofYear</th>\n",
       "      <th>WeekDay</th>\n",
       "      <th>Hour</th>\n",
       "      <th>DG_IMO_CLASS_C</th>\n",
       "      <th>ımoORnot</th>\n",
       "      <th>SIZE_Q</th>\n",
       "      <th>OPERATOR_C</th>\n",
       "      <th>DayOfMonth</th>\n",
       "      <th>FIRST_OP_MONTH</th>\n",
       "      <th>DELIVERY_BOOKING_I</th>\n",
       "      <th>TYPE_C</th>\n",
       "      <th>Reefer</th>\n",
       "      <th>TOTAL_DWELL_DAYS</th>\n",
       "    </tr>\n",
       "  </thead>\n",
       "  <tbody>\n",
       "    <tr>\n",
       "      <th>65370</th>\n",
       "      <td>1</td>\n",
       "      <td>12</td>\n",
       "      <td>5</td>\n",
       "      <td>11</td>\n",
       "      <td>0</td>\n",
       "      <td>0</td>\n",
       "      <td>40</td>\n",
       "      <td>1</td>\n",
       "      <td>24</td>\n",
       "      <td>3</td>\n",
       "      <td>0</td>\n",
       "      <td>0</td>\n",
       "      <td>0</td>\n",
       "      <td>18</td>\n",
       "    </tr>\n",
       "    <tr>\n",
       "      <th>65371</th>\n",
       "      <td>1</td>\n",
       "      <td>12</td>\n",
       "      <td>5</td>\n",
       "      <td>10</td>\n",
       "      <td>0</td>\n",
       "      <td>0</td>\n",
       "      <td>40</td>\n",
       "      <td>7</td>\n",
       "      <td>24</td>\n",
       "      <td>3</td>\n",
       "      <td>0</td>\n",
       "      <td>2</td>\n",
       "      <td>1</td>\n",
       "      <td>9</td>\n",
       "    </tr>\n",
       "    <tr>\n",
       "      <th>65372</th>\n",
       "      <td>2</td>\n",
       "      <td>12</td>\n",
       "      <td>4</td>\n",
       "      <td>15</td>\n",
       "      <td>0</td>\n",
       "      <td>0</td>\n",
       "      <td>20</td>\n",
       "      <td>10</td>\n",
       "      <td>23</td>\n",
       "      <td>3</td>\n",
       "      <td>1</td>\n",
       "      <td>0</td>\n",
       "      <td>0</td>\n",
       "      <td>7</td>\n",
       "    </tr>\n",
       "    <tr>\n",
       "      <th>65373</th>\n",
       "      <td>2</td>\n",
       "      <td>12</td>\n",
       "      <td>4</td>\n",
       "      <td>15</td>\n",
       "      <td>0</td>\n",
       "      <td>0</td>\n",
       "      <td>20</td>\n",
       "      <td>10</td>\n",
       "      <td>23</td>\n",
       "      <td>3</td>\n",
       "      <td>1</td>\n",
       "      <td>0</td>\n",
       "      <td>0</td>\n",
       "      <td>6</td>\n",
       "    </tr>\n",
       "  </tbody>\n",
       "</table>\n",
       "</div>"
      ],
      "text/plain": [
       "       FIRST_OP  WeekofYear  WeekDay  Hour  DG_IMO_CLASS_C  ımoORnot  SIZE_Q  \\\n",
       "65370         1          12        5    11               0         0      40   \n",
       "65371         1          12        5    10               0         0      40   \n",
       "65372         2          12        4    15               0         0      20   \n",
       "65373         2          12        4    15               0         0      20   \n",
       "\n",
       "       OPERATOR_C  DayOfMonth  FIRST_OP_MONTH  DELIVERY_BOOKING_I  TYPE_C  \\\n",
       "65370           1          24               3                   0       0   \n",
       "65371           7          24               3                   0       2   \n",
       "65372          10          23               3                   1       0   \n",
       "65373          10          23               3                   1       0   \n",
       "\n",
       "       Reefer  TOTAL_DWELL_DAYS  \n",
       "65370       0                18  \n",
       "65371       1                 9  \n",
       "65372       0                 7  \n",
       "65373       0                 6  "
      ]
     },
     "execution_count": 128,
     "metadata": {},
     "output_type": "execute_result"
    }
   ],
   "source": [
    "df.iloc[65370:65374]"
   ]
  },
  {
   "cell_type": "code",
   "execution_count": 129,
   "id": "f07d42b9",
   "metadata": {
    "execution": {
     "iopub.execute_input": "2023-04-28T06:44:28.247248Z",
     "iopub.status.busy": "2023-04-28T06:44:28.246480Z",
     "iopub.status.idle": "2023-04-28T06:44:28.258921Z",
     "shell.execute_reply": "2023-04-28T06:44:28.257768Z"
    },
    "papermill": {
     "duration": 0.06596,
     "end_time": "2023-04-28T06:44:28.261480",
     "exception": false,
     "start_time": "2023-04-28T06:44:28.195520",
     "status": "completed"
    },
    "tags": []
   },
   "outputs": [
    {
     "data": {
      "text/plain": [
       "64694    18\n",
       "64877    14\n",
       "65372     7\n",
       "65373     6\n",
       "65565    18\n",
       "65568     5\n",
       "65569     7\n",
       "Name: TOTAL_DWELL_DAYS, dtype: int64"
      ]
     },
     "execution_count": 129,
     "metadata": {},
     "output_type": "execute_result"
    }
   ],
   "source": [
    "df[(df[\"OPERATOR_C\"]==10) & (df[\"WeekofYear\"]==12) & (df[\"SIZE_Q\"]==20) & (df[\"FIRST_OP\"]==2) & (df[\"WeekDay\"]==4) ][\"TOTAL_DWELL_DAYS\"]"
   ]
  },
  {
   "cell_type": "code",
   "execution_count": 130,
   "id": "2e997e07",
   "metadata": {
    "execution": {
     "iopub.execute_input": "2023-04-28T06:44:28.361643Z",
     "iopub.status.busy": "2023-04-28T06:44:28.360703Z",
     "iopub.status.idle": "2023-04-28T06:44:28.374103Z",
     "shell.execute_reply": "2023-04-28T06:44:28.372993Z"
    },
    "papermill": {
     "duration": 0.066797,
     "end_time": "2023-04-28T06:44:28.376661",
     "exception": false,
     "start_time": "2023-04-28T06:44:28.309864",
     "status": "completed"
    },
    "tags": []
   },
   "outputs": [
    {
     "data": {
      "text/plain": [
       "57304     3\n",
       "59041    18\n",
       "63080     5\n",
       "65362     4\n",
       "65368    18\n",
       "65370    18\n",
       "65971    18\n",
       "Name: TOTAL_DWELL_DAYS, dtype: int64"
      ]
     },
     "execution_count": 130,
     "metadata": {},
     "output_type": "execute_result"
    }
   ],
   "source": [
    "df[(df[\"OPERATOR_C\"]==1) & (df[\"WeekofYear\"]==12) & (df[\"SIZE_Q\"]==40) & (df[\"FIRST_OP\"]==1) & (df[\"WeekDay\"]==5) ][\"TOTAL_DWELL_DAYS\"]"
   ]
  },
  {
   "cell_type": "code",
   "execution_count": null,
   "id": "cebc579a",
   "metadata": {
    "papermill": {
     "duration": 0.04828,
     "end_time": "2023-04-28T06:44:28.475087",
     "exception": false,
     "start_time": "2023-04-28T06:44:28.426807",
     "status": "completed"
    },
    "tags": []
   },
   "outputs": [],
   "source": []
  },
  {
   "cell_type": "code",
   "execution_count": null,
   "id": "b99fbad3",
   "metadata": {
    "papermill": {
     "duration": 0.047775,
     "end_time": "2023-04-28T06:44:28.570477",
     "exception": false,
     "start_time": "2023-04-28T06:44:28.522702",
     "status": "completed"
    },
    "tags": []
   },
   "outputs": [],
   "source": []
  }
 ],
 "metadata": {
  "kernelspec": {
   "display_name": "Python 3",
   "language": "python",
   "name": "python3"
  },
  "language_info": {
   "codemirror_mode": {
    "name": "ipython",
    "version": 3
   },
   "file_extension": ".py",
   "mimetype": "text/x-python",
   "name": "python",
   "nbconvert_exporter": "python",
   "pygments_lexer": "ipython3",
   "version": "3.7.12"
  },
  "papermill": {
   "default_parameters": {},
   "duration": 285.822177,
   "end_time": "2023-04-28T06:44:29.654283",
   "environment_variables": {},
   "exception": null,
   "input_path": "__notebook__.ipynb",
   "output_path": "__notebook__.ipynb",
   "parameters": {},
   "start_time": "2023-04-28T06:39:43.832106",
   "version": "2.4.0"
  }
 },
 "nbformat": 4,
 "nbformat_minor": 5
}
